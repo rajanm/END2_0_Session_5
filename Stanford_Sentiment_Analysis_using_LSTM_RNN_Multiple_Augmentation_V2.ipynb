{
  "nbformat": 4,
  "nbformat_minor": 0,
  "metadata": {
    "colab": {
      "name": "Stanford Sentiment Analysis using LSTM RNN - Multiple Augmentation V2.ipynb",
      "provenance": [],
      "collapsed_sections": [
        "1AbsQwqkVyAy",
        "0qMZfpFHwGnx",
        "t3BExxED0Iww"
      ],
      "include_colab_link": true
    },
    "kernelspec": {
      "display_name": "Python 3",
      "name": "python3"
    },
    "accelerator": "GPU",
    "widgets": {
      "application/vnd.jupyter.widget-state+json": {
        "4707e1fcc4b647b597423378e3624e4d": {
          "model_module": "@jupyter-widgets/controls",
          "model_name": "HBoxModel",
          "state": {
            "_view_name": "HBoxView",
            "_dom_classes": [],
            "_model_name": "HBoxModel",
            "_view_module": "@jupyter-widgets/controls",
            "_model_module_version": "1.5.0",
            "_view_count": null,
            "_view_module_version": "1.5.0",
            "box_style": "",
            "layout": "IPY_MODEL_38a15371e74a494ea8d2ad19e6a804ed",
            "_model_module": "@jupyter-widgets/controls",
            "children": [
              "IPY_MODEL_9c1fa3ba6020427886faab41db70d764",
              "IPY_MODEL_96a77344612d492583e064f08498736f"
            ]
          }
        },
        "38a15371e74a494ea8d2ad19e6a804ed": {
          "model_module": "@jupyter-widgets/base",
          "model_name": "LayoutModel",
          "state": {
            "_view_name": "LayoutView",
            "grid_template_rows": null,
            "right": null,
            "justify_content": null,
            "_view_module": "@jupyter-widgets/base",
            "overflow": null,
            "_model_module_version": "1.2.0",
            "_view_count": null,
            "flex_flow": null,
            "width": null,
            "min_width": null,
            "border": null,
            "align_items": null,
            "bottom": null,
            "_model_module": "@jupyter-widgets/base",
            "top": null,
            "grid_column": null,
            "overflow_y": null,
            "overflow_x": null,
            "grid_auto_flow": null,
            "grid_area": null,
            "grid_template_columns": null,
            "flex": null,
            "_model_name": "LayoutModel",
            "justify_items": null,
            "grid_row": null,
            "max_height": null,
            "align_content": null,
            "visibility": null,
            "align_self": null,
            "height": null,
            "min_height": null,
            "padding": null,
            "grid_auto_rows": null,
            "grid_gap": null,
            "max_width": null,
            "order": null,
            "_view_module_version": "1.2.0",
            "grid_template_areas": null,
            "object_position": null,
            "object_fit": null,
            "grid_auto_columns": null,
            "margin": null,
            "display": null,
            "left": null
          }
        },
        "9c1fa3ba6020427886faab41db70d764": {
          "model_module": "@jupyter-widgets/controls",
          "model_name": "FloatProgressModel",
          "state": {
            "_view_name": "ProgressView",
            "style": "IPY_MODEL_2a0bc394d9174b25baa5b0c37a4c6645",
            "_dom_classes": [],
            "description": "100%",
            "_model_name": "FloatProgressModel",
            "bar_style": "success",
            "max": 239232,
            "_view_module": "@jupyter-widgets/controls",
            "_model_module_version": "1.5.0",
            "value": 239232,
            "_view_count": null,
            "_view_module_version": "1.5.0",
            "orientation": "horizontal",
            "min": 0,
            "description_tooltip": null,
            "_model_module": "@jupyter-widgets/controls",
            "layout": "IPY_MODEL_2507e67727ba47a0bb1c4955446bf4aa"
          }
        },
        "96a77344612d492583e064f08498736f": {
          "model_module": "@jupyter-widgets/controls",
          "model_name": "HTMLModel",
          "state": {
            "_view_name": "HTMLView",
            "style": "IPY_MODEL_273ec23a7ab74a24bc1875cddbf82072",
            "_dom_classes": [],
            "description": "",
            "_model_name": "HTMLModel",
            "placeholder": "​",
            "_view_module": "@jupyter-widgets/controls",
            "_model_module_version": "1.5.0",
            "value": " 239232/239232 [00:07&lt;00:00, 31763.08it/s]",
            "_view_count": null,
            "_view_module_version": "1.5.0",
            "description_tooltip": null,
            "_model_module": "@jupyter-widgets/controls",
            "layout": "IPY_MODEL_cc4508870349400b8ee4cccf96ba0431"
          }
        },
        "2a0bc394d9174b25baa5b0c37a4c6645": {
          "model_module": "@jupyter-widgets/controls",
          "model_name": "ProgressStyleModel",
          "state": {
            "_view_name": "StyleView",
            "_model_name": "ProgressStyleModel",
            "description_width": "initial",
            "_view_module": "@jupyter-widgets/base",
            "_model_module_version": "1.5.0",
            "_view_count": null,
            "_view_module_version": "1.2.0",
            "bar_color": null,
            "_model_module": "@jupyter-widgets/controls"
          }
        },
        "2507e67727ba47a0bb1c4955446bf4aa": {
          "model_module": "@jupyter-widgets/base",
          "model_name": "LayoutModel",
          "state": {
            "_view_name": "LayoutView",
            "grid_template_rows": null,
            "right": null,
            "justify_content": null,
            "_view_module": "@jupyter-widgets/base",
            "overflow": null,
            "_model_module_version": "1.2.0",
            "_view_count": null,
            "flex_flow": null,
            "width": null,
            "min_width": null,
            "border": null,
            "align_items": null,
            "bottom": null,
            "_model_module": "@jupyter-widgets/base",
            "top": null,
            "grid_column": null,
            "overflow_y": null,
            "overflow_x": null,
            "grid_auto_flow": null,
            "grid_area": null,
            "grid_template_columns": null,
            "flex": null,
            "_model_name": "LayoutModel",
            "justify_items": null,
            "grid_row": null,
            "max_height": null,
            "align_content": null,
            "visibility": null,
            "align_self": null,
            "height": null,
            "min_height": null,
            "padding": null,
            "grid_auto_rows": null,
            "grid_gap": null,
            "max_width": null,
            "order": null,
            "_view_module_version": "1.2.0",
            "grid_template_areas": null,
            "object_position": null,
            "object_fit": null,
            "grid_auto_columns": null,
            "margin": null,
            "display": null,
            "left": null
          }
        },
        "273ec23a7ab74a24bc1875cddbf82072": {
          "model_module": "@jupyter-widgets/controls",
          "model_name": "DescriptionStyleModel",
          "state": {
            "_view_name": "StyleView",
            "_model_name": "DescriptionStyleModel",
            "description_width": "",
            "_view_module": "@jupyter-widgets/base",
            "_model_module_version": "1.5.0",
            "_view_count": null,
            "_view_module_version": "1.2.0",
            "_model_module": "@jupyter-widgets/controls"
          }
        },
        "cc4508870349400b8ee4cccf96ba0431": {
          "model_module": "@jupyter-widgets/base",
          "model_name": "LayoutModel",
          "state": {
            "_view_name": "LayoutView",
            "grid_template_rows": null,
            "right": null,
            "justify_content": null,
            "_view_module": "@jupyter-widgets/base",
            "overflow": null,
            "_model_module_version": "1.2.0",
            "_view_count": null,
            "flex_flow": null,
            "width": null,
            "min_width": null,
            "border": null,
            "align_items": null,
            "bottom": null,
            "_model_module": "@jupyter-widgets/base",
            "top": null,
            "grid_column": null,
            "overflow_y": null,
            "overflow_x": null,
            "grid_auto_flow": null,
            "grid_area": null,
            "grid_template_columns": null,
            "flex": null,
            "_model_name": "LayoutModel",
            "justify_items": null,
            "grid_row": null,
            "max_height": null,
            "align_content": null,
            "visibility": null,
            "align_self": null,
            "height": null,
            "min_height": null,
            "padding": null,
            "grid_auto_rows": null,
            "grid_gap": null,
            "max_width": null,
            "order": null,
            "_view_module_version": "1.2.0",
            "grid_template_areas": null,
            "object_position": null,
            "object_fit": null,
            "grid_auto_columns": null,
            "margin": null,
            "display": null,
            "left": null
          }
        }
      }
    }
  },
  "cells": [
    {
      "cell_type": "markdown",
      "metadata": {
        "id": "view-in-github",
        "colab_type": "text"
      },
      "source": [
        "<a href=\"https://colab.research.google.com/github/rajanm/END2_0_Session_5/blob/main/Stanford_Sentiment_Analysis_using_LSTM_RNN_Multiple_Augmentation_V2.ipynb\" target=\"_parent\"><img src=\"https://colab.research.google.com/assets/colab-badge.svg\" alt=\"Open In Colab\"/></a>"
      ]
    },
    {
      "cell_type": "markdown",
      "metadata": {
        "id": "tp5IzBGsPGHs"
      },
      "source": [
        "### Setup ###\n",
        "\n",
        "Your first step to deep learning in NLP. We will be mostly using PyTorch. Just like torchvision, PyTorch provides an official library, torchtext, for handling text-processing pipelines. \n",
        "\n",
        "We will be using previous session tweet dataset. Let's just preview the dataset."
      ]
    },
    {
      "cell_type": "code",
      "metadata": {
        "colab": {
          "base_uri": "https://localhost:8080/"
        },
        "id": "r_Z2Q2rvdrKy",
        "outputId": "cfe2d854-e2c5-435e-fdd2-04aca260ea25"
      },
      "source": [
        "!nvidia-smi"
      ],
      "execution_count": 4,
      "outputs": [
        {
          "output_type": "stream",
          "text": [
            "Tue Jun  8 14:09:53 2021       \n",
            "+-----------------------------------------------------------------------------+\n",
            "| NVIDIA-SMI 465.27       Driver Version: 460.32.03    CUDA Version: 11.2     |\n",
            "|-------------------------------+----------------------+----------------------+\n",
            "| GPU  Name        Persistence-M| Bus-Id        Disp.A | Volatile Uncorr. ECC |\n",
            "| Fan  Temp  Perf  Pwr:Usage/Cap|         Memory-Usage | GPU-Util  Compute M. |\n",
            "|                               |                      |               MIG M. |\n",
            "|===============================+======================+======================|\n",
            "|   0  Tesla T4            Off  | 00000000:00:04.0 Off |                    0 |\n",
            "| N/A   33C    P8     9W /  70W |      0MiB / 15109MiB |      0%      Default |\n",
            "|                               |                      |                  N/A |\n",
            "+-------------------------------+----------------------+----------------------+\n",
            "                                                                               \n",
            "+-----------------------------------------------------------------------------+\n",
            "| Processes:                                                                  |\n",
            "|  GPU   GI   CI        PID   Type   Process name                  GPU Memory |\n",
            "|        ID   ID                                                   Usage      |\n",
            "|=============================================================================|\n",
            "|  No running processes found                                                 |\n",
            "+-----------------------------------------------------------------------------+\n"
          ],
          "name": "stdout"
        }
      ]
    },
    {
      "cell_type": "code",
      "metadata": {
        "id": "o1-Yz-5RRFYc"
      },
      "source": [
        "import pandas as pd"
      ],
      "execution_count": 5,
      "outputs": []
    },
    {
      "cell_type": "code",
      "metadata": {
        "colab": {
          "base_uri": "https://localhost:8080/"
        },
        "id": "QD2pSpTbUmaF",
        "outputId": "a99bc735-51e8-4a93-f639-47aa5aca03da"
      },
      "source": [
        "!ls -alh"
      ],
      "execution_count": 6,
      "outputs": [
        {
          "output_type": "stream",
          "text": [
            "total 24M\n",
            "drwxr-xr-x 1 root root 4.0K Jun  8 14:09 .\n",
            "drwxr-xr-x 1 root root 4.0K Jun  8 14:04 ..\n",
            "drwxr-xr-x 4 root root 4.0K Jun  1 13:40 .config\n",
            "-rw-r--r-- 1 root root 3.7M Jun  8 14:07 input_dataset_aug_synonym.csv\n",
            "-rw-r--r-- 1 root root 3.6M Jun  8 14:07 input_dataset.csv\n",
            "-rw-r--r-- 1 root root 3.6M Jun  8 14:07 input_dataset_random_spell.csv\n",
            "-rw-r--r-- 1 root root 3.3M Jun  8 14:07 input_dataset_random_word_del.csv\n",
            "-rw-r--r-- 1 root root 3.6M Jun  8 14:07 input_dataset_random_word_swap.csv\n",
            "drwxr-xr-x 2 root root 4.0K Jun  8 14:09 .ipynb_checkpoints\n",
            "drwxrwxr-x 3 root root 4.0K Oct  9  2013 __MACOSX\n",
            "drwxr-xr-x 1 root root 4.0K Jun  1 13:40 sample_data\n",
            "drwxr-xr-x 2 root root 4.0K Jun  8 14:09 stanfordSentimentTreebank\n",
            "-rw-r--r-- 1 root root 6.1M Oct  9  2013 stanfordSentimentTreebank.zip\n"
          ],
          "name": "stdout"
        }
      ]
    },
    {
      "cell_type": "code",
      "metadata": {
        "id": "0--BTAzKEg2T"
      },
      "source": [
        "TEXT_COL, LABEL_COL = 'text', 'label'\n",
        "DATASET_DIR = \"/content/\""
      ],
      "execution_count": 7,
      "outputs": []
    },
    {
      "cell_type": "code",
      "metadata": {
        "colab": {
          "base_uri": "https://localhost:8080/"
        },
        "id": "DZ_Fl8ScAu5w",
        "outputId": "12bae3f6-8bf5-41e8-d0ed-9ba92ec3cf1e"
      },
      "source": [
        "!pip install nlpaug\n",
        "!pip install swifter\n",
        "!pip install gdown"
      ],
      "execution_count": 8,
      "outputs": [
        {
          "output_type": "stream",
          "text": [
            "Requirement already satisfied: nlpaug in /usr/local/lib/python3.7/dist-packages (1.1.3)\n",
            "Requirement already satisfied: swifter in /usr/local/lib/python3.7/dist-packages (1.0.7)\n",
            "Requirement already satisfied: ipywidgets>=7.0.0cloudpickle>=0.2.2 in /usr/local/lib/python3.7/dist-packages (from swifter) (7.6.3)\n",
            "Requirement already satisfied: dask[dataframe]>=2.10.0 in /usr/local/lib/python3.7/dist-packages (from swifter) (2.12.0)\n",
            "Requirement already satisfied: pandas>=1.0.0 in /usr/local/lib/python3.7/dist-packages (from swifter) (1.1.5)\n",
            "Requirement already satisfied: modin[ray]>=0.8.1.1 in /usr/local/lib/python3.7/dist-packages (from swifter) (0.9.1)\n",
            "Requirement already satisfied: parso>0.4.0 in /usr/local/lib/python3.7/dist-packages (from swifter) (0.8.2)\n",
            "Requirement already satisfied: tqdm>=4.33.0 in /usr/local/lib/python3.7/dist-packages (from swifter) (4.41.1)\n",
            "Requirement already satisfied: psutil>=5.6.6 in /usr/local/lib/python3.7/dist-packages (from swifter) (5.8.0)\n",
            "Requirement already satisfied: bleach>=3.1.1 in /usr/local/lib/python3.7/dist-packages (from swifter) (3.3.0)\n",
            "Requirement already satisfied: ipython>=4.0.0; python_version >= \"3.3\" in /usr/local/lib/python3.7/dist-packages (from ipywidgets>=7.0.0cloudpickle>=0.2.2->swifter) (5.5.0)\n",
            "Requirement already satisfied: traitlets>=4.3.1 in /usr/local/lib/python3.7/dist-packages (from ipywidgets>=7.0.0cloudpickle>=0.2.2->swifter) (5.0.5)\n",
            "Requirement already satisfied: jupyterlab-widgets>=1.0.0; python_version >= \"3.6\" in /usr/local/lib/python3.7/dist-packages (from ipywidgets>=7.0.0cloudpickle>=0.2.2->swifter) (1.0.0)\n",
            "Requirement already satisfied: nbformat>=4.2.0 in /usr/local/lib/python3.7/dist-packages (from ipywidgets>=7.0.0cloudpickle>=0.2.2->swifter) (5.1.3)\n",
            "Requirement already satisfied: widgetsnbextension~=3.5.0 in /usr/local/lib/python3.7/dist-packages (from ipywidgets>=7.0.0cloudpickle>=0.2.2->swifter) (3.5.1)\n",
            "Requirement already satisfied: ipykernel>=4.5.1 in /usr/local/lib/python3.7/dist-packages (from ipywidgets>=7.0.0cloudpickle>=0.2.2->swifter) (4.10.1)\n",
            "Requirement already satisfied: fsspec>=0.6.0; extra == \"dataframe\" in /usr/local/lib/python3.7/dist-packages (from dask[dataframe]>=2.10.0->swifter) (2021.6.0)\n",
            "Requirement already satisfied: toolz>=0.7.3; extra == \"dataframe\" in /usr/local/lib/python3.7/dist-packages (from dask[dataframe]>=2.10.0->swifter) (0.11.1)\n",
            "Requirement already satisfied: numpy>=1.13.0; extra == \"dataframe\" in /usr/local/lib/python3.7/dist-packages (from dask[dataframe]>=2.10.0->swifter) (1.19.5)\n",
            "Requirement already satisfied: partd>=0.3.10; extra == \"dataframe\" in /usr/local/lib/python3.7/dist-packages (from dask[dataframe]>=2.10.0->swifter) (1.2.0)\n",
            "Requirement already satisfied: python-dateutil>=2.7.3 in /usr/local/lib/python3.7/dist-packages (from pandas>=1.0.0->swifter) (2.8.1)\n",
            "Requirement already satisfied: pytz>=2017.2 in /usr/local/lib/python3.7/dist-packages (from pandas>=1.0.0->swifter) (2018.9)\n",
            "Requirement already satisfied: packaging in /usr/local/lib/python3.7/dist-packages (from modin[ray]>=0.8.1.1->swifter) (20.9)\n",
            "Requirement already satisfied: ray<1.2.0,>=1.0.0; extra == \"ray\" in /usr/local/lib/python3.7/dist-packages (from modin[ray]>=0.8.1.1->swifter) (1.1.0)\n",
            "Requirement already satisfied: pyarrow==1.0; extra == \"ray\" in /usr/local/lib/python3.7/dist-packages (from modin[ray]>=0.8.1.1->swifter) (1.0.0)\n",
            "Requirement already satisfied: webencodings in /usr/local/lib/python3.7/dist-packages (from bleach>=3.1.1->swifter) (0.5.1)\n",
            "Requirement already satisfied: six>=1.9.0 in /usr/local/lib/python3.7/dist-packages (from bleach>=3.1.1->swifter) (1.15.0)\n",
            "Requirement already satisfied: simplegeneric>0.8 in /usr/local/lib/python3.7/dist-packages (from ipython>=4.0.0; python_version >= \"3.3\"->ipywidgets>=7.0.0cloudpickle>=0.2.2->swifter) (0.8.1)\n",
            "Requirement already satisfied: pygments in /usr/local/lib/python3.7/dist-packages (from ipython>=4.0.0; python_version >= \"3.3\"->ipywidgets>=7.0.0cloudpickle>=0.2.2->swifter) (2.6.1)\n",
            "Requirement already satisfied: pexpect; sys_platform != \"win32\" in /usr/local/lib/python3.7/dist-packages (from ipython>=4.0.0; python_version >= \"3.3\"->ipywidgets>=7.0.0cloudpickle>=0.2.2->swifter) (4.8.0)\n",
            "Requirement already satisfied: decorator in /usr/local/lib/python3.7/dist-packages (from ipython>=4.0.0; python_version >= \"3.3\"->ipywidgets>=7.0.0cloudpickle>=0.2.2->swifter) (4.4.2)\n",
            "Requirement already satisfied: prompt-toolkit<2.0.0,>=1.0.4 in /usr/local/lib/python3.7/dist-packages (from ipython>=4.0.0; python_version >= \"3.3\"->ipywidgets>=7.0.0cloudpickle>=0.2.2->swifter) (1.0.18)\n",
            "Requirement already satisfied: setuptools>=18.5 in /usr/local/lib/python3.7/dist-packages (from ipython>=4.0.0; python_version >= \"3.3\"->ipywidgets>=7.0.0cloudpickle>=0.2.2->swifter) (57.0.0)\n",
            "Requirement already satisfied: pickleshare in /usr/local/lib/python3.7/dist-packages (from ipython>=4.0.0; python_version >= \"3.3\"->ipywidgets>=7.0.0cloudpickle>=0.2.2->swifter) (0.7.5)\n",
            "Requirement already satisfied: ipython-genutils in /usr/local/lib/python3.7/dist-packages (from traitlets>=4.3.1->ipywidgets>=7.0.0cloudpickle>=0.2.2->swifter) (0.2.0)\n",
            "Requirement already satisfied: jsonschema!=2.5.0,>=2.4 in /usr/local/lib/python3.7/dist-packages (from nbformat>=4.2.0->ipywidgets>=7.0.0cloudpickle>=0.2.2->swifter) (2.6.0)\n",
            "Requirement already satisfied: jupyter-core in /usr/local/lib/python3.7/dist-packages (from nbformat>=4.2.0->ipywidgets>=7.0.0cloudpickle>=0.2.2->swifter) (4.7.1)\n",
            "Requirement already satisfied: notebook>=4.4.1 in /usr/local/lib/python3.7/dist-packages (from widgetsnbextension~=3.5.0->ipywidgets>=7.0.0cloudpickle>=0.2.2->swifter) (5.3.1)\n",
            "Requirement already satisfied: tornado>=4.0 in /usr/local/lib/python3.7/dist-packages (from ipykernel>=4.5.1->ipywidgets>=7.0.0cloudpickle>=0.2.2->swifter) (5.1.1)\n",
            "Requirement already satisfied: jupyter-client in /usr/local/lib/python3.7/dist-packages (from ipykernel>=4.5.1->ipywidgets>=7.0.0cloudpickle>=0.2.2->swifter) (5.3.5)\n",
            "Requirement already satisfied: locket in /usr/local/lib/python3.7/dist-packages (from partd>=0.3.10; extra == \"dataframe\"->dask[dataframe]>=2.10.0->swifter) (0.2.1)\n",
            "Requirement already satisfied: pyparsing>=2.0.2 in /usr/local/lib/python3.7/dist-packages (from packaging->modin[ray]>=0.8.1.1->swifter) (2.4.7)\n",
            "Requirement already satisfied: filelock in /usr/local/lib/python3.7/dist-packages (from ray<1.2.0,>=1.0.0; extra == \"ray\"->modin[ray]>=0.8.1.1->swifter) (3.0.12)\n",
            "Requirement already satisfied: py-spy>=0.2.0 in /usr/local/lib/python3.7/dist-packages (from ray<1.2.0,>=1.0.0; extra == \"ray\"->modin[ray]>=0.8.1.1->swifter) (0.3.7)\n",
            "Requirement already satisfied: requests in /usr/local/lib/python3.7/dist-packages (from ray<1.2.0,>=1.0.0; extra == \"ray\"->modin[ray]>=0.8.1.1->swifter) (2.23.0)\n",
            "Requirement already satisfied: colorful in /usr/local/lib/python3.7/dist-packages (from ray<1.2.0,>=1.0.0; extra == \"ray\"->modin[ray]>=0.8.1.1->swifter) (0.5.4)\n",
            "Requirement already satisfied: aiohttp-cors in /usr/local/lib/python3.7/dist-packages (from ray<1.2.0,>=1.0.0; extra == \"ray\"->modin[ray]>=0.8.1.1->swifter) (0.7.0)\n",
            "Requirement already satisfied: colorama in /usr/local/lib/python3.7/dist-packages (from ray<1.2.0,>=1.0.0; extra == \"ray\"->modin[ray]>=0.8.1.1->swifter) (0.4.4)\n",
            "Requirement already satisfied: aiohttp in /usr/local/lib/python3.7/dist-packages (from ray<1.2.0,>=1.0.0; extra == \"ray\"->modin[ray]>=0.8.1.1->swifter) (3.7.4.post0)\n",
            "Requirement already satisfied: msgpack<2.0.0,>=1.0.0 in /usr/local/lib/python3.7/dist-packages (from ray<1.2.0,>=1.0.0; extra == \"ray\"->modin[ray]>=0.8.1.1->swifter) (1.0.2)\n",
            "Requirement already satisfied: grpcio>=1.28.1 in /usr/local/lib/python3.7/dist-packages (from ray<1.2.0,>=1.0.0; extra == \"ray\"->modin[ray]>=0.8.1.1->swifter) (1.34.1)\n",
            "Requirement already satisfied: gpustat in /usr/local/lib/python3.7/dist-packages (from ray<1.2.0,>=1.0.0; extra == \"ray\"->modin[ray]>=0.8.1.1->swifter) (0.6.0)\n",
            "Requirement already satisfied: redis>=3.5.0 in /usr/local/lib/python3.7/dist-packages (from ray<1.2.0,>=1.0.0; extra == \"ray\"->modin[ray]>=0.8.1.1->swifter) (3.5.3)\n",
            "Requirement already satisfied: opencensus in /usr/local/lib/python3.7/dist-packages (from ray<1.2.0,>=1.0.0; extra == \"ray\"->modin[ray]>=0.8.1.1->swifter) (0.7.13)\n",
            "Requirement already satisfied: click>=7.0 in /usr/local/lib/python3.7/dist-packages (from ray<1.2.0,>=1.0.0; extra == \"ray\"->modin[ray]>=0.8.1.1->swifter) (7.1.2)\n",
            "Requirement already satisfied: pyyaml in /usr/local/lib/python3.7/dist-packages (from ray<1.2.0,>=1.0.0; extra == \"ray\"->modin[ray]>=0.8.1.1->swifter) (5.4.1)\n",
            "Requirement already satisfied: aioredis in /usr/local/lib/python3.7/dist-packages (from ray<1.2.0,>=1.0.0; extra == \"ray\"->modin[ray]>=0.8.1.1->swifter) (1.3.1)\n",
            "Requirement already satisfied: protobuf>=3.8.0 in /usr/local/lib/python3.7/dist-packages (from ray<1.2.0,>=1.0.0; extra == \"ray\"->modin[ray]>=0.8.1.1->swifter) (3.12.4)\n",
            "Requirement already satisfied: prometheus-client>=0.7.1 in /usr/local/lib/python3.7/dist-packages (from ray<1.2.0,>=1.0.0; extra == \"ray\"->modin[ray]>=0.8.1.1->swifter) (0.10.1)\n",
            "Requirement already satisfied: ptyprocess>=0.5 in /usr/local/lib/python3.7/dist-packages (from pexpect; sys_platform != \"win32\"->ipython>=4.0.0; python_version >= \"3.3\"->ipywidgets>=7.0.0cloudpickle>=0.2.2->swifter) (0.7.0)\n",
            "Requirement already satisfied: wcwidth in /usr/local/lib/python3.7/dist-packages (from prompt-toolkit<2.0.0,>=1.0.4->ipython>=4.0.0; python_version >= \"3.3\"->ipywidgets>=7.0.0cloudpickle>=0.2.2->swifter) (0.2.5)\n",
            "Requirement already satisfied: Send2Trash in /usr/local/lib/python3.7/dist-packages (from notebook>=4.4.1->widgetsnbextension~=3.5.0->ipywidgets>=7.0.0cloudpickle>=0.2.2->swifter) (1.5.0)\n",
            "Requirement already satisfied: terminado>=0.8.1 in /usr/local/lib/python3.7/dist-packages (from notebook>=4.4.1->widgetsnbextension~=3.5.0->ipywidgets>=7.0.0cloudpickle>=0.2.2->swifter) (0.10.0)\n",
            "Requirement already satisfied: nbconvert in /usr/local/lib/python3.7/dist-packages (from notebook>=4.4.1->widgetsnbextension~=3.5.0->ipywidgets>=7.0.0cloudpickle>=0.2.2->swifter) (5.6.1)\n",
            "Requirement already satisfied: jinja2 in /usr/local/lib/python3.7/dist-packages (from notebook>=4.4.1->widgetsnbextension~=3.5.0->ipywidgets>=7.0.0cloudpickle>=0.2.2->swifter) (2.11.3)\n",
            "Requirement already satisfied: pyzmq>=13 in /usr/local/lib/python3.7/dist-packages (from jupyter-client->ipykernel>=4.5.1->ipywidgets>=7.0.0cloudpickle>=0.2.2->swifter) (22.0.3)\n",
            "Requirement already satisfied: chardet<4,>=3.0.2 in /usr/local/lib/python3.7/dist-packages (from requests->ray<1.2.0,>=1.0.0; extra == \"ray\"->modin[ray]>=0.8.1.1->swifter) (3.0.4)\n",
            "Requirement already satisfied: idna<3,>=2.5 in /usr/local/lib/python3.7/dist-packages (from requests->ray<1.2.0,>=1.0.0; extra == \"ray\"->modin[ray]>=0.8.1.1->swifter) (2.10)\n",
            "Requirement already satisfied: certifi>=2017.4.17 in /usr/local/lib/python3.7/dist-packages (from requests->ray<1.2.0,>=1.0.0; extra == \"ray\"->modin[ray]>=0.8.1.1->swifter) (2020.12.5)\n",
            "Requirement already satisfied: urllib3!=1.25.0,!=1.25.1,<1.26,>=1.21.1 in /usr/local/lib/python3.7/dist-packages (from requests->ray<1.2.0,>=1.0.0; extra == \"ray\"->modin[ray]>=0.8.1.1->swifter) (1.24.3)\n",
            "Requirement already satisfied: typing-extensions>=3.6.5 in /usr/local/lib/python3.7/dist-packages (from aiohttp->ray<1.2.0,>=1.0.0; extra == \"ray\"->modin[ray]>=0.8.1.1->swifter) (3.7.4.3)\n",
            "Requirement already satisfied: yarl<2.0,>=1.0 in /usr/local/lib/python3.7/dist-packages (from aiohttp->ray<1.2.0,>=1.0.0; extra == \"ray\"->modin[ray]>=0.8.1.1->swifter) (1.6.3)\n",
            "Requirement already satisfied: attrs>=17.3.0 in /usr/local/lib/python3.7/dist-packages (from aiohttp->ray<1.2.0,>=1.0.0; extra == \"ray\"->modin[ray]>=0.8.1.1->swifter) (21.2.0)\n",
            "Requirement already satisfied: multidict<7.0,>=4.5 in /usr/local/lib/python3.7/dist-packages (from aiohttp->ray<1.2.0,>=1.0.0; extra == \"ray\"->modin[ray]>=0.8.1.1->swifter) (5.1.0)\n",
            "Requirement already satisfied: async-timeout<4.0,>=3.0 in /usr/local/lib/python3.7/dist-packages (from aiohttp->ray<1.2.0,>=1.0.0; extra == \"ray\"->modin[ray]>=0.8.1.1->swifter) (3.0.1)\n",
            "Requirement already satisfied: nvidia-ml-py3>=7.352.0 in /usr/local/lib/python3.7/dist-packages (from gpustat->ray<1.2.0,>=1.0.0; extra == \"ray\"->modin[ray]>=0.8.1.1->swifter) (7.352.0)\n",
            "Requirement already satisfied: blessings>=1.6 in /usr/local/lib/python3.7/dist-packages (from gpustat->ray<1.2.0,>=1.0.0; extra == \"ray\"->modin[ray]>=0.8.1.1->swifter) (1.7)\n",
            "Requirement already satisfied: opencensus-context==0.1.2 in /usr/local/lib/python3.7/dist-packages (from opencensus->ray<1.2.0,>=1.0.0; extra == \"ray\"->modin[ray]>=0.8.1.1->swifter) (0.1.2)\n",
            "Requirement already satisfied: google-api-core<2.0.0,>=1.0.0 in /usr/local/lib/python3.7/dist-packages (from opencensus->ray<1.2.0,>=1.0.0; extra == \"ray\"->modin[ray]>=0.8.1.1->swifter) (1.26.3)\n",
            "Requirement already satisfied: hiredis in /usr/local/lib/python3.7/dist-packages (from aioredis->ray<1.2.0,>=1.0.0; extra == \"ray\"->modin[ray]>=0.8.1.1->swifter) (2.0.0)\n",
            "Requirement already satisfied: pandocfilters>=1.4.1 in /usr/local/lib/python3.7/dist-packages (from nbconvert->notebook>=4.4.1->widgetsnbextension~=3.5.0->ipywidgets>=7.0.0cloudpickle>=0.2.2->swifter) (1.4.3)\n",
            "Requirement already satisfied: mistune<2,>=0.8.1 in /usr/local/lib/python3.7/dist-packages (from nbconvert->notebook>=4.4.1->widgetsnbextension~=3.5.0->ipywidgets>=7.0.0cloudpickle>=0.2.2->swifter) (0.8.4)\n",
            "Requirement already satisfied: entrypoints>=0.2.2 in /usr/local/lib/python3.7/dist-packages (from nbconvert->notebook>=4.4.1->widgetsnbextension~=3.5.0->ipywidgets>=7.0.0cloudpickle>=0.2.2->swifter) (0.3)\n",
            "Requirement already satisfied: defusedxml in /usr/local/lib/python3.7/dist-packages (from nbconvert->notebook>=4.4.1->widgetsnbextension~=3.5.0->ipywidgets>=7.0.0cloudpickle>=0.2.2->swifter) (0.7.1)\n",
            "Requirement already satisfied: testpath in /usr/local/lib/python3.7/dist-packages (from nbconvert->notebook>=4.4.1->widgetsnbextension~=3.5.0->ipywidgets>=7.0.0cloudpickle>=0.2.2->swifter) (0.5.0)\n",
            "Requirement already satisfied: MarkupSafe>=0.23 in /usr/local/lib/python3.7/dist-packages (from jinja2->notebook>=4.4.1->widgetsnbextension~=3.5.0->ipywidgets>=7.0.0cloudpickle>=0.2.2->swifter) (2.0.1)\n",
            "Requirement already satisfied: google-auth<2.0dev,>=1.21.1 in /usr/local/lib/python3.7/dist-packages (from google-api-core<2.0.0,>=1.0.0->opencensus->ray<1.2.0,>=1.0.0; extra == \"ray\"->modin[ray]>=0.8.1.1->swifter) (1.30.0)\n",
            "Requirement already satisfied: googleapis-common-protos<2.0dev,>=1.6.0 in /usr/local/lib/python3.7/dist-packages (from google-api-core<2.0.0,>=1.0.0->opencensus->ray<1.2.0,>=1.0.0; extra == \"ray\"->modin[ray]>=0.8.1.1->swifter) (1.53.0)\n",
            "Requirement already satisfied: pyasn1-modules>=0.2.1 in /usr/local/lib/python3.7/dist-packages (from google-auth<2.0dev,>=1.21.1->google-api-core<2.0.0,>=1.0.0->opencensus->ray<1.2.0,>=1.0.0; extra == \"ray\"->modin[ray]>=0.8.1.1->swifter) (0.2.8)\n",
            "Requirement already satisfied: rsa<5,>=3.1.4; python_version >= \"3.6\" in /usr/local/lib/python3.7/dist-packages (from google-auth<2.0dev,>=1.21.1->google-api-core<2.0.0,>=1.0.0->opencensus->ray<1.2.0,>=1.0.0; extra == \"ray\"->modin[ray]>=0.8.1.1->swifter) (4.7.2)\n",
            "Requirement already satisfied: cachetools<5.0,>=2.0.0 in /usr/local/lib/python3.7/dist-packages (from google-auth<2.0dev,>=1.21.1->google-api-core<2.0.0,>=1.0.0->opencensus->ray<1.2.0,>=1.0.0; extra == \"ray\"->modin[ray]>=0.8.1.1->swifter) (4.2.2)\n",
            "Requirement already satisfied: pyasn1<0.5.0,>=0.4.6 in /usr/local/lib/python3.7/dist-packages (from pyasn1-modules>=0.2.1->google-auth<2.0dev,>=1.21.1->google-api-core<2.0.0,>=1.0.0->opencensus->ray<1.2.0,>=1.0.0; extra == \"ray\"->modin[ray]>=0.8.1.1->swifter) (0.4.8)\n",
            "Requirement already satisfied: gdown in /usr/local/lib/python3.7/dist-packages (3.6.4)\n",
            "Requirement already satisfied: tqdm in /usr/local/lib/python3.7/dist-packages (from gdown) (4.41.1)\n",
            "Requirement already satisfied: six in /usr/local/lib/python3.7/dist-packages (from gdown) (1.15.0)\n",
            "Requirement already satisfied: requests in /usr/local/lib/python3.7/dist-packages (from gdown) (2.23.0)\n",
            "Requirement already satisfied: urllib3!=1.25.0,!=1.25.1,<1.26,>=1.21.1 in /usr/local/lib/python3.7/dist-packages (from requests->gdown) (1.24.3)\n",
            "Requirement already satisfied: idna<3,>=2.5 in /usr/local/lib/python3.7/dist-packages (from requests->gdown) (2.10)\n",
            "Requirement already satisfied: certifi>=2017.4.17 in /usr/local/lib/python3.7/dist-packages (from requests->gdown) (2020.12.5)\n",
            "Requirement already satisfied: chardet<4,>=3.0.2 in /usr/local/lib/python3.7/dist-packages (from requests->gdown) (3.0.4)\n"
          ],
          "name": "stdout"
        }
      ]
    },
    {
      "cell_type": "code",
      "metadata": {
        "colab": {
          "base_uri": "https://localhost:8080/"
        },
        "id": "A-ODS6Gq9D9Z",
        "outputId": "8387223d-d6c0-4ca7-9d9b-1470ef096ff3"
      },
      "source": [
        "!pip install hydra-core omegaconf"
      ],
      "execution_count": 9,
      "outputs": [
        {
          "output_type": "stream",
          "text": [
            "Requirement already satisfied: hydra-core in /usr/local/lib/python3.7/dist-packages (1.0.6)\n",
            "Requirement already satisfied: omegaconf in /usr/local/lib/python3.7/dist-packages (2.1.0)\n",
            "Requirement already satisfied: importlib-resources; python_version < \"3.9\" in /usr/local/lib/python3.7/dist-packages (from hydra-core) (5.1.3)\n",
            "Requirement already satisfied: antlr4-python3-runtime==4.8 in /usr/local/lib/python3.7/dist-packages (from hydra-core) (4.8)\n",
            "Requirement already satisfied: PyYAML>=5.1.* in /usr/local/lib/python3.7/dist-packages (from omegaconf) (5.4.1)\n",
            "Requirement already satisfied: zipp>=0.4; python_version < \"3.8\" in /usr/local/lib/python3.7/dist-packages (from importlib-resources; python_version < \"3.9\"->hydra-core) (3.4.1)\n"
          ],
          "name": "stdout"
        }
      ]
    },
    {
      "cell_type": "markdown",
      "metadata": {
        "id": "jkjbxE3GJ18b"
      },
      "source": [
        "### Data Downloads ###\n",
        "\n",
        "Download and extract the Stanford reviews data."
      ]
    },
    {
      "cell_type": "code",
      "metadata": {
        "colab": {
          "base_uri": "https://localhost:8080/"
        },
        "id": "0AIwvweTBA9y",
        "outputId": "e8f9a7b3-590d-4269-d47f-2a41001cd264"
      },
      "source": [
        "#download the stanford dataset to local storage for processing\n",
        "!wget http://nlp.stanford.edu/~socherr/stanfordSentimentTreebank.zip"
      ],
      "execution_count": 10,
      "outputs": [
        {
          "output_type": "stream",
          "text": [
            "--2021-06-08 14:10:03--  http://nlp.stanford.edu/~socherr/stanfordSentimentTreebank.zip\n",
            "Resolving nlp.stanford.edu (nlp.stanford.edu)... 171.64.67.140\n",
            "Connecting to nlp.stanford.edu (nlp.stanford.edu)|171.64.67.140|:80... connected.\n",
            "HTTP request sent, awaiting response... 302 Found\n",
            "Location: https://nlp.stanford.edu/~socherr/stanfordSentimentTreebank.zip [following]\n",
            "--2021-06-08 14:10:03--  https://nlp.stanford.edu/~socherr/stanfordSentimentTreebank.zip\n",
            "Connecting to nlp.stanford.edu (nlp.stanford.edu)|171.64.67.140|:443... connected.\n",
            "HTTP request sent, awaiting response... 200 OK\n",
            "Length: 6372817 (6.1M) [application/zip]\n",
            "Saving to: ‘stanfordSentimentTreebank.zip.1’\n",
            "\n",
            "stanfordSentimentTr 100%[===================>]   6.08M  25.1MB/s    in 0.2s    \n",
            "\n",
            "2021-06-08 14:10:04 (25.1 MB/s) - ‘stanfordSentimentTreebank.zip.1’ saved [6372817/6372817]\n",
            "\n"
          ],
          "name": "stdout"
        }
      ]
    },
    {
      "cell_type": "code",
      "metadata": {
        "colab": {
          "base_uri": "https://localhost:8080/"
        },
        "id": "TEiB25qLBZbh",
        "outputId": "3ccc8ba5-2eff-4ffe-8507-f847bd5851fb"
      },
      "source": [
        "!unzip -o stanfordSentimentTreebank.zip"
      ],
      "execution_count": 11,
      "outputs": [
        {
          "output_type": "stream",
          "text": [
            "Archive:  stanfordSentimentTreebank.zip\n",
            "  inflating: stanfordSentimentTreebank/datasetSentences.txt  \n",
            "  inflating: __MACOSX/stanfordSentimentTreebank/._datasetSentences.txt  \n",
            "  inflating: stanfordSentimentTreebank/datasetSplit.txt  \n",
            "  inflating: __MACOSX/stanfordSentimentTreebank/._datasetSplit.txt  \n",
            "  inflating: stanfordSentimentTreebank/dictionary.txt  \n",
            "  inflating: __MACOSX/stanfordSentimentTreebank/._dictionary.txt  \n",
            "  inflating: stanfordSentimentTreebank/original_rt_snippets.txt  \n",
            "  inflating: __MACOSX/stanfordSentimentTreebank/._original_rt_snippets.txt  \n",
            "  inflating: stanfordSentimentTreebank/README.txt  \n",
            "  inflating: __MACOSX/stanfordSentimentTreebank/._README.txt  \n",
            "  inflating: stanfordSentimentTreebank/sentiment_labels.txt  \n",
            "  inflating: __MACOSX/stanfordSentimentTreebank/._sentiment_labels.txt  \n",
            "  inflating: stanfordSentimentTreebank/SOStr.txt  \n",
            "  inflating: stanfordSentimentTreebank/STree.txt  \n"
          ],
          "name": "stdout"
        }
      ]
    },
    {
      "cell_type": "code",
      "metadata": {
        "colab": {
          "base_uri": "https://localhost:8080/"
        },
        "id": "TV4f87ntBiJK",
        "outputId": "dc575df9-d1f8-4b2a-e39f-8dec8435aa50"
      },
      "source": [
        "!ls -alh\n",
        "!ls -alh stanfordSentimentTreebank/"
      ],
      "execution_count": 12,
      "outputs": [
        {
          "output_type": "stream",
          "text": [
            "total 30M\n",
            "drwxr-xr-x 1 root root 4.0K Jun  8 14:10 .\n",
            "drwxr-xr-x 1 root root 4.0K Jun  8 14:04 ..\n",
            "drwxr-xr-x 4 root root 4.0K Jun  1 13:40 .config\n",
            "-rw-r--r-- 1 root root 3.7M Jun  8 14:07 input_dataset_aug_synonym.csv\n",
            "-rw-r--r-- 1 root root 3.6M Jun  8 14:07 input_dataset.csv\n",
            "-rw-r--r-- 1 root root 3.6M Jun  8 14:07 input_dataset_random_spell.csv\n",
            "-rw-r--r-- 1 root root 3.3M Jun  8 14:07 input_dataset_random_word_del.csv\n",
            "-rw-r--r-- 1 root root 3.6M Jun  8 14:07 input_dataset_random_word_swap.csv\n",
            "drwxr-xr-x 2 root root 4.0K Jun  8 14:09 .ipynb_checkpoints\n",
            "drwxrwxr-x 3 root root 4.0K Oct  9  2013 __MACOSX\n",
            "drwxr-xr-x 1 root root 4.0K Jun  1 13:40 sample_data\n",
            "drwxr-xr-x 2 root root 4.0K Jun  8 14:10 stanfordSentimentTreebank\n",
            "-rw-r--r-- 1 root root 6.1M Oct  9  2013 stanfordSentimentTreebank.zip\n",
            "-rw-r--r-- 1 root root 6.1M Oct  9  2013 stanfordSentimentTreebank.zip.1\n",
            "total 20M\n",
            "drwxr-xr-x 2 root root 4.0K Jun  8 14:10 .\n",
            "drwxr-xr-x 1 root root 4.0K Jun  8 14:10 ..\n",
            "-rwxr-xr-x 1 root root 1.3M Oct  9  2013 datasetSentences.txt\n",
            "-rwxr-xr-x 1 root root  82K Oct  9  2013 datasetSplit.txt\n",
            "-rwxr-xr-x 1 root root  12M Oct  9  2013 dictionary.txt\n",
            "-rwxr-xr-x 1 root root 1.2M Feb  2  2013 original_rt_snippets.txt\n",
            "-rwxr-xr-x 1 root root 2.4K Oct  9  2013 README.txt\n",
            "-rwxr-xr-x 1 root root 3.2M Oct  9  2013 sentiment_labels.txt\n",
            "-rwxr-xr-x 1 root root 1.2M Feb  2  2013 SOStr.txt\n",
            "-rwxr-xr-x 1 root root 1.3M Feb  2  2013 STree.txt\n"
          ],
          "name": "stdout"
        }
      ]
    },
    {
      "cell_type": "markdown",
      "metadata": {
        "id": "Fv3WD_nhKEIq"
      },
      "source": [
        "### Data Transformation and Augmentation ###\n",
        "\n",
        "Combine the various datasets from Stanford to merge the sentences with sentiment values. Next, augment the dataset with the following -\n",
        "\n",
        "\n",
        "* synonym\n",
        "* random word swap\n",
        "* random word delete\n",
        "* back translation\n"
      ]
    },
    {
      "cell_type": "code",
      "metadata": {
        "id": "O9wwO8naBpGX"
      },
      "source": [
        "#import all libraries required for the notebook\n",
        "import os\n",
        "import pandas as pd\n",
        "\n",
        "#import nlp augumenter library\n",
        "import nlpaug.augmenter.char as nac\n",
        "import nlpaug.augmenter.word as naw\n",
        "import nlpaug.augmenter.sentence as nas\n",
        "import nlpaug.flow as nafc\n",
        "from nlpaug.util import Action\n",
        "import swifter\n",
        "\n",
        "from tqdm.auto import tqdm\n",
        "tqdm.pandas()"
      ],
      "execution_count": 13,
      "outputs": []
    },
    {
      "cell_type": "code",
      "metadata": {
        "id": "6HrGtHIaBxIO"
      },
      "source": [
        "#set data directory\n",
        "data_dir = 'stanfordSentimentTreebank'"
      ],
      "execution_count": 14,
      "outputs": []
    },
    {
      "cell_type": "code",
      "metadata": {
        "id": "vUKTs2GWB1m5"
      },
      "source": [
        "#load sentiment labels\n",
        "sentiment_labels = pd.read_csv(os.path.join(data_dir, \"sentiment_labels.txt\"), names=['phrase_ids', 'sentiment_values'], sep=\"|\", header=0)"
      ],
      "execution_count": 15,
      "outputs": []
    },
    {
      "cell_type": "code",
      "metadata": {
        "colab": {
          "base_uri": "https://localhost:8080/",
          "height": 362
        },
        "id": "w-ueXVJNB5q9",
        "outputId": "55df76fb-c790-441f-c9a1-0eb4add048f7"
      },
      "source": [
        "#sample the sentiment labels data - 10 rows\n",
        "sentiment_labels.head(10)"
      ],
      "execution_count": 16,
      "outputs": [
        {
          "output_type": "execute_result",
          "data": {
            "text/html": [
              "<div>\n",
              "<style scoped>\n",
              "    .dataframe tbody tr th:only-of-type {\n",
              "        vertical-align: middle;\n",
              "    }\n",
              "\n",
              "    .dataframe tbody tr th {\n",
              "        vertical-align: top;\n",
              "    }\n",
              "\n",
              "    .dataframe thead th {\n",
              "        text-align: right;\n",
              "    }\n",
              "</style>\n",
              "<table border=\"1\" class=\"dataframe\">\n",
              "  <thead>\n",
              "    <tr style=\"text-align: right;\">\n",
              "      <th></th>\n",
              "      <th>phrase_ids</th>\n",
              "      <th>sentiment_values</th>\n",
              "    </tr>\n",
              "  </thead>\n",
              "  <tbody>\n",
              "    <tr>\n",
              "      <th>0</th>\n",
              "      <td>0</td>\n",
              "      <td>0.50000</td>\n",
              "    </tr>\n",
              "    <tr>\n",
              "      <th>1</th>\n",
              "      <td>1</td>\n",
              "      <td>0.50000</td>\n",
              "    </tr>\n",
              "    <tr>\n",
              "      <th>2</th>\n",
              "      <td>2</td>\n",
              "      <td>0.44444</td>\n",
              "    </tr>\n",
              "    <tr>\n",
              "      <th>3</th>\n",
              "      <td>3</td>\n",
              "      <td>0.50000</td>\n",
              "    </tr>\n",
              "    <tr>\n",
              "      <th>4</th>\n",
              "      <td>4</td>\n",
              "      <td>0.42708</td>\n",
              "    </tr>\n",
              "    <tr>\n",
              "      <th>5</th>\n",
              "      <td>5</td>\n",
              "      <td>0.37500</td>\n",
              "    </tr>\n",
              "    <tr>\n",
              "      <th>6</th>\n",
              "      <td>6</td>\n",
              "      <td>0.41667</td>\n",
              "    </tr>\n",
              "    <tr>\n",
              "      <th>7</th>\n",
              "      <td>7</td>\n",
              "      <td>0.54167</td>\n",
              "    </tr>\n",
              "    <tr>\n",
              "      <th>8</th>\n",
              "      <td>8</td>\n",
              "      <td>0.33333</td>\n",
              "    </tr>\n",
              "    <tr>\n",
              "      <th>9</th>\n",
              "      <td>9</td>\n",
              "      <td>0.45833</td>\n",
              "    </tr>\n",
              "  </tbody>\n",
              "</table>\n",
              "</div>"
            ],
            "text/plain": [
              "   phrase_ids  sentiment_values\n",
              "0           0           0.50000\n",
              "1           1           0.50000\n",
              "2           2           0.44444\n",
              "3           3           0.50000\n",
              "4           4           0.42708\n",
              "5           5           0.37500\n",
              "6           6           0.41667\n",
              "7           7           0.54167\n",
              "8           8           0.33333\n",
              "9           9           0.45833"
            ]
          },
          "metadata": {
            "tags": []
          },
          "execution_count": 16
        }
      ]
    },
    {
      "cell_type": "code",
      "metadata": {
        "id": "3jWdA2PpB_ci"
      },
      "source": [
        "# function to convert label (sentiment value) to 5 classes\n",
        "# for very negative, negative, neutral, positive, very positive\n",
        "def discretize_label(label):\n",
        "    # very negative\n",
        "    if label <= 0.2: return 0\n",
        "    # negative\n",
        "    if label <= 0.4: return 1\n",
        "    # neutral\n",
        "    if label <= 0.6: return 2\n",
        "    # positive\n",
        "    if label <= 0.8: return 3\n",
        "    # very positive\n",
        "    return 4"
      ],
      "execution_count": 17,
      "outputs": []
    },
    {
      "cell_type": "code",
      "metadata": {
        "colab": {
          "base_uri": "https://localhost:8080/",
          "height": 67,
          "referenced_widgets": [
            "4707e1fcc4b647b597423378e3624e4d",
            "38a15371e74a494ea8d2ad19e6a804ed",
            "9c1fa3ba6020427886faab41db70d764",
            "96a77344612d492583e064f08498736f",
            "2a0bc394d9174b25baa5b0c37a4c6645",
            "2507e67727ba47a0bb1c4955446bf4aa",
            "273ec23a7ab74a24bc1875cddbf82072",
            "cc4508870349400b8ee4cccf96ba0431"
          ]
        },
        "id": "1VfpWgAXCD9R",
        "outputId": "1a0749a3-ec08-47d1-dd68-8d627016017c"
      },
      "source": [
        "sentiment_labels['sentiment_values'] = sentiment_labels['sentiment_values'].progress_apply(discretize_label)"
      ],
      "execution_count": 18,
      "outputs": [
        {
          "output_type": "display_data",
          "data": {
            "application/vnd.jupyter.widget-view+json": {
              "model_id": "4707e1fcc4b647b597423378e3624e4d",
              "version_minor": 0,
              "version_major": 2
            },
            "text/plain": [
              "HBox(children=(FloatProgress(value=0.0, max=239232.0), HTML(value='')))"
            ]
          },
          "metadata": {
            "tags": []
          }
        },
        {
          "output_type": "stream",
          "text": [
            "\n"
          ],
          "name": "stdout"
        }
      ]
    },
    {
      "cell_type": "code",
      "metadata": {
        "colab": {
          "base_uri": "https://localhost:8080/",
          "height": 362
        },
        "id": "A47M9fhxCIsP",
        "outputId": "8b56338c-5caf-4b12-9e15-04a484bf9c66"
      },
      "source": [
        "#sample the sentiment labels data - 10 rows - after converting labels to classes\n",
        "sentiment_labels.head(10)"
      ],
      "execution_count": 19,
      "outputs": [
        {
          "output_type": "execute_result",
          "data": {
            "text/html": [
              "<div>\n",
              "<style scoped>\n",
              "    .dataframe tbody tr th:only-of-type {\n",
              "        vertical-align: middle;\n",
              "    }\n",
              "\n",
              "    .dataframe tbody tr th {\n",
              "        vertical-align: top;\n",
              "    }\n",
              "\n",
              "    .dataframe thead th {\n",
              "        text-align: right;\n",
              "    }\n",
              "</style>\n",
              "<table border=\"1\" class=\"dataframe\">\n",
              "  <thead>\n",
              "    <tr style=\"text-align: right;\">\n",
              "      <th></th>\n",
              "      <th>phrase_ids</th>\n",
              "      <th>sentiment_values</th>\n",
              "    </tr>\n",
              "  </thead>\n",
              "  <tbody>\n",
              "    <tr>\n",
              "      <th>0</th>\n",
              "      <td>0</td>\n",
              "      <td>2</td>\n",
              "    </tr>\n",
              "    <tr>\n",
              "      <th>1</th>\n",
              "      <td>1</td>\n",
              "      <td>2</td>\n",
              "    </tr>\n",
              "    <tr>\n",
              "      <th>2</th>\n",
              "      <td>2</td>\n",
              "      <td>2</td>\n",
              "    </tr>\n",
              "    <tr>\n",
              "      <th>3</th>\n",
              "      <td>3</td>\n",
              "      <td>2</td>\n",
              "    </tr>\n",
              "    <tr>\n",
              "      <th>4</th>\n",
              "      <td>4</td>\n",
              "      <td>2</td>\n",
              "    </tr>\n",
              "    <tr>\n",
              "      <th>5</th>\n",
              "      <td>5</td>\n",
              "      <td>1</td>\n",
              "    </tr>\n",
              "    <tr>\n",
              "      <th>6</th>\n",
              "      <td>6</td>\n",
              "      <td>2</td>\n",
              "    </tr>\n",
              "    <tr>\n",
              "      <th>7</th>\n",
              "      <td>7</td>\n",
              "      <td>2</td>\n",
              "    </tr>\n",
              "    <tr>\n",
              "      <th>8</th>\n",
              "      <td>8</td>\n",
              "      <td>1</td>\n",
              "    </tr>\n",
              "    <tr>\n",
              "      <th>9</th>\n",
              "      <td>9</td>\n",
              "      <td>2</td>\n",
              "    </tr>\n",
              "  </tbody>\n",
              "</table>\n",
              "</div>"
            ],
            "text/plain": [
              "   phrase_ids  sentiment_values\n",
              "0           0                 2\n",
              "1           1                 2\n",
              "2           2                 2\n",
              "3           3                 2\n",
              "4           4                 2\n",
              "5           5                 1\n",
              "6           6                 2\n",
              "7           7                 2\n",
              "8           8                 1\n",
              "9           9                 2"
            ]
          },
          "metadata": {
            "tags": []
          },
          "execution_count": 19
        }
      ]
    },
    {
      "cell_type": "code",
      "metadata": {
        "colab": {
          "base_uri": "https://localhost:8080/",
          "height": 362
        },
        "id": "mOhyBy7BCM14",
        "outputId": "e1a53a02-ddad-4b87-bf4d-d0449fdd4927"
      },
      "source": [
        "#load the sentences\n",
        "sentence_ids = pd.read_csv(os.path.join(data_dir, \"datasetSentences.txt\"), sep=\"\\t\")\n",
        "sentence_ids.head(10)"
      ],
      "execution_count": 20,
      "outputs": [
        {
          "output_type": "execute_result",
          "data": {
            "text/html": [
              "<div>\n",
              "<style scoped>\n",
              "    .dataframe tbody tr th:only-of-type {\n",
              "        vertical-align: middle;\n",
              "    }\n",
              "\n",
              "    .dataframe tbody tr th {\n",
              "        vertical-align: top;\n",
              "    }\n",
              "\n",
              "    .dataframe thead th {\n",
              "        text-align: right;\n",
              "    }\n",
              "</style>\n",
              "<table border=\"1\" class=\"dataframe\">\n",
              "  <thead>\n",
              "    <tr style=\"text-align: right;\">\n",
              "      <th></th>\n",
              "      <th>sentence_index</th>\n",
              "      <th>sentence</th>\n",
              "    </tr>\n",
              "  </thead>\n",
              "  <tbody>\n",
              "    <tr>\n",
              "      <th>0</th>\n",
              "      <td>1</td>\n",
              "      <td>The Rock is destined to be the 21st Century 's...</td>\n",
              "    </tr>\n",
              "    <tr>\n",
              "      <th>1</th>\n",
              "      <td>2</td>\n",
              "      <td>The gorgeously elaborate continuation of `` Th...</td>\n",
              "    </tr>\n",
              "    <tr>\n",
              "      <th>2</th>\n",
              "      <td>3</td>\n",
              "      <td>Effective but too-tepid biopic</td>\n",
              "    </tr>\n",
              "    <tr>\n",
              "      <th>3</th>\n",
              "      <td>4</td>\n",
              "      <td>If you sometimes like to go to the movies to h...</td>\n",
              "    </tr>\n",
              "    <tr>\n",
              "      <th>4</th>\n",
              "      <td>5</td>\n",
              "      <td>Emerges as something rare , an issue movie tha...</td>\n",
              "    </tr>\n",
              "    <tr>\n",
              "      <th>5</th>\n",
              "      <td>6</td>\n",
              "      <td>The film provides some great insight into the ...</td>\n",
              "    </tr>\n",
              "    <tr>\n",
              "      <th>6</th>\n",
              "      <td>7</td>\n",
              "      <td>Offers that rare combination of entertainment ...</td>\n",
              "    </tr>\n",
              "    <tr>\n",
              "      <th>7</th>\n",
              "      <td>8</td>\n",
              "      <td>Perhaps no picture ever made has more literall...</td>\n",
              "    </tr>\n",
              "    <tr>\n",
              "      <th>8</th>\n",
              "      <td>9</td>\n",
              "      <td>Steers turns in a snappy screenplay that curls...</td>\n",
              "    </tr>\n",
              "    <tr>\n",
              "      <th>9</th>\n",
              "      <td>10</td>\n",
              "      <td>But he somehow pulls it off .</td>\n",
              "    </tr>\n",
              "  </tbody>\n",
              "</table>\n",
              "</div>"
            ],
            "text/plain": [
              "   sentence_index                                           sentence\n",
              "0               1  The Rock is destined to be the 21st Century 's...\n",
              "1               2  The gorgeously elaborate continuation of `` Th...\n",
              "2               3                     Effective but too-tepid biopic\n",
              "3               4  If you sometimes like to go to the movies to h...\n",
              "4               5  Emerges as something rare , an issue movie tha...\n",
              "5               6  The film provides some great insight into the ...\n",
              "6               7  Offers that rare combination of entertainment ...\n",
              "7               8  Perhaps no picture ever made has more literall...\n",
              "8               9  Steers turns in a snappy screenplay that curls...\n",
              "9              10                      But he somehow pulls it off ."
            ]
          },
          "metadata": {
            "tags": []
          },
          "execution_count": 20
        }
      ]
    },
    {
      "cell_type": "code",
      "metadata": {
        "colab": {
          "base_uri": "https://localhost:8080/",
          "height": 362
        },
        "id": "YaQC2DV_CRvi",
        "outputId": "8cf1c64e-bd11-459c-cf6d-763e3ba52e44"
      },
      "source": [
        "#load the dictionary and sample 10 rows\n",
        "dictionary = pd.read_csv(os.path.join(data_dir, \"dictionary.txt\"), sep=\"|\", names=['phrase', 'phrase_ids'])\n",
        "dictionary.head(10)"
      ],
      "execution_count": 21,
      "outputs": [
        {
          "output_type": "execute_result",
          "data": {
            "text/html": [
              "<div>\n",
              "<style scoped>\n",
              "    .dataframe tbody tr th:only-of-type {\n",
              "        vertical-align: middle;\n",
              "    }\n",
              "\n",
              "    .dataframe tbody tr th {\n",
              "        vertical-align: top;\n",
              "    }\n",
              "\n",
              "    .dataframe thead th {\n",
              "        text-align: right;\n",
              "    }\n",
              "</style>\n",
              "<table border=\"1\" class=\"dataframe\">\n",
              "  <thead>\n",
              "    <tr style=\"text-align: right;\">\n",
              "      <th></th>\n",
              "      <th>phrase</th>\n",
              "      <th>phrase_ids</th>\n",
              "    </tr>\n",
              "  </thead>\n",
              "  <tbody>\n",
              "    <tr>\n",
              "      <th>0</th>\n",
              "      <td>!</td>\n",
              "      <td>0</td>\n",
              "    </tr>\n",
              "    <tr>\n",
              "      <th>1</th>\n",
              "      <td>! '</td>\n",
              "      <td>22935</td>\n",
              "    </tr>\n",
              "    <tr>\n",
              "      <th>2</th>\n",
              "      <td>! ''</td>\n",
              "      <td>18235</td>\n",
              "    </tr>\n",
              "    <tr>\n",
              "      <th>3</th>\n",
              "      <td>! Alas</td>\n",
              "      <td>179257</td>\n",
              "    </tr>\n",
              "    <tr>\n",
              "      <th>4</th>\n",
              "      <td>! Brilliant</td>\n",
              "      <td>22936</td>\n",
              "    </tr>\n",
              "    <tr>\n",
              "      <th>5</th>\n",
              "      <td>! Brilliant !</td>\n",
              "      <td>40532</td>\n",
              "    </tr>\n",
              "    <tr>\n",
              "      <th>6</th>\n",
              "      <td>! Brilliant ! '</td>\n",
              "      <td>22937</td>\n",
              "    </tr>\n",
              "    <tr>\n",
              "      <th>7</th>\n",
              "      <td>! C'mon</td>\n",
              "      <td>60624</td>\n",
              "    </tr>\n",
              "    <tr>\n",
              "      <th>8</th>\n",
              "      <td>! Gollum 's ` performance ' is incredible</td>\n",
              "      <td>13402</td>\n",
              "    </tr>\n",
              "    <tr>\n",
              "      <th>9</th>\n",
              "      <td>! Oh , look at that clever angle ! Wow , a jum...</td>\n",
              "      <td>179258</td>\n",
              "    </tr>\n",
              "  </tbody>\n",
              "</table>\n",
              "</div>"
            ],
            "text/plain": [
              "                                              phrase  phrase_ids\n",
              "0                                                  !           0\n",
              "1                                                ! '       22935\n",
              "2                                               ! ''       18235\n",
              "3                                             ! Alas      179257\n",
              "4                                        ! Brilliant       22936\n",
              "5                                      ! Brilliant !       40532\n",
              "6                                    ! Brilliant ! '       22937\n",
              "7                                            ! C'mon       60624\n",
              "8          ! Gollum 's ` performance ' is incredible       13402\n",
              "9  ! Oh , look at that clever angle ! Wow , a jum...      179258"
            ]
          },
          "metadata": {
            "tags": []
          },
          "execution_count": 21
        }
      ]
    },
    {
      "cell_type": "code",
      "metadata": {
        "colab": {
          "base_uri": "https://localhost:8080/",
          "height": 362
        },
        "id": "RJTBQUdxCa70",
        "outputId": "263b048b-8d5c-4af5-ac8f-895f95623287"
      },
      "source": [
        "#load the train/test data and sample 10 rows\n",
        "train_test_split = pd.read_csv(os.path.join(data_dir, \"datasetSplit.txt\"))\n",
        "train_test_split.head(10)"
      ],
      "execution_count": 22,
      "outputs": [
        {
          "output_type": "execute_result",
          "data": {
            "text/html": [
              "<div>\n",
              "<style scoped>\n",
              "    .dataframe tbody tr th:only-of-type {\n",
              "        vertical-align: middle;\n",
              "    }\n",
              "\n",
              "    .dataframe tbody tr th {\n",
              "        vertical-align: top;\n",
              "    }\n",
              "\n",
              "    .dataframe thead th {\n",
              "        text-align: right;\n",
              "    }\n",
              "</style>\n",
              "<table border=\"1\" class=\"dataframe\">\n",
              "  <thead>\n",
              "    <tr style=\"text-align: right;\">\n",
              "      <th></th>\n",
              "      <th>sentence_index</th>\n",
              "      <th>splitset_label</th>\n",
              "    </tr>\n",
              "  </thead>\n",
              "  <tbody>\n",
              "    <tr>\n",
              "      <th>0</th>\n",
              "      <td>1</td>\n",
              "      <td>1</td>\n",
              "    </tr>\n",
              "    <tr>\n",
              "      <th>1</th>\n",
              "      <td>2</td>\n",
              "      <td>1</td>\n",
              "    </tr>\n",
              "    <tr>\n",
              "      <th>2</th>\n",
              "      <td>3</td>\n",
              "      <td>2</td>\n",
              "    </tr>\n",
              "    <tr>\n",
              "      <th>3</th>\n",
              "      <td>4</td>\n",
              "      <td>2</td>\n",
              "    </tr>\n",
              "    <tr>\n",
              "      <th>4</th>\n",
              "      <td>5</td>\n",
              "      <td>2</td>\n",
              "    </tr>\n",
              "    <tr>\n",
              "      <th>5</th>\n",
              "      <td>6</td>\n",
              "      <td>2</td>\n",
              "    </tr>\n",
              "    <tr>\n",
              "      <th>6</th>\n",
              "      <td>7</td>\n",
              "      <td>2</td>\n",
              "    </tr>\n",
              "    <tr>\n",
              "      <th>7</th>\n",
              "      <td>8</td>\n",
              "      <td>2</td>\n",
              "    </tr>\n",
              "    <tr>\n",
              "      <th>8</th>\n",
              "      <td>9</td>\n",
              "      <td>2</td>\n",
              "    </tr>\n",
              "    <tr>\n",
              "      <th>9</th>\n",
              "      <td>10</td>\n",
              "      <td>2</td>\n",
              "    </tr>\n",
              "  </tbody>\n",
              "</table>\n",
              "</div>"
            ],
            "text/plain": [
              "   sentence_index  splitset_label\n",
              "0               1               1\n",
              "1               2               1\n",
              "2               3               2\n",
              "3               4               2\n",
              "4               5               2\n",
              "5               6               2\n",
              "6               7               2\n",
              "7               8               2\n",
              "8               9               2\n",
              "9              10               2"
            ]
          },
          "metadata": {
            "tags": []
          },
          "execution_count": 22
        }
      ]
    },
    {
      "cell_type": "code",
      "metadata": {
        "id": "hs13yIFTCfJM"
      },
      "source": [
        "sentence_phrase_merge = pd.merge(sentence_ids, dictionary, left_on='sentence', right_on='phrase')\n",
        "sentence_phrase_split = pd.merge(sentence_phrase_merge, train_test_split, on='sentence_index')\n",
        "input_dataset = pd.merge(sentence_phrase_split, sentiment_labels, on='phrase_ids')\n",
        "input_dataset['phrase_cleaned'] = input_dataset['sentence'].str.replace(r\"\\s('s|'d|'re|'ll|'m|'ve|n't)\\b\", lambda m: m.group(1))"
      ],
      "execution_count": 23,
      "outputs": []
    },
    {
      "cell_type": "code",
      "metadata": {
        "colab": {
          "base_uri": "https://localhost:8080/",
          "height": 299
        },
        "id": "hYQk7iWnCkV2",
        "outputId": "ccd97cf6-ab78-44ed-ae08-82afd439da6d"
      },
      "source": [
        "input_dataset.describe()"
      ],
      "execution_count": 24,
      "outputs": [
        {
          "output_type": "execute_result",
          "data": {
            "text/html": [
              "<div>\n",
              "<style scoped>\n",
              "    .dataframe tbody tr th:only-of-type {\n",
              "        vertical-align: middle;\n",
              "    }\n",
              "\n",
              "    .dataframe tbody tr th {\n",
              "        vertical-align: top;\n",
              "    }\n",
              "\n",
              "    .dataframe thead th {\n",
              "        text-align: right;\n",
              "    }\n",
              "</style>\n",
              "<table border=\"1\" class=\"dataframe\">\n",
              "  <thead>\n",
              "    <tr style=\"text-align: right;\">\n",
              "      <th></th>\n",
              "      <th>sentence_index</th>\n",
              "      <th>phrase_ids</th>\n",
              "      <th>splitset_label</th>\n",
              "      <th>sentiment_values</th>\n",
              "    </tr>\n",
              "  </thead>\n",
              "  <tbody>\n",
              "    <tr>\n",
              "      <th>count</th>\n",
              "      <td>11286.000000</td>\n",
              "      <td>11286.000000</td>\n",
              "      <td>11286.000000</td>\n",
              "      <td>11286.000000</td>\n",
              "    </tr>\n",
              "    <tr>\n",
              "      <th>mean</th>\n",
              "      <td>5910.961102</td>\n",
              "      <td>132003.589846</td>\n",
              "      <td>1.373294</td>\n",
              "      <td>2.059986</td>\n",
              "    </tr>\n",
              "    <tr>\n",
              "      <th>std</th>\n",
              "      <td>3422.455572</td>\n",
              "      <td>68214.626430</td>\n",
              "      <td>0.647295</td>\n",
              "      <td>1.287835</td>\n",
              "    </tr>\n",
              "    <tr>\n",
              "      <th>min</th>\n",
              "      <td>1.000000</td>\n",
              "      <td>3467.000000</td>\n",
              "      <td>1.000000</td>\n",
              "      <td>0.000000</td>\n",
              "    </tr>\n",
              "    <tr>\n",
              "      <th>25%</th>\n",
              "      <td>2951.250000</td>\n",
              "      <td>67402.000000</td>\n",
              "      <td>1.000000</td>\n",
              "      <td>1.000000</td>\n",
              "    </tr>\n",
              "    <tr>\n",
              "      <th>50%</th>\n",
              "      <td>5904.500000</td>\n",
              "      <td>144063.500000</td>\n",
              "      <td>1.000000</td>\n",
              "      <td>2.000000</td>\n",
              "    </tr>\n",
              "    <tr>\n",
              "      <th>75%</th>\n",
              "      <td>8865.750000</td>\n",
              "      <td>188139.750000</td>\n",
              "      <td>2.000000</td>\n",
              "      <td>3.000000</td>\n",
              "    </tr>\n",
              "    <tr>\n",
              "      <th>max</th>\n",
              "      <td>11855.000000</td>\n",
              "      <td>238977.000000</td>\n",
              "      <td>3.000000</td>\n",
              "      <td>4.000000</td>\n",
              "    </tr>\n",
              "  </tbody>\n",
              "</table>\n",
              "</div>"
            ],
            "text/plain": [
              "       sentence_index     phrase_ids  splitset_label  sentiment_values\n",
              "count    11286.000000   11286.000000    11286.000000      11286.000000\n",
              "mean      5910.961102  132003.589846        1.373294          2.059986\n",
              "std       3422.455572   68214.626430        0.647295          1.287835\n",
              "min          1.000000    3467.000000        1.000000          0.000000\n",
              "25%       2951.250000   67402.000000        1.000000          1.000000\n",
              "50%       5904.500000  144063.500000        1.000000          2.000000\n",
              "75%       8865.750000  188139.750000        2.000000          3.000000\n",
              "max      11855.000000  238977.000000        3.000000          4.000000"
            ]
          },
          "metadata": {
            "tags": []
          },
          "execution_count": 24
        }
      ]
    },
    {
      "cell_type": "code",
      "metadata": {
        "colab": {
          "base_uri": "https://localhost:8080/"
        },
        "id": "3cOoxMVvCl-w",
        "outputId": "9c31e950-d3c0-4609-9960-61c978d10485"
      },
      "source": [
        "input_dataset.info()"
      ],
      "execution_count": 25,
      "outputs": [
        {
          "output_type": "stream",
          "text": [
            "<class 'pandas.core.frame.DataFrame'>\n",
            "Int64Index: 11286 entries, 0 to 11285\n",
            "Data columns (total 7 columns):\n",
            " #   Column            Non-Null Count  Dtype \n",
            "---  ------            --------------  ----- \n",
            " 0   sentence_index    11286 non-null  int64 \n",
            " 1   sentence          11286 non-null  object\n",
            " 2   phrase            11286 non-null  object\n",
            " 3   phrase_ids        11286 non-null  int64 \n",
            " 4   splitset_label    11286 non-null  int64 \n",
            " 5   sentiment_values  11286 non-null  int64 \n",
            " 6   phrase_cleaned    11286 non-null  object\n",
            "dtypes: int64(4), object(3)\n",
            "memory usage: 705.4+ KB\n"
          ],
          "name": "stdout"
        }
      ]
    },
    {
      "cell_type": "markdown",
      "metadata": {
        "id": "sboM1ryXKwo9"
      },
      "source": [
        "**Merged Data**"
      ]
    },
    {
      "cell_type": "code",
      "metadata": {
        "id": "Dgb8V7ioCtrA"
      },
      "source": [
        "input_dataset.head(10)\n",
        "# input csv created so that it can be manually translated in gsheets\n",
        "input_dataset.to_csv('input_dataset.csv')"
      ],
      "execution_count": 26,
      "outputs": []
    },
    {
      "cell_type": "code",
      "metadata": {
        "id": "iec8rdazLo9k"
      },
      "source": [
        "output_dataset = input_dataset.copy()\n",
        "\n",
        "# this flag is used to decide if the augmented data should be downloaded from gdrive or create.\n",
        "# each data augmentation step takes 20 mins.\n",
        "# to save time, the data is augmented once and stored in gdrive.\n",
        "augment_data_refresh = False\n",
        "import gdown"
      ],
      "execution_count": 27,
      "outputs": []
    },
    {
      "cell_type": "markdown",
      "metadata": {
        "id": "t-rAcpgHMJpk"
      },
      "source": [
        "**Augment data with random character swap**\n",
        "\n"
      ]
    },
    {
      "cell_type": "code",
      "metadata": {
        "colab": {
          "base_uri": "https://localhost:8080/",
          "height": 1000
        },
        "id": "pyBfG-xmCzS6",
        "outputId": "c4301cc0-9572-4306-a7d7-d2a94f865c24"
      },
      "source": [
        "if augment_data_refresh == True:\n",
        "  input_dataset_random_word_swap = input_dataset.copy()\n",
        "  aug_swap = nac.RandomCharAug(action=\"swap\")\n",
        "  swap_sentences = input_dataset_random_word_swap['sentence'].progress_apply(aug_swap.augment)\n",
        "  input_dataset_random_word_swap['sentence'] = swap_sentences\n",
        "  input_dataset_random_word_swap.to_csv('input_dataset_random_word_swap.csv')\n",
        "  # manually upload above file to gdrive and set read permission for everyone\n",
        "else:\n",
        "  input_dataset_random_word_swap_url = 'https://drive.google.com/uc?id=1KTsTppBMCGn3-MBWHIHCYONe0CGQTuaD'\n",
        "  input_dataset_random_word_swap_file = 'input_dataset_random_word_swap.csv'\n",
        "  gdown.download(input_dataset_random_word_swap_url, input_dataset_random_word_swap_file, quiet=False)\n",
        "  input_dataset_random_word_swap = pd.read_csv(input_dataset_random_word_swap_file, sep=',', header='infer')\n",
        "input_dataset_random_word_swap.head(10)"
      ],
      "execution_count": 28,
      "outputs": [
        {
          "output_type": "stream",
          "text": [
            "Downloading...\n",
            "From: https://drive.google.com/uc?id=1KTsTppBMCGn3-MBWHIHCYONe0CGQTuaD\n",
            "To: /content/input_dataset_random_word_swap.csv\n",
            "3.71MB [00:00, 202MB/s]\n"
          ],
          "name": "stderr"
        },
        {
          "output_type": "execute_result",
          "data": {
            "text/html": [
              "<div>\n",
              "<style scoped>\n",
              "    .dataframe tbody tr th:only-of-type {\n",
              "        vertical-align: middle;\n",
              "    }\n",
              "\n",
              "    .dataframe tbody tr th {\n",
              "        vertical-align: top;\n",
              "    }\n",
              "\n",
              "    .dataframe thead th {\n",
              "        text-align: right;\n",
              "    }\n",
              "</style>\n",
              "<table border=\"1\" class=\"dataframe\">\n",
              "  <thead>\n",
              "    <tr style=\"text-align: right;\">\n",
              "      <th></th>\n",
              "      <th>Unnamed: 0</th>\n",
              "      <th>sentence_index</th>\n",
              "      <th>sentence</th>\n",
              "      <th>phrase</th>\n",
              "      <th>phrase_ids</th>\n",
              "      <th>splitset_label</th>\n",
              "      <th>sentiment_values</th>\n",
              "      <th>phrase_cleaned</th>\n",
              "    </tr>\n",
              "  </thead>\n",
              "  <tbody>\n",
              "    <tr>\n",
              "      <th>0</th>\n",
              "      <td>0</td>\n",
              "      <td>1</td>\n",
              "      <td>The Orck is destined to be the 2s1t Ectnury ' ...</td>\n",
              "      <td>The Rock is destined to be the 21st Century 's...</td>\n",
              "      <td>226166</td>\n",
              "      <td>1</td>\n",
              "      <td>3</td>\n",
              "      <td>The Rock is destined to be the 21st Century's ...</td>\n",
              "    </tr>\n",
              "    <tr>\n",
              "      <th>1</th>\n",
              "      <td>1</td>\n",
              "      <td>2</td>\n",
              "      <td>The rgogeuosly elbaoarte continuation of ` ` T...</td>\n",
              "      <td>The gorgeously elaborate continuation of `` Th...</td>\n",
              "      <td>226300</td>\n",
              "      <td>1</td>\n",
              "      <td>4</td>\n",
              "      <td>The gorgeously elaborate continuation of `` Th...</td>\n",
              "    </tr>\n",
              "    <tr>\n",
              "      <th>2</th>\n",
              "      <td>2</td>\n",
              "      <td>3</td>\n",
              "      <td>Effective but too - tepdi biopic</td>\n",
              "      <td>Effective but too-tepid biopic</td>\n",
              "      <td>13995</td>\n",
              "      <td>2</td>\n",
              "      <td>2</td>\n",
              "      <td>Effective but too-tepid biopic</td>\n",
              "    </tr>\n",
              "    <tr>\n",
              "      <th>3</th>\n",
              "      <td>3</td>\n",
              "      <td>4</td>\n",
              "      <td>If you sometimes ilke to go to the omvies to h...</td>\n",
              "      <td>If you sometimes like to go to the movies to h...</td>\n",
              "      <td>14123</td>\n",
              "      <td>2</td>\n",
              "      <td>3</td>\n",
              "      <td>If you sometimes like to go to the movies to h...</td>\n",
              "    </tr>\n",
              "    <tr>\n",
              "      <th>4</th>\n",
              "      <td>4</td>\n",
              "      <td>5</td>\n",
              "      <td>Emerges as something rare, an sisue movie htat...</td>\n",
              "      <td>Emerges as something rare , an issue movie tha...</td>\n",
              "      <td>13999</td>\n",
              "      <td>2</td>\n",
              "      <td>4</td>\n",
              "      <td>Emerges as something rare , an issue movie tha...</td>\n",
              "    </tr>\n",
              "    <tr>\n",
              "      <th>5</th>\n",
              "      <td>5</td>\n",
              "      <td>6</td>\n",
              "      <td>The film provides some great nisgiht nito the ...</td>\n",
              "      <td>The film provides some great insight into the ...</td>\n",
              "      <td>14498</td>\n",
              "      <td>2</td>\n",
              "      <td>2</td>\n",
              "      <td>The film provides some great insight into the ...</td>\n",
              "    </tr>\n",
              "    <tr>\n",
              "      <th>6</th>\n",
              "      <td>6</td>\n",
              "      <td>7</td>\n",
              "      <td>Offers that rare cmobintaino of netetrainemnt ...</td>\n",
              "      <td>Offers that rare combination of entertainment ...</td>\n",
              "      <td>14351</td>\n",
              "      <td>2</td>\n",
              "      <td>4</td>\n",
              "      <td>Offers that rare combination of entertainment ...</td>\n",
              "    </tr>\n",
              "    <tr>\n",
              "      <th>7</th>\n",
              "      <td>7</td>\n",
              "      <td>8</td>\n",
              "      <td>Perhaps no picture veer amde has omre iltearll...</td>\n",
              "      <td>Perhaps no picture ever made has more literall...</td>\n",
              "      <td>14371</td>\n",
              "      <td>2</td>\n",
              "      <td>3</td>\n",
              "      <td>Perhaps no picture ever made has more literall...</td>\n",
              "    </tr>\n",
              "    <tr>\n",
              "      <th>8</th>\n",
              "      <td>8</td>\n",
              "      <td>9</td>\n",
              "      <td>Seters turns in a snappy sceernplya taht ucrls...</td>\n",
              "      <td>Steers turns in a snappy screenplay that curls...</td>\n",
              "      <td>225968</td>\n",
              "      <td>2</td>\n",
              "      <td>3</td>\n",
              "      <td>Steers turns in a snappy screenplay that curls...</td>\n",
              "    </tr>\n",
              "    <tr>\n",
              "      <th>9</th>\n",
              "      <td>9</td>\n",
              "      <td>10</td>\n",
              "      <td>But he osmehwo uplls it off.</td>\n",
              "      <td>But he somehow pulls it off .</td>\n",
              "      <td>222746</td>\n",
              "      <td>2</td>\n",
              "      <td>3</td>\n",
              "      <td>But he somehow pulls it off .</td>\n",
              "    </tr>\n",
              "  </tbody>\n",
              "</table>\n",
              "</div>"
            ],
            "text/plain": [
              "   Unnamed: 0  ...                                     phrase_cleaned\n",
              "0           0  ...  The Rock is destined to be the 21st Century's ...\n",
              "1           1  ...  The gorgeously elaborate continuation of `` Th...\n",
              "2           2  ...                     Effective but too-tepid biopic\n",
              "3           3  ...  If you sometimes like to go to the movies to h...\n",
              "4           4  ...  Emerges as something rare , an issue movie tha...\n",
              "5           5  ...  The film provides some great insight into the ...\n",
              "6           6  ...  Offers that rare combination of entertainment ...\n",
              "7           7  ...  Perhaps no picture ever made has more literall...\n",
              "8           8  ...  Steers turns in a snappy screenplay that curls...\n",
              "9           9  ...                      But he somehow pulls it off .\n",
              "\n",
              "[10 rows x 8 columns]"
            ]
          },
          "metadata": {
            "tags": []
          },
          "execution_count": 28
        }
      ]
    },
    {
      "cell_type": "markdown",
      "metadata": {
        "id": "H7RERfgVLFAF"
      },
      "source": [
        "**Augment data with synonyms**"
      ]
    },
    {
      "cell_type": "code",
      "metadata": {
        "colab": {
          "base_uri": "https://localhost:8080/",
          "height": 1000
        },
        "id": "L5-BaGQZC9z9",
        "outputId": "108d700e-5e10-414d-eabd-fa42a3ddbcfd"
      },
      "source": [
        "if augment_data_refresh == True:\n",
        "  input_dataset_aug_synonym = input_dataset.copy()\n",
        "  aug_synonym = naw.SynonymAug(aug_src='wordnet')\n",
        "  synonym_sentences = input_dataset_aug_synonym['sentence'].progress_apply(aug_synonym.augment)\n",
        "  input_dataset_aug_synonym.to_csv('input_dataset_aug_synonym.csv')\n",
        "  # manually upload above file to gdrive and set read permission for everyone  \n",
        "else:\n",
        "  input_dataset_aug_synonym_url = 'https://drive.google.com/uc?id=18nUYjEdfcIzOwy81lbzkZU5iYN8FLCH7'\n",
        "  input_dataset_aug_synonym_file = 'input_dataset_aug_synonym.csv'\n",
        "  gdown.download(input_dataset_aug_synonym_url, input_dataset_aug_synonym_file, quiet=False)\n",
        "  input_dataset_aug_synonym = pd.read_csv(input_dataset_aug_synonym_file, sep=',', header='infer')  \n",
        "input_dataset_aug_synonym.head(10)"
      ],
      "execution_count": 29,
      "outputs": [
        {
          "output_type": "stream",
          "text": [
            "Downloading...\n",
            "From: https://drive.google.com/uc?id=18nUYjEdfcIzOwy81lbzkZU5iYN8FLCH7\n",
            "To: /content/input_dataset_aug_synonym.csv\n",
            "3.83MB [00:00, 212MB/s]\n"
          ],
          "name": "stderr"
        },
        {
          "output_type": "execute_result",
          "data": {
            "text/html": [
              "<div>\n",
              "<style scoped>\n",
              "    .dataframe tbody tr th:only-of-type {\n",
              "        vertical-align: middle;\n",
              "    }\n",
              "\n",
              "    .dataframe tbody tr th {\n",
              "        vertical-align: top;\n",
              "    }\n",
              "\n",
              "    .dataframe thead th {\n",
              "        text-align: right;\n",
              "    }\n",
              "</style>\n",
              "<table border=\"1\" class=\"dataframe\">\n",
              "  <thead>\n",
              "    <tr style=\"text-align: right;\">\n",
              "      <th></th>\n",
              "      <th>Unnamed: 0</th>\n",
              "      <th>sentence_index</th>\n",
              "      <th>sentence</th>\n",
              "      <th>phrase</th>\n",
              "      <th>phrase_ids</th>\n",
              "      <th>splitset_label</th>\n",
              "      <th>sentiment_values</th>\n",
              "      <th>phrase_cleaned</th>\n",
              "    </tr>\n",
              "  </thead>\n",
              "  <tbody>\n",
              "    <tr>\n",
              "      <th>0</th>\n",
              "      <td>0</td>\n",
              "      <td>1</td>\n",
              "      <td>The Rock comprise destine to comprise the 21st...</td>\n",
              "      <td>The Rock is destined to be the 21st Century 's...</td>\n",
              "      <td>226166</td>\n",
              "      <td>1</td>\n",
              "      <td>3</td>\n",
              "      <td>The Rock is destined to be the 21st Century's ...</td>\n",
              "    </tr>\n",
              "    <tr>\n",
              "      <th>1</th>\n",
              "      <td>1</td>\n",
              "      <td>2</td>\n",
              "      <td>The gorgeously elaborate continuation of ` ` T...</td>\n",
              "      <td>The gorgeously elaborate continuation of `` Th...</td>\n",
              "      <td>226300</td>\n",
              "      <td>1</td>\n",
              "      <td>4</td>\n",
              "      <td>The gorgeously elaborate continuation of `` Th...</td>\n",
              "    </tr>\n",
              "    <tr>\n",
              "      <th>2</th>\n",
              "      <td>2</td>\n",
              "      <td>3</td>\n",
              "      <td>Effective but too - tepid biopic</td>\n",
              "      <td>Effective but too-tepid biopic</td>\n",
              "      <td>13995</td>\n",
              "      <td>2</td>\n",
              "      <td>2</td>\n",
              "      <td>Effective but too-tepid biopic</td>\n",
              "    </tr>\n",
              "    <tr>\n",
              "      <th>3</th>\n",
              "      <td>3</td>\n",
              "      <td>4</td>\n",
              "      <td>If you sometimes corresponding to go to the mo...</td>\n",
              "      <td>If you sometimes like to go to the movies to h...</td>\n",
              "      <td>14123</td>\n",
              "      <td>2</td>\n",
              "      <td>3</td>\n",
              "      <td>If you sometimes like to go to the movies to h...</td>\n",
              "    </tr>\n",
              "    <tr>\n",
              "      <th>4</th>\n",
              "      <td>4</td>\n",
              "      <td>5</td>\n",
              "      <td>Emerges as something rare, an takings movie th...</td>\n",
              "      <td>Emerges as something rare , an issue movie tha...</td>\n",
              "      <td>13999</td>\n",
              "      <td>2</td>\n",
              "      <td>4</td>\n",
              "      <td>Emerges as something rare , an issue movie tha...</td>\n",
              "    </tr>\n",
              "    <tr>\n",
              "      <th>5</th>\n",
              "      <td>5</td>\n",
              "      <td>6</td>\n",
              "      <td>The cinema provide some smashing insight into ...</td>\n",
              "      <td>The film provides some great insight into the ...</td>\n",
              "      <td>14498</td>\n",
              "      <td>2</td>\n",
              "      <td>2</td>\n",
              "      <td>The film provides some great insight into the ...</td>\n",
              "    </tr>\n",
              "    <tr>\n",
              "      <th>6</th>\n",
              "      <td>6</td>\n",
              "      <td>7</td>\n",
              "      <td>Go that rare combination of entertainment and ...</td>\n",
              "      <td>Offers that rare combination of entertainment ...</td>\n",
              "      <td>14351</td>\n",
              "      <td>2</td>\n",
              "      <td>4</td>\n",
              "      <td>Offers that rare combination of entertainment ...</td>\n",
              "    </tr>\n",
              "    <tr>\n",
              "      <th>7</th>\n",
              "      <td>7</td>\n",
              "      <td>8</td>\n",
              "      <td>Perhaps no picture ever so made take more lite...</td>\n",
              "      <td>Perhaps no picture ever made has more literall...</td>\n",
              "      <td>14371</td>\n",
              "      <td>2</td>\n",
              "      <td>3</td>\n",
              "      <td>Perhaps no picture ever made has more literall...</td>\n",
              "    </tr>\n",
              "    <tr>\n",
              "      <th>8</th>\n",
              "      <td>8</td>\n",
              "      <td>9</td>\n",
              "      <td>Steers turns in a crisp screenplay that curls ...</td>\n",
              "      <td>Steers turns in a snappy screenplay that curls...</td>\n",
              "      <td>225968</td>\n",
              "      <td>2</td>\n",
              "      <td>3</td>\n",
              "      <td>Steers turns in a snappy screenplay that curls...</td>\n",
              "    </tr>\n",
              "    <tr>\n",
              "      <th>9</th>\n",
              "      <td>9</td>\n",
              "      <td>10</td>\n",
              "      <td>Merely he somehow pulls it slay.</td>\n",
              "      <td>But he somehow pulls it off .</td>\n",
              "      <td>222746</td>\n",
              "      <td>2</td>\n",
              "      <td>3</td>\n",
              "      <td>But he somehow pulls it off .</td>\n",
              "    </tr>\n",
              "  </tbody>\n",
              "</table>\n",
              "</div>"
            ],
            "text/plain": [
              "   Unnamed: 0  ...                                     phrase_cleaned\n",
              "0           0  ...  The Rock is destined to be the 21st Century's ...\n",
              "1           1  ...  The gorgeously elaborate continuation of `` Th...\n",
              "2           2  ...                     Effective but too-tepid biopic\n",
              "3           3  ...  If you sometimes like to go to the movies to h...\n",
              "4           4  ...  Emerges as something rare , an issue movie tha...\n",
              "5           5  ...  The film provides some great insight into the ...\n",
              "6           6  ...  Offers that rare combination of entertainment ...\n",
              "7           7  ...  Perhaps no picture ever made has more literall...\n",
              "8           8  ...  Steers turns in a snappy screenplay that curls...\n",
              "9           9  ...                      But he somehow pulls it off .\n",
              "\n",
              "[10 rows x 8 columns]"
            ]
          },
          "metadata": {
            "tags": []
          },
          "execution_count": 29
        }
      ]
    },
    {
      "cell_type": "markdown",
      "metadata": {
        "id": "LyZSdIfeXWH6"
      },
      "source": [
        "**Augment data with random word deletion**"
      ]
    },
    {
      "cell_type": "code",
      "metadata": {
        "colab": {
          "base_uri": "https://localhost:8080/",
          "height": 1000
        },
        "id": "fdRvAtfyXVlT",
        "outputId": "24137a3b-84fd-454c-a3b2-046367ca1eb0"
      },
      "source": [
        "if augment_data_refresh == True:\n",
        "  input_dataset_random_word_del = input_dataset.copy()\n",
        "  aug_del = naw.RandomWordAug()\n",
        "  del_sentences = input_dataset_random_word_del['sentence'].progress_apply(aug_del.augment)\n",
        "  input_dataset_random_word_del['sentence'] = del_sentences\n",
        "  input_dataset_random_word_del.to_csv('input_dataset_random_word_del.csv')\n",
        "  # manually upload above file to gdrive and set read permission for everyone  \n",
        "else:\n",
        "  input_dataset_random_word_del_url = 'https://drive.google.com/uc?id=15DoYZH920cLsjwaMjNMZt6AqmJQ0mCzp'\n",
        "  input_dataset_random_word_del_file = 'input_dataset_random_word_del.csv'\n",
        "  gdown.download(input_dataset_random_word_del_url, input_dataset_random_word_del_file, quiet=False)\n",
        "  input_dataset_random_word_del = pd.read_csv(input_dataset_random_word_del_file, sep=',', header='infer')  \n",
        "input_dataset_random_word_del.head(10)"
      ],
      "execution_count": 30,
      "outputs": [
        {
          "output_type": "stream",
          "text": [
            "Downloading...\n",
            "From: https://drive.google.com/uc?id=15DoYZH920cLsjwaMjNMZt6AqmJQ0mCzp\n",
            "To: /content/input_dataset_random_word_del.csv\n",
            "3.37MB [00:00, 205MB/s]\n"
          ],
          "name": "stderr"
        },
        {
          "output_type": "execute_result",
          "data": {
            "text/html": [
              "<div>\n",
              "<style scoped>\n",
              "    .dataframe tbody tr th:only-of-type {\n",
              "        vertical-align: middle;\n",
              "    }\n",
              "\n",
              "    .dataframe tbody tr th {\n",
              "        vertical-align: top;\n",
              "    }\n",
              "\n",
              "    .dataframe thead th {\n",
              "        text-align: right;\n",
              "    }\n",
              "</style>\n",
              "<table border=\"1\" class=\"dataframe\">\n",
              "  <thead>\n",
              "    <tr style=\"text-align: right;\">\n",
              "      <th></th>\n",
              "      <th>Unnamed: 0</th>\n",
              "      <th>sentence_index</th>\n",
              "      <th>sentence</th>\n",
              "      <th>phrase</th>\n",
              "      <th>phrase_ids</th>\n",
              "      <th>splitset_label</th>\n",
              "      <th>sentiment_values</th>\n",
              "      <th>phrase_cleaned</th>\n",
              "    </tr>\n",
              "  </thead>\n",
              "  <tbody>\n",
              "    <tr>\n",
              "      <th>0</th>\n",
              "      <td>0</td>\n",
              "      <td>1</td>\n",
              "      <td>The Rock is to the 21st Century ' s new ` ` Co...</td>\n",
              "      <td>The Rock is destined to be the 21st Century 's...</td>\n",
              "      <td>226166</td>\n",
              "      <td>1</td>\n",
              "      <td>3</td>\n",
              "      <td>The Rock is destined to be the 21st Century's ...</td>\n",
              "    </tr>\n",
              "    <tr>\n",
              "      <th>1</th>\n",
              "      <td>1</td>\n",
              "      <td>2</td>\n",
              "      <td>Gorgeously elaborate continuation of ` ` Lord ...</td>\n",
              "      <td>The gorgeously elaborate continuation of `` Th...</td>\n",
              "      <td>226300</td>\n",
              "      <td>1</td>\n",
              "      <td>4</td>\n",
              "      <td>The gorgeously elaborate continuation of `` Th...</td>\n",
              "    </tr>\n",
              "    <tr>\n",
              "      <th>2</th>\n",
              "      <td>2</td>\n",
              "      <td>3</td>\n",
              "      <td>Effective but too - tepid</td>\n",
              "      <td>Effective but too-tepid biopic</td>\n",
              "      <td>13995</td>\n",
              "      <td>2</td>\n",
              "      <td>2</td>\n",
              "      <td>Effective but too-tepid biopic</td>\n",
              "    </tr>\n",
              "    <tr>\n",
              "      <th>3</th>\n",
              "      <td>3</td>\n",
              "      <td>4</td>\n",
              "      <td>If you to to the movies to have fun, Wasabi a ...</td>\n",
              "      <td>If you sometimes like to go to the movies to h...</td>\n",
              "      <td>14123</td>\n",
              "      <td>2</td>\n",
              "      <td>3</td>\n",
              "      <td>If you sometimes like to go to the movies to h...</td>\n",
              "    </tr>\n",
              "    <tr>\n",
              "      <th>4</th>\n",
              "      <td>4</td>\n",
              "      <td>5</td>\n",
              "      <td>Emerges something, an issue movie ' s honest a...</td>\n",
              "      <td>Emerges as something rare , an issue movie tha...</td>\n",
              "      <td>13999</td>\n",
              "      <td>2</td>\n",
              "      <td>4</td>\n",
              "      <td>Emerges as something rare , an issue movie tha...</td>\n",
              "    </tr>\n",
              "    <tr>\n",
              "      <th>5</th>\n",
              "      <td>5</td>\n",
              "      <td>6</td>\n",
              "      <td>The provides some great insight into neurotic ...</td>\n",
              "      <td>The film provides some great insight into the ...</td>\n",
              "      <td>14498</td>\n",
              "      <td>2</td>\n",
              "      <td>2</td>\n",
              "      <td>The film provides some great insight into the ...</td>\n",
              "    </tr>\n",
              "    <tr>\n",
              "      <th>6</th>\n",
              "      <td>6</td>\n",
              "      <td>7</td>\n",
              "      <td>That combination of entertainment and education.</td>\n",
              "      <td>Offers that rare combination of entertainment ...</td>\n",
              "      <td>14351</td>\n",
              "      <td>2</td>\n",
              "      <td>4</td>\n",
              "      <td>Offers that rare combination of entertainment ...</td>\n",
              "    </tr>\n",
              "    <tr>\n",
              "      <th>7</th>\n",
              "      <td>7</td>\n",
              "      <td>8</td>\n",
              "      <td>Perhaps picture ever more literally that road ...</td>\n",
              "      <td>Perhaps no picture ever made has more literall...</td>\n",
              "      <td>14371</td>\n",
              "      <td>2</td>\n",
              "      <td>3</td>\n",
              "      <td>Perhaps no picture ever made has more literall...</td>\n",
              "    </tr>\n",
              "    <tr>\n",
              "      <th>8</th>\n",
              "      <td>8</td>\n",
              "      <td>9</td>\n",
              "      <td>Steers in a snappy screenplay the edges; ' s s...</td>\n",
              "      <td>Steers turns in a snappy screenplay that curls...</td>\n",
              "      <td>225968</td>\n",
              "      <td>2</td>\n",
              "      <td>3</td>\n",
              "      <td>Steers turns in a snappy screenplay that curls...</td>\n",
              "    </tr>\n",
              "    <tr>\n",
              "      <th>9</th>\n",
              "      <td>9</td>\n",
              "      <td>10</td>\n",
              "      <td>He somehow pulls it off.</td>\n",
              "      <td>But he somehow pulls it off .</td>\n",
              "      <td>222746</td>\n",
              "      <td>2</td>\n",
              "      <td>3</td>\n",
              "      <td>But he somehow pulls it off .</td>\n",
              "    </tr>\n",
              "  </tbody>\n",
              "</table>\n",
              "</div>"
            ],
            "text/plain": [
              "   Unnamed: 0  ...                                     phrase_cleaned\n",
              "0           0  ...  The Rock is destined to be the 21st Century's ...\n",
              "1           1  ...  The gorgeously elaborate continuation of `` Th...\n",
              "2           2  ...                     Effective but too-tepid biopic\n",
              "3           3  ...  If you sometimes like to go to the movies to h...\n",
              "4           4  ...  Emerges as something rare , an issue movie tha...\n",
              "5           5  ...  The film provides some great insight into the ...\n",
              "6           6  ...  Offers that rare combination of entertainment ...\n",
              "7           7  ...  Perhaps no picture ever made has more literall...\n",
              "8           8  ...  Steers turns in a snappy screenplay that curls...\n",
              "9           9  ...                      But he somehow pulls it off .\n",
              "\n",
              "[10 rows x 8 columns]"
            ]
          },
          "metadata": {
            "tags": []
          },
          "execution_count": 30
        }
      ]
    },
    {
      "cell_type": "markdown",
      "metadata": {
        "id": "NIZfXNbzvrVM"
      },
      "source": [
        "**Augment data with spelling mistakes**"
      ]
    },
    {
      "cell_type": "code",
      "metadata": {
        "colab": {
          "base_uri": "https://localhost:8080/",
          "height": 1000
        },
        "id": "4PIIkNnyvqnU",
        "outputId": "022ff9b8-408a-49a6-f090-2951cf15a3ab"
      },
      "source": [
        "if augment_data_refresh == True:\n",
        "  input_dataset_random_spell = input_dataset.copy()\n",
        "  aug_spell = naw.SpellingAug()\n",
        "  spell_sentences = input_dataset_random_spell['sentence'].progress_apply(aug_spell.augment)\n",
        "  input_dataset_random_spell['sentence'] = spell_sentences\n",
        "  input_dataset_random_spell.to_csv('input_dataset_random_spell.csv')\n",
        "  # manually upload above file to gdrive and set read permission for everyone  \n",
        "else:\n",
        "  input_dataset_random_spell_url = 'https://drive.google.com/uc?id=1F55BBy4tHfKM3DoJjc4XsfX9tvaYUe8d'\n",
        "  input_dataset_random_spell_file = 'input_dataset_random_spell.csv'\n",
        "  gdown.download(input_dataset_random_spell_url, input_dataset_random_spell_file, quiet=False)\n",
        "  input_dataset_random_spell = pd.read_csv(input_dataset_random_spell_file, sep=',', header='infer')  \n",
        "input_dataset_random_spell.head(10)"
      ],
      "execution_count": 31,
      "outputs": [
        {
          "output_type": "stream",
          "text": [
            "Downloading...\n",
            "From: https://drive.google.com/uc?id=1F55BBy4tHfKM3DoJjc4XsfX9tvaYUe8d\n",
            "To: /content/input_dataset_random_spell.csv\n",
            "3.73MB [00:00, 208MB/s]\n"
          ],
          "name": "stderr"
        },
        {
          "output_type": "execute_result",
          "data": {
            "text/html": [
              "<div>\n",
              "<style scoped>\n",
              "    .dataframe tbody tr th:only-of-type {\n",
              "        vertical-align: middle;\n",
              "    }\n",
              "\n",
              "    .dataframe tbody tr th {\n",
              "        vertical-align: top;\n",
              "    }\n",
              "\n",
              "    .dataframe thead th {\n",
              "        text-align: right;\n",
              "    }\n",
              "</style>\n",
              "<table border=\"1\" class=\"dataframe\">\n",
              "  <thead>\n",
              "    <tr style=\"text-align: right;\">\n",
              "      <th></th>\n",
              "      <th>Unnamed: 0</th>\n",
              "      <th>sentence_index</th>\n",
              "      <th>sentence</th>\n",
              "      <th>phrase</th>\n",
              "      <th>phrase_ids</th>\n",
              "      <th>splitset_label</th>\n",
              "      <th>sentiment_values</th>\n",
              "      <th>phrase_cleaned</th>\n",
              "    </tr>\n",
              "  </thead>\n",
              "  <tbody>\n",
              "    <tr>\n",
              "      <th>0</th>\n",
              "      <td>0</td>\n",
              "      <td>1</td>\n",
              "      <td>Trhe Rock is destinated ro be thwe 21 Century ...</td>\n",
              "      <td>The Rock is destined to be the 21st Century 's...</td>\n",
              "      <td>226166</td>\n",
              "      <td>1</td>\n",
              "      <td>3</td>\n",
              "      <td>The Rock is destined to be the 21st Century's ...</td>\n",
              "    </tr>\n",
              "    <tr>\n",
              "      <th>1</th>\n",
              "      <td>1</td>\n",
              "      <td>2</td>\n",
              "      <td>The gorgeously elaborate continuation og ` ` T...</td>\n",
              "      <td>The gorgeously elaborate continuation of `` Th...</td>\n",
              "      <td>226300</td>\n",
              "      <td>1</td>\n",
              "      <td>4</td>\n",
              "      <td>The gorgeously elaborate continuation of `` Th...</td>\n",
              "    </tr>\n",
              "    <tr>\n",
              "      <th>2</th>\n",
              "      <td>2</td>\n",
              "      <td>3</td>\n",
              "      <td>Effective but two - tepid biopic</td>\n",
              "      <td>Effective but too-tepid biopic</td>\n",
              "      <td>13995</td>\n",
              "      <td>2</td>\n",
              "      <td>2</td>\n",
              "      <td>Effective but too-tepid biopic</td>\n",
              "    </tr>\n",
              "    <tr>\n",
              "      <th>3</th>\n",
              "      <td>3</td>\n",
              "      <td>4</td>\n",
              "      <td>If you sometmes like to go ato the movies rto ...</td>\n",
              "      <td>If you sometimes like to go to the movies to h...</td>\n",
              "      <td>14123</td>\n",
              "      <td>2</td>\n",
              "      <td>3</td>\n",
              "      <td>If you sometimes like to go to the movies to h...</td>\n",
              "    </tr>\n",
              "    <tr>\n",
              "      <th>4</th>\n",
              "      <td>4</td>\n",
              "      <td>5</td>\n",
              "      <td>Emerges as smth rare, an isuue movie wath ' s ...</td>\n",
              "      <td>Emerges as something rare , an issue movie tha...</td>\n",
              "      <td>13999</td>\n",
              "      <td>2</td>\n",
              "      <td>4</td>\n",
              "      <td>Emerges as something rare , an issue movie tha...</td>\n",
              "    </tr>\n",
              "    <tr>\n",
              "      <th>5</th>\n",
              "      <td>5</td>\n",
              "      <td>6</td>\n",
              "      <td>Than filme provides some great insight inte th...</td>\n",
              "      <td>The film provides some great insight into the ...</td>\n",
              "      <td>14498</td>\n",
              "      <td>2</td>\n",
              "      <td>2</td>\n",
              "      <td>The film provides some great insight into the ...</td>\n",
              "    </tr>\n",
              "    <tr>\n",
              "      <th>6</th>\n",
              "      <td>6</td>\n",
              "      <td>7</td>\n",
              "      <td>Offers that rar combination of entertainment o...</td>\n",
              "      <td>Offers that rare combination of entertainment ...</td>\n",
              "      <td>14351</td>\n",
              "      <td>2</td>\n",
              "      <td>4</td>\n",
              "      <td>Offers that rare combination of entertainment ...</td>\n",
              "    </tr>\n",
              "    <tr>\n",
              "      <th>7</th>\n",
              "      <td>7</td>\n",
              "      <td>8</td>\n",
              "      <td>Perhaps non picture every made haas more liter...</td>\n",
              "      <td>Perhaps no picture ever made has more literall...</td>\n",
              "      <td>14371</td>\n",
              "      <td>2</td>\n",
              "      <td>3</td>\n",
              "      <td>Perhaps no picture ever made has more literall...</td>\n",
              "    </tr>\n",
              "    <tr>\n",
              "      <th>8</th>\n",
              "      <td>8</td>\n",
              "      <td>9</td>\n",
              "      <td>Steers turns uin a snappy screenplay that curl...</td>\n",
              "      <td>Steers turns in a snappy screenplay that curls...</td>\n",
              "      <td>225968</td>\n",
              "      <td>2</td>\n",
              "      <td>3</td>\n",
              "      <td>Steers turns in a snappy screenplay that curls...</td>\n",
              "    </tr>\n",
              "    <tr>\n",
              "      <th>9</th>\n",
              "      <td>9</td>\n",
              "      <td>10</td>\n",
              "      <td>But He somehow pulls it Of.</td>\n",
              "      <td>But he somehow pulls it off .</td>\n",
              "      <td>222746</td>\n",
              "      <td>2</td>\n",
              "      <td>3</td>\n",
              "      <td>But he somehow pulls it off .</td>\n",
              "    </tr>\n",
              "  </tbody>\n",
              "</table>\n",
              "</div>"
            ],
            "text/plain": [
              "   Unnamed: 0  ...                                     phrase_cleaned\n",
              "0           0  ...  The Rock is destined to be the 21st Century's ...\n",
              "1           1  ...  The gorgeously elaborate continuation of `` Th...\n",
              "2           2  ...                     Effective but too-tepid biopic\n",
              "3           3  ...  If you sometimes like to go to the movies to h...\n",
              "4           4  ...  Emerges as something rare , an issue movie tha...\n",
              "5           5  ...  The film provides some great insight into the ...\n",
              "6           6  ...  Offers that rare combination of entertainment ...\n",
              "7           7  ...  Perhaps no picture ever made has more literall...\n",
              "8           8  ...  Steers turns in a snappy screenplay that curls...\n",
              "9           9  ...                      But he somehow pulls it off .\n",
              "\n",
              "[10 rows x 8 columns]"
            ]
          },
          "metadata": {
            "tags": []
          },
          "execution_count": 31
        }
      ]
    },
    {
      "cell_type": "code",
      "metadata": {
        "id": "O8lt3B6p5_5N"
      },
      "source": [
        "import torch"
      ],
      "execution_count": null,
      "outputs": []
    },
    {
      "cell_type": "code",
      "metadata": {
        "colab": {
          "base_uri": "https://localhost:8080/",
          "height": 1000
        },
        "id": "7KsBNEd64Si9",
        "outputId": "01f66033-c9c7-43dd-8f31-e19c31b22d55"
      },
      "source": [
        "if augment_data_refresh == True:\n",
        "  en2de = torch.hub.load('pytorch/fairseq', 'transformer.wmt19.en-de')\n",
        "  de2en = torch.hub.load('pytorch/fairseq', 'transformer.wmt19.de-en')\n",
        "  input_dataset_random_back_trans = input_dataset.copy()\n",
        "  aug_back_trans = naw.BackTranslationAug(\n",
        "      from_model_name='transformer.wmt19.en-de', \n",
        "      to_model_name='transformer.wmt19.de-en')\n",
        "  back_trans_sentences = input_dataset_random_back_trans['sentence'].progress_apply(aug_back_trans.augment)\n",
        "  input_dataset_random_back_trans['sentence'] = back_trans_sentences\n",
        "  input_dataset_random_back_trans.to_csv('input_dataset_back_trans.csv')\n",
        "  # manually upload above file to gdrive and set read permission for everyone  \n",
        "else:\n",
        "  input_dataset_random_back_trans_url = 'https://drive.google.com/uc?id=12zp8N8Jig2ZIowkVCr-zjXbKFHVXf5Jn'\n",
        "  input_dataset_random_back_trans_file = 'input_dataset_back_trans.csv'\n",
        "  gdown.download(input_dataset_random_back_trans_url, input_dataset_random_back_trans_file, quiet=False)\n",
        "  input_dataset_random_back_trans = pd.read_csv(input_dataset_random_back_trans_file, sep=',', header='infer')  \n",
        "input_dataset_random_back_trans.head(10)"
      ],
      "execution_count": 33,
      "outputs": [
        {
          "output_type": "stream",
          "text": [
            "Downloading...\n",
            "From: https://drive.google.com/uc?id=12zp8N8Jig2ZIowkVCr-zjXbKFHVXf5Jn\n",
            "To: /content/input_dataset_back_trans.csv\n",
            "100%|██████████| 333k/333k [00:00<00:00, 53.3MB/s]\n"
          ],
          "name": "stderr"
        },
        {
          "output_type": "execute_result",
          "data": {
            "text/html": [
              "<div>\n",
              "<style scoped>\n",
              "    .dataframe tbody tr th:only-of-type {\n",
              "        vertical-align: middle;\n",
              "    }\n",
              "\n",
              "    .dataframe tbody tr th {\n",
              "        vertical-align: top;\n",
              "    }\n",
              "\n",
              "    .dataframe thead th {\n",
              "        text-align: right;\n",
              "    }\n",
              "</style>\n",
              "<table border=\"1\" class=\"dataframe\">\n",
              "  <thead>\n",
              "    <tr style=\"text-align: right;\">\n",
              "      <th></th>\n",
              "      <th>Unnamed: 0</th>\n",
              "      <th>sentence_index</th>\n",
              "      <th>sentence</th>\n",
              "      <th>phrase</th>\n",
              "      <th>phrase_ids</th>\n",
              "      <th>splitset_label</th>\n",
              "      <th>sentiment_values</th>\n",
              "      <th>phrase_cleaned</th>\n",
              "    </tr>\n",
              "  </thead>\n",
              "  <tbody>\n",
              "    <tr>\n",
              "      <th>0</th>\n",
              "      <td>0</td>\n",
              "      <td>1</td>\n",
              "      <td>The rock is destined to be the 21st Century \"n...</td>\n",
              "      <td>The Rock is destined to be the 21st Century 's...</td>\n",
              "      <td>226166</td>\n",
              "      <td>1</td>\n",
              "      <td>3</td>\n",
              "      <td>The Rock is destined to be the 21st Century's ...</td>\n",
              "    </tr>\n",
              "    <tr>\n",
              "      <th>1</th>\n",
              "      <td>1</td>\n",
              "      <td>2</td>\n",
              "      <td>The gorgeously elaborate continuation of `` Th...</td>\n",
              "      <td>The gorgeously elaborate continuation of `` Th...</td>\n",
              "      <td>226300</td>\n",
              "      <td>1</td>\n",
              "      <td>4</td>\n",
              "      <td>The gorgeously elaborate continuation of `` Th...</td>\n",
              "    </tr>\n",
              "    <tr>\n",
              "      <th>2</th>\n",
              "      <td>2</td>\n",
              "      <td>3</td>\n",
              "      <td>Effective but too tepid biopic</td>\n",
              "      <td>Effective but too-tepid biopic</td>\n",
              "      <td>13995</td>\n",
              "      <td>2</td>\n",
              "      <td>2</td>\n",
              "      <td>Effective but too-tepid biopic</td>\n",
              "    </tr>\n",
              "    <tr>\n",
              "      <th>3</th>\n",
              "      <td>3</td>\n",
              "      <td>4</td>\n",
              "      <td>If you like going to the movies sometimes, to ...</td>\n",
              "      <td>If you sometimes like to go to the movies to h...</td>\n",
              "      <td>14123</td>\n",
              "      <td>2</td>\n",
              "      <td>3</td>\n",
              "      <td>If you sometimes like to go to the movies to h...</td>\n",
              "    </tr>\n",
              "    <tr>\n",
              "      <th>4</th>\n",
              "      <td>4</td>\n",
              "      <td>5</td>\n",
              "      <td>Turns out to be something rare, a subject film...</td>\n",
              "      <td>Emerges as something rare , an issue movie tha...</td>\n",
              "      <td>13999</td>\n",
              "      <td>2</td>\n",
              "      <td>4</td>\n",
              "      <td>Emerges as something rare , an issue movie tha...</td>\n",
              "    </tr>\n",
              "    <tr>\n",
              "      <th>5</th>\n",
              "      <td>5</td>\n",
              "      <td>6</td>\n",
              "      <td>The film has all the comics some great insight...</td>\n",
              "      <td>The film provides some great insight into the ...</td>\n",
              "      <td>14498</td>\n",
              "      <td>2</td>\n",
              "      <td>2</td>\n",
              "      <td>The film provides some great insight into the ...</td>\n",
              "    </tr>\n",
              "    <tr>\n",
              "      <th>6</th>\n",
              "      <td>6</td>\n",
              "      <td>7</td>\n",
              "      <td>Offers that rare combination of entertainment ...</td>\n",
              "      <td>Offers that rare combination of entertainment ...</td>\n",
              "      <td>14351</td>\n",
              "      <td>2</td>\n",
              "      <td>4</td>\n",
              "      <td>Offers that rare combination of entertainment ...</td>\n",
              "    </tr>\n",
              "    <tr>\n",
              "      <th>7</th>\n",
              "      <td>7</td>\n",
              "      <td>8</td>\n",
              "      <td>Perhaps even no image has made literally has s...</td>\n",
              "      <td>Perhaps no picture ever made has more literall...</td>\n",
              "      <td>14371</td>\n",
              "      <td>2</td>\n",
              "      <td>3</td>\n",
              "      <td>Perhaps no picture ever made has more literall...</td>\n",
              "    </tr>\n",
              "    <tr>\n",
              "      <th>8</th>\n",
              "      <td>8</td>\n",
              "      <td>9</td>\n",
              "      <td>Ruffles Steers turns in a snappy script that a...</td>\n",
              "      <td>Steers turns in a snappy screenplay that curls...</td>\n",
              "      <td>225968</td>\n",
              "      <td>2</td>\n",
              "      <td>3</td>\n",
              "      <td>Steers turns in a snappy screenplay that curls...</td>\n",
              "    </tr>\n",
              "    <tr>\n",
              "      <th>9</th>\n",
              "      <td>9</td>\n",
              "      <td>10</td>\n",
              "      <td>But he pulls it off somehow.</td>\n",
              "      <td>But he somehow pulls it off .</td>\n",
              "      <td>222746</td>\n",
              "      <td>2</td>\n",
              "      <td>3</td>\n",
              "      <td>But he somehow pulls it off .</td>\n",
              "    </tr>\n",
              "  </tbody>\n",
              "</table>\n",
              "</div>"
            ],
            "text/plain": [
              "   Unnamed: 0  ...                                     phrase_cleaned\n",
              "0           0  ...  The Rock is destined to be the 21st Century's ...\n",
              "1           1  ...  The gorgeously elaborate continuation of `` Th...\n",
              "2           2  ...                     Effective but too-tepid biopic\n",
              "3           3  ...  If you sometimes like to go to the movies to h...\n",
              "4           4  ...  Emerges as something rare , an issue movie tha...\n",
              "5           5  ...  The film provides some great insight into the ...\n",
              "6           6  ...  Offers that rare combination of entertainment ...\n",
              "7           7  ...  Perhaps no picture ever made has more literall...\n",
              "8           8  ...  Steers turns in a snappy screenplay that curls...\n",
              "9           9  ...                      But he somehow pulls it off .\n",
              "\n",
              "[10 rows x 8 columns]"
            ]
          },
          "metadata": {
            "tags": []
          },
          "execution_count": 33
        }
      ]
    },
    {
      "cell_type": "code",
      "metadata": {
        "colab": {
          "base_uri": "https://localhost:8080/",
          "height": 299
        },
        "id": "NSX9hF_XDKUf",
        "outputId": "2e4fc17b-f58a-4918-90bf-edf7c521cd6d"
      },
      "source": [
        "# append all augmented datasets to the oiginal input dataset\n",
        "output_dataset = output_dataset.append(input_dataset_aug_synonym)\n",
        "output_dataset = output_dataset.append(input_dataset_random_word_swap)\n",
        "output_dataset = output_dataset.append(input_dataset_random_word_del)\n",
        "output_dataset = output_dataset.append(input_dataset_random_spell)\n",
        "output_dataset = output_dataset.append(input_dataset_random_back_trans)\n",
        "output_dataset.describe()"
      ],
      "execution_count": 34,
      "outputs": [
        {
          "output_type": "execute_result",
          "data": {
            "text/html": [
              "<div>\n",
              "<style scoped>\n",
              "    .dataframe tbody tr th:only-of-type {\n",
              "        vertical-align: middle;\n",
              "    }\n",
              "\n",
              "    .dataframe tbody tr th {\n",
              "        vertical-align: top;\n",
              "    }\n",
              "\n",
              "    .dataframe thead th {\n",
              "        text-align: right;\n",
              "    }\n",
              "</style>\n",
              "<table border=\"1\" class=\"dataframe\">\n",
              "  <thead>\n",
              "    <tr style=\"text-align: right;\">\n",
              "      <th></th>\n",
              "      <th>sentence_index</th>\n",
              "      <th>phrase_ids</th>\n",
              "      <th>splitset_label</th>\n",
              "      <th>sentiment_values</th>\n",
              "      <th>Unnamed: 0</th>\n",
              "    </tr>\n",
              "  </thead>\n",
              "  <tbody>\n",
              "    <tr>\n",
              "      <th>count</th>\n",
              "      <td>57431.000000</td>\n",
              "      <td>57431.000000</td>\n",
              "      <td>57431.000000</td>\n",
              "      <td>57431.000000</td>\n",
              "      <td>46145.000000</td>\n",
              "    </tr>\n",
              "    <tr>\n",
              "      <th>mean</th>\n",
              "      <td>5817.042172</td>\n",
              "      <td>130673.972106</td>\n",
              "      <td>1.383469</td>\n",
              "      <td>2.077554</td>\n",
              "      <td>5530.946365</td>\n",
              "    </tr>\n",
              "    <tr>\n",
              "      <th>std</th>\n",
              "      <td>3465.223321</td>\n",
              "      <td>69079.143650</td>\n",
              "      <td>0.646692</td>\n",
              "      <td>1.288834</td>\n",
              "      <td>3308.700237</td>\n",
              "    </tr>\n",
              "    <tr>\n",
              "      <th>min</th>\n",
              "      <td>1.000000</td>\n",
              "      <td>3467.000000</td>\n",
              "      <td>1.000000</td>\n",
              "      <td>0.000000</td>\n",
              "      <td>0.000000</td>\n",
              "    </tr>\n",
              "    <tr>\n",
              "      <th>25%</th>\n",
              "      <td>2792.000000</td>\n",
              "      <td>66727.000000</td>\n",
              "      <td>1.000000</td>\n",
              "      <td>1.000000</td>\n",
              "      <td>2633.000000</td>\n",
              "    </tr>\n",
              "    <tr>\n",
              "      <th>50%</th>\n",
              "      <td>5800.000000</td>\n",
              "      <td>143734.000000</td>\n",
              "      <td>1.000000</td>\n",
              "      <td>2.000000</td>\n",
              "      <td>5517.000000</td>\n",
              "    </tr>\n",
              "    <tr>\n",
              "      <th>75%</th>\n",
              "      <td>8815.000000</td>\n",
              "      <td>188071.000000</td>\n",
              "      <td>2.000000</td>\n",
              "      <td>3.000000</td>\n",
              "      <td>8401.000000</td>\n",
              "    </tr>\n",
              "    <tr>\n",
              "      <th>max</th>\n",
              "      <td>11855.000000</td>\n",
              "      <td>238977.000000</td>\n",
              "      <td>3.000000</td>\n",
              "      <td>4.000000</td>\n",
              "      <td>11285.000000</td>\n",
              "    </tr>\n",
              "  </tbody>\n",
              "</table>\n",
              "</div>"
            ],
            "text/plain": [
              "       sentence_index     phrase_ids  ...  sentiment_values    Unnamed: 0\n",
              "count    57431.000000   57431.000000  ...      57431.000000  46145.000000\n",
              "mean      5817.042172  130673.972106  ...          2.077554   5530.946365\n",
              "std       3465.223321   69079.143650  ...          1.288834   3308.700237\n",
              "min          1.000000    3467.000000  ...          0.000000      0.000000\n",
              "25%       2792.000000   66727.000000  ...          1.000000   2633.000000\n",
              "50%       5800.000000  143734.000000  ...          2.000000   5517.000000\n",
              "75%       8815.000000  188071.000000  ...          3.000000   8401.000000\n",
              "max      11855.000000  238977.000000  ...          4.000000  11285.000000\n",
              "\n",
              "[8 rows x 5 columns]"
            ]
          },
          "metadata": {
            "tags": []
          },
          "execution_count": 34
        }
      ]
    },
    {
      "cell_type": "markdown",
      "metadata": {
        "id": "omn-xAIWLPYO"
      },
      "source": [
        "### Setup Train, Dev (Validation), Test Datasets ###"
      ]
    },
    {
      "cell_type": "code",
      "metadata": {
        "id": "VOgq-PiNDinA"
      },
      "source": [
        "# create the train, dev and test datasets in a 60%, 20%, 20% split randomly\n",
        "import numpy as np\n",
        "\n",
        "output_dataset['label'] = '__label__' + output_dataset['sentiment_values'].map(str) \n",
        "#output_dataset.to_csv('sst_output_dataset1.csv')\n",
        "header = ['label', 'sentence']\n",
        "#output_dataset.to_csv('sst_output_dataset1.txt', sep ='\\t', \n",
        "#                      columns=header, index=False, header=False)\n",
        "\n",
        "train_output_dataset, dev_output_dataset, test_output_dataset = \\\n",
        "              np.split(output_dataset.sample(frac=1, random_state=42), \n",
        "                       [int(.6*len(output_dataset)), int(.8*len(output_dataset))])"
      ],
      "execution_count": 35,
      "outputs": []
    },
    {
      "cell_type": "code",
      "metadata": {
        "id": "Sktny-kjDsTl"
      },
      "source": [
        "train_output_dataset.to_csv('sst_train.txt', sep ='\\t', \n",
        "                      columns=header, index=False, header=False)"
      ],
      "execution_count": 36,
      "outputs": []
    },
    {
      "cell_type": "code",
      "metadata": {
        "id": "XiKPXJ7FDwNU"
      },
      "source": [
        "dev_output_dataset.to_csv('sst_dev.txt', sep ='\\t', \n",
        "                      columns=header, index=False, header=False)"
      ],
      "execution_count": 37,
      "outputs": []
    },
    {
      "cell_type": "code",
      "metadata": {
        "id": "F6a6HUUUDzG9"
      },
      "source": [
        "test_output_dataset.to_csv('sst_test.txt', sep ='\\t', \n",
        "                      columns=header, index=False, header=False)"
      ],
      "execution_count": 38,
      "outputs": []
    },
    {
      "cell_type": "code",
      "metadata": {
        "colab": {
          "base_uri": "https://localhost:8080/"
        },
        "id": "Qf1RwYNHHuYK",
        "outputId": "199fab13-d060-410c-de88-0f1066bb25ee"
      },
      "source": [
        "!ls -alh *.txt"
      ],
      "execution_count": 39,
      "outputs": [
        {
          "output_type": "stream",
          "text": [
            "-rw-r--r-- 1 root root 1.2M Jun  8 14:56 sst_dev.txt\n",
            "-rw-r--r-- 1 root root 1.2M Jun  8 14:56 sst_test.txt\n",
            "-rw-r--r-- 1 root root 3.6M Jun  8 14:56 sst_train.txt\n"
          ],
          "name": "stdout"
        }
      ]
    },
    {
      "cell_type": "code",
      "metadata": {
        "id": "VyzRffg8EaVE"
      },
      "source": [
        "def read_sst5(data_dir, colnames=[LABEL_COL, TEXT_COL]):\n",
        "    datasets = {}\n",
        "    for t in [\"train\", \"dev\", \"test\"]:\n",
        "        df = pd.read_csv(os.path.join(data_dir, f\"sst_{t}.txt\"), sep='\\t', header=None, names=colnames)\n",
        "        df[LABEL_COL] = df[LABEL_COL].str.replace('__label__', '')\n",
        "        df[LABEL_COL] = df[LABEL_COL].astype(int)   # Categorical data type for truth labels\n",
        "        df[LABEL_COL] = df[LABEL_COL] - 1  # Zero-index labels for PyTorch\n",
        "        datasets[t] = df\n",
        "    return datasets"
      ],
      "execution_count": 40,
      "outputs": []
    },
    {
      "cell_type": "code",
      "metadata": {
        "colab": {
          "base_uri": "https://localhost:8080/"
        },
        "id": "0O_HDEfKEqTR",
        "outputId": "029d39db-8eb0-4108-bc53-8bfb1fefbf8e"
      },
      "source": [
        "data_dict=read_sst5(DATASET_DIR , colnames=[LABEL_COL,TEXT_COL])\n",
        "data_dict"
      ],
      "execution_count": 41,
      "outputs": [
        {
          "output_type": "execute_result",
          "data": {
            "text/plain": [
              "{'dev':        label                                               text\n",
              " 0          2  May be far from the best of the series, but in...\n",
              " 1          3  Bold and subversive film that cuts across the ...\n",
              " 2          3  .. . if you ' re in a judgement set for whacky...\n",
              " 3          1  Non kid, world health organization do n ' trii...\n",
              " 4          2  Like many Wsteern action films, this htrliler ...\n",
              " ...      ...                                                ...\n",
              " 11481      1  Cihldrne of the Century, though well dressed a...\n",
              " 11482      0  It 's played in the most straight-faced fashio...\n",
              " 11483      2                  A great companion piece to other.\n",
              " 11484      2  A work of the utmost finesse and perception, i...\n",
              " 11485      3  I poignant and gently humorous parable that lo...\n",
              " \n",
              " [11486 rows x 2 columns],\n",
              " 'test':        label                                               text\n",
              " 0          1  A touch of humor or an unexpected plot twist a...\n",
              " 1          2  This be a moving picture show that is what it ...\n",
              " 2          2  Maintains your understanding for this differen...\n",
              " 3          1  A mvoie htat ' s ujst lpain awufl but still mn...\n",
              " 4          0  Its save - the - planet message clangoring wit...\n",
              " ...      ...                                                ...\n",
              " 11482     -1  Due lo stodgy, soap opera - ish dialog, THER r...\n",
              " 11483      2  Scott finds ideal outlet his flick - knife dic...\n",
              " 11484      2  Achieves a sort of filmic epiphany that revels...\n",
              " 11485      3  The pic is small in ambit, until now perfectly...\n",
              " 11486      1                                           Barely .\n",
              " \n",
              " [11487 rows x 2 columns],\n",
              " 'train':        label                                               text\n",
              " 0          3  Time is a beautiful celluloid to check, an int...\n",
              " 1         -1  In other words, virtually as bad a plastic fil...\n",
              " 2         -1  A turgid little history lesson , humourless an...\n",
              " 3          2                        Wise ande deadpan humorous.\n",
              " 4          0  Just when you think you constitute make signif...\n",
              " ...      ...                                                ...\n",
              " 34453      0  It ' s a strnaeg fiml, one htat was ahrd for m...\n",
              " 34454      3  Asylum material gripping, are the scenes of Ji...\n",
              " 34455      2  On the surface, it ' s a lovers - on - the - r...\n",
              " 34456      0             Here love scenes in someone screaming.\n",
              " 34457      0  This is not a clasisacl rdmaatic namiated feat...\n",
              " \n",
              " [34458 rows x 2 columns]}"
            ]
          },
          "metadata": {
            "tags": []
          },
          "execution_count": 41
        }
      ]
    },
    {
      "cell_type": "code",
      "metadata": {
        "colab": {
          "base_uri": "https://localhost:8080/",
          "height": 362
        },
        "id": "kqOW0TSfGHKa",
        "outputId": "463975d5-ac04-4147-aa4f-e8f18bc9b620"
      },
      "source": [
        "data_dict['train'].head(10)"
      ],
      "execution_count": 42,
      "outputs": [
        {
          "output_type": "execute_result",
          "data": {
            "text/html": [
              "<div>\n",
              "<style scoped>\n",
              "    .dataframe tbody tr th:only-of-type {\n",
              "        vertical-align: middle;\n",
              "    }\n",
              "\n",
              "    .dataframe tbody tr th {\n",
              "        vertical-align: top;\n",
              "    }\n",
              "\n",
              "    .dataframe thead th {\n",
              "        text-align: right;\n",
              "    }\n",
              "</style>\n",
              "<table border=\"1\" class=\"dataframe\">\n",
              "  <thead>\n",
              "    <tr style=\"text-align: right;\">\n",
              "      <th></th>\n",
              "      <th>label</th>\n",
              "      <th>text</th>\n",
              "    </tr>\n",
              "  </thead>\n",
              "  <tbody>\n",
              "    <tr>\n",
              "      <th>0</th>\n",
              "      <td>3</td>\n",
              "      <td>Time is a beautiful celluloid to check, an int...</td>\n",
              "    </tr>\n",
              "    <tr>\n",
              "      <th>1</th>\n",
              "      <td>-1</td>\n",
              "      <td>In other words, virtually as bad a plastic fil...</td>\n",
              "    </tr>\n",
              "    <tr>\n",
              "      <th>2</th>\n",
              "      <td>-1</td>\n",
              "      <td>A turgid little history lesson , humourless an...</td>\n",
              "    </tr>\n",
              "    <tr>\n",
              "      <th>3</th>\n",
              "      <td>2</td>\n",
              "      <td>Wise ande deadpan humorous.</td>\n",
              "    </tr>\n",
              "    <tr>\n",
              "      <th>4</th>\n",
              "      <td>0</td>\n",
              "      <td>Just when you think you constitute make signif...</td>\n",
              "    </tr>\n",
              "    <tr>\n",
              "      <th>5</th>\n",
              "      <td>0</td>\n",
              "      <td>Truth to tell, you ' more than half - - films,...</td>\n",
              "    </tr>\n",
              "    <tr>\n",
              "      <th>6</th>\n",
              "      <td>1</td>\n",
              "      <td>` Sophisticated ' viewers who refuse t0 admmit...</td>\n",
              "    </tr>\n",
              "    <tr>\n",
              "      <th>7</th>\n",
              "      <td>3</td>\n",
              "      <td>Then large - format filme is will suited ro ca...</td>\n",
              "    </tr>\n",
              "    <tr>\n",
              "      <th>8</th>\n",
              "      <td>3</td>\n",
              "      <td>Gay or stargiht, Kissing Jessica Tsein is one ...</td>\n",
              "    </tr>\n",
              "    <tr>\n",
              "      <th>9</th>\n",
              "      <td>2</td>\n",
              "      <td>, soar.</td>\n",
              "    </tr>\n",
              "  </tbody>\n",
              "</table>\n",
              "</div>"
            ],
            "text/plain": [
              "   label                                               text\n",
              "0      3  Time is a beautiful celluloid to check, an int...\n",
              "1     -1  In other words, virtually as bad a plastic fil...\n",
              "2     -1  A turgid little history lesson , humourless an...\n",
              "3      2                        Wise ande deadpan humorous.\n",
              "4      0  Just when you think you constitute make signif...\n",
              "5      0  Truth to tell, you ' more than half - - films,...\n",
              "6      1  ` Sophisticated ' viewers who refuse t0 admmit...\n",
              "7      3  Then large - format filme is will suited ro ca...\n",
              "8      3  Gay or stargiht, Kissing Jessica Tsein is one ...\n",
              "9      2                                            , soar."
            ]
          },
          "metadata": {
            "tags": []
          },
          "execution_count": 42
        }
      ]
    },
    {
      "cell_type": "code",
      "metadata": {
        "colab": {
          "base_uri": "https://localhost:8080/"
        },
        "id": "FoWXB04gGPme",
        "outputId": "975281cb-f6cc-41a5-a5bb-abf125981568"
      },
      "source": [
        "data_dict['train'].shape"
      ],
      "execution_count": 43,
      "outputs": [
        {
          "output_type": "execute_result",
          "data": {
            "text/plain": [
              "(34458, 2)"
            ]
          },
          "metadata": {
            "tags": []
          },
          "execution_count": 43
        }
      ]
    },
    {
      "cell_type": "code",
      "metadata": {
        "colab": {
          "base_uri": "https://localhost:8080/",
          "height": 362
        },
        "id": "qS_vrk_pFUla",
        "outputId": "9e699eb2-b3c2-4631-e4bf-2016bec8a7a4"
      },
      "source": [
        "data_dict['dev'].head(10)"
      ],
      "execution_count": 44,
      "outputs": [
        {
          "output_type": "execute_result",
          "data": {
            "text/html": [
              "<div>\n",
              "<style scoped>\n",
              "    .dataframe tbody tr th:only-of-type {\n",
              "        vertical-align: middle;\n",
              "    }\n",
              "\n",
              "    .dataframe tbody tr th {\n",
              "        vertical-align: top;\n",
              "    }\n",
              "\n",
              "    .dataframe thead th {\n",
              "        text-align: right;\n",
              "    }\n",
              "</style>\n",
              "<table border=\"1\" class=\"dataframe\">\n",
              "  <thead>\n",
              "    <tr style=\"text-align: right;\">\n",
              "      <th></th>\n",
              "      <th>label</th>\n",
              "      <th>text</th>\n",
              "    </tr>\n",
              "  </thead>\n",
              "  <tbody>\n",
              "    <tr>\n",
              "      <th>0</th>\n",
              "      <td>2</td>\n",
              "      <td>May be far from the best of the series, but in...</td>\n",
              "    </tr>\n",
              "    <tr>\n",
              "      <th>1</th>\n",
              "      <td>3</td>\n",
              "      <td>Bold and subversive film that cuts across the ...</td>\n",
              "    </tr>\n",
              "    <tr>\n",
              "      <th>2</th>\n",
              "      <td>3</td>\n",
              "      <td>.. . if you ' re in a judgement set for whacky...</td>\n",
              "    </tr>\n",
              "    <tr>\n",
              "      <th>3</th>\n",
              "      <td>1</td>\n",
              "      <td>Non kid, world health organization do n ' trii...</td>\n",
              "    </tr>\n",
              "    <tr>\n",
              "      <th>4</th>\n",
              "      <td>2</td>\n",
              "      <td>Like many Wsteern action films, this htrliler ...</td>\n",
              "    </tr>\n",
              "    <tr>\n",
              "      <th>5</th>\n",
              "      <td>1</td>\n",
              "      <td>Igby Down is of those movies.</td>\n",
              "    </tr>\n",
              "    <tr>\n",
              "      <th>6</th>\n",
              "      <td>1</td>\n",
              "      <td>Granddad of Le Nouvelle Vague, Jean - Luc Goda...</td>\n",
              "    </tr>\n",
              "    <tr>\n",
              "      <th>7</th>\n",
              "      <td>-1</td>\n",
              "      <td>It makes me the obvious: Abandon hope of good ...</td>\n",
              "    </tr>\n",
              "    <tr>\n",
              "      <th>8</th>\n",
              "      <td>2</td>\n",
              "      <td>.. . tthe story, like Ravel ' is Bolero, build...</td>\n",
              "    </tr>\n",
              "    <tr>\n",
              "      <th>9</th>\n",
              "      <td>3</td>\n",
              "      <td>Scott delivers a terrific performance Im thi's...</td>\n",
              "    </tr>\n",
              "  </tbody>\n",
              "</table>\n",
              "</div>"
            ],
            "text/plain": [
              "   label                                               text\n",
              "0      2  May be far from the best of the series, but in...\n",
              "1      3  Bold and subversive film that cuts across the ...\n",
              "2      3  .. . if you ' re in a judgement set for whacky...\n",
              "3      1  Non kid, world health organization do n ' trii...\n",
              "4      2  Like many Wsteern action films, this htrliler ...\n",
              "5      1                      Igby Down is of those movies.\n",
              "6      1  Granddad of Le Nouvelle Vague, Jean - Luc Goda...\n",
              "7     -1  It makes me the obvious: Abandon hope of good ...\n",
              "8      2  .. . tthe story, like Ravel ' is Bolero, build...\n",
              "9      3  Scott delivers a terrific performance Im thi's..."
            ]
          },
          "metadata": {
            "tags": []
          },
          "execution_count": 44
        }
      ]
    },
    {
      "cell_type": "code",
      "metadata": {
        "colab": {
          "base_uri": "https://localhost:8080/"
        },
        "id": "qPT65s9hGZwK",
        "outputId": "b8747468-c182-4de0-ffd8-a03b503e6369"
      },
      "source": [
        "data_dict['dev'].shape"
      ],
      "execution_count": 45,
      "outputs": [
        {
          "output_type": "execute_result",
          "data": {
            "text/plain": [
              "(11486, 2)"
            ]
          },
          "metadata": {
            "tags": []
          },
          "execution_count": 45
        }
      ]
    },
    {
      "cell_type": "code",
      "metadata": {
        "colab": {
          "base_uri": "https://localhost:8080/"
        },
        "id": "g65vaGbp5VZs",
        "outputId": "063db3d4-74df-4153-8609-0b438141f6c2"
      },
      "source": [
        "data_dict['test'].shape"
      ],
      "execution_count": 46,
      "outputs": [
        {
          "output_type": "execute_result",
          "data": {
            "text/plain": [
              "(11487, 2)"
            ]
          },
          "metadata": {
            "tags": []
          },
          "execution_count": 46
        }
      ]
    },
    {
      "cell_type": "code",
      "metadata": {
        "colab": {
          "base_uri": "https://localhost:8080/"
        },
        "id": "q-YLiyYk5Yc9",
        "outputId": "01ad65e3-b2aa-4318-a198-05d49ef47545"
      },
      "source": [
        "data_dict['train'].label.value_counts()"
      ],
      "execution_count": 47,
      "outputs": [
        {
          "output_type": "execute_result",
          "data": {
            "text/plain": [
              " 2    9174\n",
              " 0    8934\n",
              " 1    6596\n",
              " 3    5446\n",
              "-1    4308\n",
              "Name: label, dtype: int64"
            ]
          },
          "metadata": {
            "tags": []
          },
          "execution_count": 47
        }
      ]
    },
    {
      "cell_type": "markdown",
      "metadata": {
        "id": "XJ6o_79ISSVb"
      },
      "source": [
        "### Defining Fields & Create Train, Validation Data ###"
      ]
    },
    {
      "cell_type": "markdown",
      "metadata": {
        "id": "e63g08ijOrf7"
      },
      "source": [
        "Now we shall be defining LABEL as a LabelField, which is a subclass of Field that sets sequential to False (as it’s our numerical category class). Text is a standard Field object, where we have decided to use the spaCy tokenizer and convert all the text to lower‐ case."
      ]
    },
    {
      "cell_type": "code",
      "metadata": {
        "colab": {
          "base_uri": "https://localhost:8080/"
        },
        "id": "qk8IP4SK1Lrp",
        "outputId": "b0f25d5d-ae1a-4ba4-8066-7b44cec2c25d"
      },
      "source": [
        "# Import Library\n",
        "import random\n",
        "import torch, torchtext\n",
        "from torchtext import legacy\n",
        "from torchtext.legacy import data\n",
        "\n",
        "# Manual Seed\n",
        "SEED = 43\n",
        "torch.manual_seed(SEED)"
      ],
      "execution_count": 48,
      "outputs": [
        {
          "output_type": "execute_result",
          "data": {
            "text/plain": [
              "<torch._C.Generator at 0x7f31a28bbcb0>"
            ]
          },
          "metadata": {
            "tags": []
          },
          "execution_count": 48
        }
      ]
    },
    {
      "cell_type": "code",
      "metadata": {
        "id": "u6bKQax2Mf_U"
      },
      "source": [
        "Text = data.Field(sequential = True, tokenize = 'spacy', batch_first =True, include_lengths=True)#Defines a datatype together with instructions for converting to Tensor.\n",
        "Label = data.LabelField(tokenize ='spacy', is_target=True, batch_first =True, sequential =False)"
      ],
      "execution_count": 49,
      "outputs": []
    },
    {
      "cell_type": "markdown",
      "metadata": {
        "id": "mX-lYIe_O7Vy"
      },
      "source": [
        "Having defined those fields, we now need to produce a list that maps them onto the list of rows that are in the CSV:"
      ]
    },
    {
      "cell_type": "code",
      "metadata": {
        "id": "MMDBHQ9v6-nl"
      },
      "source": [
        "fields=[('text',Text),('label',Label)]"
      ],
      "execution_count": 50,
      "outputs": []
    },
    {
      "cell_type": "markdown",
      "metadata": {
        "id": "ZbtZ-Ph2P1xL"
      },
      "source": [
        "Armed with our declared fields, lets convert from pandas to list to torchtext. We could also use TabularDataset to apply that definition to the CSV directly but showing an alternative approach too."
      ]
    },
    {
      "cell_type": "code",
      "metadata": {
        "id": "kIiHKLQU8al_"
      },
      "source": [
        "example_train=[data.Example.fromlist([data_dict['train'].text[i],data_dict['train'].label[i]],fields) for i in range (data_dict['train'].shape[0])]"
      ],
      "execution_count": 51,
      "outputs": []
    },
    {
      "cell_type": "code",
      "metadata": {
        "id": "nT-flpH-P1cd"
      },
      "source": [
        "# Creating training dataset\n",
        "train = data.Dataset(example_train, fields)"
      ],
      "execution_count": 52,
      "outputs": []
    },
    {
      "cell_type": "markdown",
      "metadata": {
        "id": "gpmKkoIO8vEO"
      },
      "source": [
        "Similarly, perform the above step for validation (dev) dataset."
      ]
    },
    {
      "cell_type": "code",
      "metadata": {
        "id": "VuQjKsfII_rL"
      },
      "source": [
        "%time\n",
        "example_dev=[data.Example.fromlist([data_dict['dev'].text[i],data_dict['dev'].label[i]],fields) for i in range (data_dict['dev'].shape[0])]"
      ],
      "execution_count": 53,
      "outputs": []
    },
    {
      "cell_type": "code",
      "metadata": {
        "id": "DVPITjbYJq4n"
      },
      "source": [
        "# Creating dev/validation dataset\n",
        "dev = data.Dataset(example_dev, fields)"
      ],
      "execution_count": 54,
      "outputs": []
    },
    {
      "cell_type": "code",
      "metadata": {
        "colab": {
          "base_uri": "https://localhost:8080/"
        },
        "id": "gLuAavz4JBO3",
        "outputId": "e2e75f77-2936-4df3-b730-d9784563c9c4"
      },
      "source": [
        "train, dev"
      ],
      "execution_count": 55,
      "outputs": [
        {
          "output_type": "execute_result",
          "data": {
            "text/plain": [
              "(<torchtext.legacy.data.dataset.Dataset at 0x7f31262876d0>,\n",
              " <torchtext.legacy.data.dataset.Dataset at 0x7f3125160090>)"
            ]
          },
          "metadata": {
            "tags": []
          },
          "execution_count": 55
        }
      ]
    },
    {
      "cell_type": "code",
      "metadata": {
        "colab": {
          "base_uri": "https://localhost:8080/"
        },
        "id": "ykvsCGQMR6UD",
        "outputId": "a2b1a329-f47f-47aa-deb6-2f67209708dc"
      },
      "source": [
        "(len(train),len(dev))"
      ],
      "execution_count": 56,
      "outputs": [
        {
          "output_type": "execute_result",
          "data": {
            "text/plain": [
              "(34458, 11486)"
            ]
          },
          "metadata": {
            "tags": []
          },
          "execution_count": 56
        }
      ]
    },
    {
      "cell_type": "markdown",
      "metadata": {
        "id": "kix8P2IKSBaV"
      },
      "source": [
        "An example from the dataset:"
      ]
    },
    {
      "cell_type": "code",
      "metadata": {
        "colab": {
          "base_uri": "https://localhost:8080/"
        },
        "id": "dUpEOQruR9JL",
        "outputId": "97a81d01-12ab-45ad-d46a-8b042289843e"
      },
      "source": [
        "vars(train.examples[10])"
      ],
      "execution_count": 57,
      "outputs": [
        {
          "output_type": "execute_result",
          "data": {
            "text/plain": [
              "{'label': 3,\n",
              " 'text': ['The',\n",
              "  'Bai',\n",
              "  'chum',\n",
              "  'experience',\n",
              "  'direct',\n",
              "  'an',\n",
              "  'small',\n",
              "  'slash',\n",
              "  'of',\n",
              "  'history',\n",
              "  'and',\n",
              "  'opened',\n",
              "  'it',\n",
              "  'up',\n",
              "  'for',\n",
              "  'all',\n",
              "  'of',\n",
              "  'us',\n",
              "  'to',\n",
              "  'understand',\n",
              "  ',',\n",
              "  'and',\n",
              "  'they',\n",
              "  \"'\",\n",
              "  've',\n",
              "  'say',\n",
              "  'a',\n",
              "  'nice',\n",
              "  'little',\n",
              "  'story',\n",
              "  'in',\n",
              "  'the',\n",
              "  'outgrowth',\n",
              "  '.']}"
            ]
          },
          "metadata": {
            "tags": []
          },
          "execution_count": 57
        }
      ]
    },
    {
      "cell_type": "code",
      "metadata": {
        "colab": {
          "base_uri": "https://localhost:8080/"
        },
        "id": "rVlspHSKJ7Df",
        "outputId": "b24b7efd-52ea-4926-ad8a-5c49a452ed3c"
      },
      "source": [
        "vars(dev.examples[10])"
      ],
      "execution_count": 58,
      "outputs": [
        {
          "output_type": "execute_result",
          "data": {
            "text/plain": [
              "{'label': 0,\n",
              " 'text': ['Due',\n",
              "  'to',\n",
              "  'some',\n",
              "  'script',\n",
              "  'weaknesses',\n",
              "  'the',\n",
              "  'casting',\n",
              "  'of',\n",
              "  'the',\n",
              "  \"'\",\n",
              "  'brother',\n",
              "  ',',\n",
              "  'the',\n",
              "  'film',\n",
              "  'trails',\n",
              "  '.']}"
            ]
          },
          "metadata": {
            "tags": []
          },
          "execution_count": 58
        }
      ]
    },
    {
      "cell_type": "markdown",
      "metadata": {
        "id": "AKdllP3FST4N"
      },
      "source": [
        "### Building Vocabulary ###"
      ]
    },
    {
      "cell_type": "markdown",
      "metadata": {
        "id": "SuvWQ-SpSmSz"
      },
      "source": [
        "At this point we would have built a one-hot encoding of each word that is present in the dataset—a rather tedious process. Thankfully, torchtext will do this for us, and will also allow a max_size parameter to be passed in to limit the vocabulary to the most common words. This is normally done to prevent the construction of a huge, memory-hungry model. We don’t want our GPUs too overwhelmed, after all. \n"
      ]
    },
    {
      "cell_type": "code",
      "metadata": {
        "id": "ukXt8VfvKKp5",
        "colab": {
          "base_uri": "https://localhost:8080/"
        },
        "outputId": "138293d5-8800-4658-ed3d-25732646f963"
      },
      "source": [
        "Text.build_vocab(train, vectors = \"glove.6B.300d\", \n",
        "                 unk_init = torch.Tensor.normal_)\n",
        "Label.build_vocab(train)"
      ],
      "execution_count": 59,
      "outputs": [
        {
          "output_type": "stream",
          "text": [
            ".vector_cache/glove.6B.zip: 862MB [02:40, 5.39MB/s]                           \n",
            "100%|█████████▉| 399086/400000 [00:35<00:00, 11562.32it/s]"
          ],
          "name": "stderr"
        }
      ]
    },
    {
      "cell_type": "markdown",
      "metadata": {
        "id": "xvyEeEjXTGhX"
      },
      "source": [
        "By default, torchtext will add two more special tokens, <unk> for unknown words and <pad>, a padding token that will be used to pad all our text to roughly the same size to help with efficient batching on the GPU."
      ]
    },
    {
      "cell_type": "code",
      "metadata": {
        "colab": {
          "base_uri": "https://localhost:8080/"
        },
        "id": "HsOUfeGYM6Uv",
        "outputId": "a2e83c3a-269d-473f-e56f-597d34cfe25e"
      },
      "source": [
        "print('Size of input vocab : ', len(Text.vocab))\n",
        "print('Size of label vocab : ', len(Label.vocab))\n",
        "print('Top 10 words appreared repeatedly :', list(Text.vocab.freqs.most_common(10)))\n",
        "print('Labels : ', Label.vocab.stoi)"
      ],
      "execution_count": 60,
      "outputs": [
        {
          "output_type": "stream",
          "text": [
            "Size of input vocab :  50710\n",
            "Size of label vocab :  5\n",
            "Top 10 words appreared repeatedly : [('.', 34376), (',', 28624), ('the', 21155), ('and', 15484), ('a', 15374), ('of', 15233), ('-', 14700), (\"'\", 14602), ('to', 10782), ('is', 8413)]\n",
            "Labels :  defaultdict(None, {2: 0, 0: 1, 1: 2, 3: 3, -1: 4})\n"
          ],
          "name": "stdout"
        }
      ]
    },
    {
      "cell_type": "markdown",
      "metadata": {
        "id": "EQqMhMoDUDmn"
      },
      "source": [
        "But at first declare the device we are using."
      ]
    },
    {
      "cell_type": "markdown",
      "metadata": {
        "id": "sLWW221gTpNs"
      },
      "source": [
        "Now we need to create a data loader to feed into our training loop. Torchtext provides the BucketIterator method that will produce what it calls a Batch, which is almost, but not quite, like the data loader we used on images."
      ]
    },
    {
      "cell_type": "code",
      "metadata": {
        "id": "Zfo2QhGJUK4l"
      },
      "source": [
        "device = torch.device(\"cuda\" if torch.cuda.is_available() else \"cpu\")"
      ],
      "execution_count": 62,
      "outputs": []
    },
    {
      "cell_type": "code",
      "metadata": {
        "id": "zK2ORoqdTNsM"
      },
      "source": [
        "train_iterator, valid_iterator = data.BucketIterator.splits((train, dev), batch_size = 32, \n",
        "                                                            sort_key = lambda x: len(x.text),\n",
        "                                                            sort_within_batch=True, device = device)"
      ],
      "execution_count": 63,
      "outputs": []
    },
    {
      "cell_type": "markdown",
      "metadata": {
        "id": "Gg7gTFQO4fby"
      },
      "source": [
        "Save the vocabulary for later use"
      ]
    },
    {
      "cell_type": "code",
      "metadata": {
        "id": "niE9Cc6-2bD_"
      },
      "source": [
        "import os, pickle\n",
        "tokenizer_path = './tokenizer.pkl'\n",
        "with open(tokenizer_path, 'wb') as tokens: \n",
        "    pickle.dump(Text.vocab.stoi, tokens)"
      ],
      "execution_count": 64,
      "outputs": []
    },
    {
      "cell_type": "markdown",
      "metadata": {
        "id": "1AbsQwqkVyAy"
      },
      "source": [
        "### Model Definition ###"
      ]
    },
    {
      "cell_type": "markdown",
      "metadata": {
        "id": "E4PED4HJWH4t"
      },
      "source": [
        "We use the Embedding and LSTM modules in PyTorch to build a simple model for classifying reviews.\n",
        "\n",
        "In this model we create three layers. \n",
        "1. First, the words in our reviews are pushed into an Embedding layer, which we have established as a 300-dimensional vector embedding. \n",
        "2. That’s then fed into a 1 stacked-LSTM with 100 hidden features (again, we’re compressing down from the 300-dimensional input like we did with images). We are using 2 LSTMs for using the dropout.\n",
        "3. Finally, the output of the LSTM (the final hidden state after processing the reviews) is pushed through a standard fully connected layer with five outputs to correspond to our five possible classes (very negative, negative, very positive, positive, or neutral)."
      ]
    },
    {
      "cell_type": "code",
      "metadata": {
        "id": "43pVRccMT0bT"
      },
      "source": [
        "import torch.nn as nn\n",
        "import torch.nn.functional as F\n",
        "\n",
        "class classifier(nn.Module):\n",
        "    \n",
        "    # Define all the layers used in model\n",
        "    def __init__(self, vocab_size, embedding_dim, hidden_dim, output_dim, n_layers, dropout,pad_idx):\n",
        "        \n",
        "        super().__init__()          \n",
        "        \n",
        "        # Embedding layer\n",
        "        self.embedding = nn.Embedding(vocab_size, embedding_dim,padding_idx = pad_idx)\n",
        "        \n",
        "        # LSTM layer\n",
        "        self.encoder = nn.LSTM(embedding_dim, \n",
        "                           hidden_dim, \n",
        "                           num_layers=n_layers, \n",
        "                           dropout=dropout,\n",
        "                           batch_first=True)\n",
        "        # try using nn.GRU or nn.RNN here and compare their performances\n",
        "        # try bidirectional and compare their performances\n",
        "        \n",
        "        # Dense layer\n",
        "        self.fc = nn.Linear(hidden_dim, output_dim)\n",
        "        \n",
        "    def forward(self, text, text_lengths):\n",
        "        \n",
        "        # text = [batch size, sent_length]\n",
        "        embedded = self.embedding(text)\n",
        "        # embedded = [batch size, sent_len, emb dim]\n",
        "      \n",
        "        # packed sequence\n",
        "        packed_embedded = nn.utils.rnn.pack_padded_sequence(embedded, text_lengths.cpu(), batch_first=True)\n",
        "        \n",
        "        packed_output, (hidden, cell) = self.encoder(packed_embedded)\n",
        "        #hidden = [batch size, num layers * num directions,hid dim]\n",
        "        #cell = [batch size, num layers * num directions,hid dim]\n",
        "    \n",
        "        # Hidden = [batch size, hid dim * num directions]\n",
        "        dense_outputs = self.fc(hidden)   \n",
        "        \n",
        "        # Final activation function softmax\n",
        "        output = F.softmax(dense_outputs[0], dim=1)\n",
        "            \n",
        "        return output"
      ],
      "execution_count": 65,
      "outputs": []
    },
    {
      "cell_type": "code",
      "metadata": {
        "id": "rwBoGE_X_Fl8"
      },
      "source": [
        "# Define hyperparameters\n",
        "size_of_vocab = len(Text.vocab)\n",
        "embedding_dim = 300\n",
        "num_hidden_nodes = 256\n",
        "num_output_nodes = 5\n",
        "num_layers = 2\n",
        "dropout = 0.5\n",
        "PAD_IDX = Text.vocab.stoi[Text.pad_token]\n",
        "# Instantiate the model\n",
        "model = classifier(size_of_vocab, embedding_dim, num_hidden_nodes, num_output_nodes, num_layers, dropout, PAD_IDX)"
      ],
      "execution_count": 66,
      "outputs": []
    },
    {
      "cell_type": "code",
      "metadata": {
        "colab": {
          "base_uri": "https://localhost:8080/"
        },
        "id": "O-pOMqzJ3eTv",
        "outputId": "7c8eb7e0-5f56-4bbf-fe04-d7a3e14ce447"
      },
      "source": [
        "print(model)\n",
        "\n",
        "#No. of trianable parameters\n",
        "def count_parameters(model):\n",
        "    return sum(p.numel() for p in model.parameters() if p.requires_grad)\n",
        "    \n",
        "print(f'The model has {count_parameters(model):,} trainable parameters')"
      ],
      "execution_count": 67,
      "outputs": [
        {
          "output_type": "stream",
          "text": [
            "classifier(\n",
            "  (embedding): Embedding(50710, 300, padding_idx=1)\n",
            "  (encoder): LSTM(300, 256, num_layers=2, batch_first=True, dropout=0.5)\n",
            "  (fc): Linear(in_features=256, out_features=5, bias=True)\n",
            ")\n",
            "The model has 16,312,013 trainable parameters\n"
          ],
          "name": "stdout"
        }
      ]
    },
    {
      "cell_type": "code",
      "metadata": {
        "colab": {
          "base_uri": "https://localhost:8080/"
        },
        "id": "wfsilWoWvgmW",
        "outputId": "dd68c8b3-693f-476d-d85e-46f393cd4a64"
      },
      "source": [
        "pretrained_embeddings = Text.vocab.vectors\n",
        "\n",
        "print(pretrained_embeddings.shape)"
      ],
      "execution_count": 68,
      "outputs": [
        {
          "output_type": "stream",
          "text": [
            "torch.Size([50710, 300])\n"
          ],
          "name": "stdout"
        }
      ]
    },
    {
      "cell_type": "code",
      "metadata": {
        "colab": {
          "base_uri": "https://localhost:8080/"
        },
        "id": "VLmyKqqrvkXl",
        "outputId": "ff1f47c8-6d00-4135-9d33-4d07f77f6a32"
      },
      "source": [
        "model.embedding.weight.data.copy_(pretrained_embeddings)"
      ],
      "execution_count": 69,
      "outputs": [
        {
          "output_type": "execute_result",
          "data": {
            "text/plain": [
              "tensor([[-0.0166, -0.4668,  2.0909,  ...,  0.3555, -1.2744,  0.5221],\n",
              "        [-1.6279,  1.1723,  0.0272,  ..., -0.5068,  0.5402, -0.6818],\n",
              "        [-0.1256,  0.0136,  0.1031,  ..., -0.3422, -0.0224,  0.1368],\n",
              "        ...,\n",
              "        [-1.3343,  0.3264,  0.4555,  ..., -0.1328, -0.5452,  0.3333],\n",
              "        [-0.2308,  0.1045, -1.2820,  ...,  0.3164,  1.8389,  1.0549],\n",
              "        [ 0.3131,  0.0808, -0.4847,  ...,  1.0063,  0.1666,  0.4495]])"
            ]
          },
          "metadata": {
            "tags": []
          },
          "execution_count": 69
        }
      ]
    },
    {
      "cell_type": "code",
      "metadata": {
        "colab": {
          "base_uri": "https://localhost:8080/"
        },
        "id": "VVds05Wavnpp",
        "outputId": "b01ad6ae-a38a-415b-bf14-bec8f8f6f6b1"
      },
      "source": [
        "UNK_IDX = Text.vocab.stoi[Text.unk_token]\n",
        "\n",
        "model.embedding.weight.data[UNK_IDX] = torch.zeros(embedding_dim)\n",
        "model.embedding.weight.data[PAD_IDX] = torch.zeros(embedding_dim)\n",
        "\n",
        "print(model.embedding.weight.data)"
      ],
      "execution_count": 70,
      "outputs": [
        {
          "output_type": "stream",
          "text": [
            "tensor([[ 0.0000,  0.0000,  0.0000,  ...,  0.0000,  0.0000,  0.0000],\n",
            "        [ 0.0000,  0.0000,  0.0000,  ...,  0.0000,  0.0000,  0.0000],\n",
            "        [-0.1256,  0.0136,  0.1031,  ..., -0.3422, -0.0224,  0.1368],\n",
            "        ...,\n",
            "        [-1.3343,  0.3264,  0.4555,  ..., -0.1328, -0.5452,  0.3333],\n",
            "        [-0.2308,  0.1045, -1.2820,  ...,  0.3164,  1.8389,  1.0549],\n",
            "        [ 0.3131,  0.0808, -0.4847,  ...,  1.0063,  0.1666,  0.4495]])\n"
          ],
          "name": "stdout"
        }
      ]
    },
    {
      "cell_type": "markdown",
      "metadata": {
        "id": "eXajorf5Xz7t"
      },
      "source": [
        "### Model Training and Evaluation ###"
      ]
    },
    {
      "cell_type": "markdown",
      "metadata": {
        "id": "PrE9RpMtZ1Vs"
      },
      "source": [
        "First define the optimizer and loss functions"
      ]
    },
    {
      "cell_type": "code",
      "metadata": {
        "id": "-u86JWdlXvu5"
      },
      "source": [
        "import torch.optim as optim\n",
        "\n",
        "# define optimizer and loss\n",
        "optimizer = optim.Adam(model.parameters(), lr=2e-4)\n",
        "criterion = nn.CrossEntropyLoss()\n",
        "\n",
        "# define metric\n",
        "def binary_accuracy(preds, y):\n",
        "    #round predictions to the closest integer\n",
        "    _, predictions = torch.max(preds, 1)\n",
        "    \n",
        "    correct = (predictions == y).float() \n",
        "    acc = correct.sum() / len(correct)\n",
        "    return acc\n",
        "    \n",
        "# push to cuda if available\n",
        "model = model.to(device)\n",
        "criterion = criterion.to(device)"
      ],
      "execution_count": 71,
      "outputs": []
    },
    {
      "cell_type": "markdown",
      "metadata": {
        "id": "3VCJtNb3Zt8w"
      },
      "source": [
        "The main thing to be aware of in this new training loop is that we have to reference `batch.texts` and `batch.labels` to get the particular fields we’re interested in; they don’t fall out quite as nicely from the enumerator as they do in torchvision."
      ]
    },
    {
      "cell_type": "markdown",
      "metadata": {
        "id": "2WjEPLKsAiS_"
      },
      "source": [
        "**Training Loop**"
      ]
    },
    {
      "cell_type": "code",
      "metadata": {
        "id": "HDWNnGK3Y5oJ"
      },
      "source": [
        "def train(model, iterator, optimizer, criterion):\n",
        "    \n",
        "    # initialize every epoch \n",
        "    epoch_loss = 0\n",
        "    epoch_acc = 0\n",
        "    \n",
        "    # set the model in training phase\n",
        "    model.train()  \n",
        "    \n",
        "    for batch in iterator:\n",
        "        \n",
        "        # resets the gradients after every batch\n",
        "        optimizer.zero_grad()   \n",
        "        \n",
        "        # retrieve text and no. of words\n",
        "        text, text_lengths = batch.text\n",
        "        \n",
        "        # convert to 1D tensor\n",
        "        predictions = model(text, text_lengths).squeeze()  \n",
        "        \n",
        "        # compute the loss\n",
        "        loss = criterion(predictions, batch.label)        \n",
        "        \n",
        "        # compute the binary accuracy\n",
        "        acc = binary_accuracy(predictions, batch.label)   \n",
        "        \n",
        "        # backpropage the loss and compute the gradients\n",
        "        loss.backward()       \n",
        "        \n",
        "        # update the weights\n",
        "        optimizer.step()      \n",
        "        \n",
        "        # loss and accuracy\n",
        "        epoch_loss += loss.item()  \n",
        "        epoch_acc += acc.item()    \n",
        "        \n",
        "    return epoch_loss / len(iterator), epoch_acc / len(iterator)"
      ],
      "execution_count": 72,
      "outputs": []
    },
    {
      "cell_type": "markdown",
      "metadata": {
        "id": "CZcHhkkvAsCt"
      },
      "source": [
        "**Evaluation Loop**"
      ]
    },
    {
      "cell_type": "code",
      "metadata": {
        "id": "zHEe-zSVAriL"
      },
      "source": [
        "def evaluate(model, iterator, criterion):\n",
        "    \n",
        "    # initialize every epoch\n",
        "    epoch_loss = 0\n",
        "    epoch_acc = 0\n",
        "\n",
        "    # deactivating dropout layers\n",
        "    model.eval()\n",
        "    \n",
        "    # deactivates autograd\n",
        "    with torch.no_grad():\n",
        "    \n",
        "        for batch in iterator:\n",
        "        \n",
        "            # retrieve text and no. of words\n",
        "            text, text_lengths = batch.text\n",
        "            \n",
        "            # convert to 1d tensor\n",
        "            predictions = model(text, text_lengths).squeeze()\n",
        "            \n",
        "            # compute loss and accuracy\n",
        "            loss = criterion(predictions, batch.label)\n",
        "            acc = binary_accuracy(predictions, batch.label)\n",
        "            \n",
        "            # keep track of loss and accuracy\n",
        "            epoch_loss += loss.item()\n",
        "            epoch_acc += acc.item()\n",
        "        \n",
        "    return epoch_loss / len(iterator), epoch_acc / len(iterator)"
      ],
      "execution_count": 73,
      "outputs": []
    },
    {
      "cell_type": "markdown",
      "metadata": {
        "id": "L6LJFW7HaJoV"
      },
      "source": [
        "**Let's Train and Evaluate the Model**"
      ]
    },
    {
      "cell_type": "code",
      "metadata": {
        "colab": {
          "base_uri": "https://localhost:8080/"
        },
        "id": "tq330XlnaEU9",
        "outputId": "500a37dd-38db-423e-fb8c-7213894fc59a"
      },
      "source": [
        "N_EPOCHS = 40\n",
        "best_valid_loss = float('inf')\n",
        "train_loss_trend=[]\n",
        "valid_loss_trend=[]\n",
        "train_acc_trend=[]\n",
        "valid_acc_trend=[]\n",
        "model_path='./saved_weights.pt'\n",
        "\n",
        "for epoch in range(N_EPOCHS):\n",
        "     \n",
        "    # train the model\n",
        "    train_loss, train_acc = train(model, train_iterator, optimizer, criterion)\n",
        "    train_loss_trend.append(train_loss)\n",
        "    train_acc_trend.append(train_acc)\n",
        "    \n",
        "    # evaluate the model\n",
        "    valid_loss, valid_acc = evaluate(model, valid_iterator, criterion)\n",
        "    valid_loss_trend.append(valid_loss)\n",
        "    valid_acc_trend.append(valid_acc)\n",
        "\n",
        "    # save the best model\n",
        "    if valid_loss < best_valid_loss:\n",
        "        best_valid_loss = valid_loss\n",
        "        torch.save(model.state_dict(), model_path)\n",
        "    \n",
        "\n",
        "    print('\\n\\tEpoch No: ', epoch)\n",
        "    print(f'\\tTrain Loss: {train_loss:.3f} | Train Acc: {train_acc*100:.2f}%')\n",
        "    print(f'\\t Val. Loss: {valid_loss:.3f} |  Val. Acc: {valid_acc*100:.2f}% \\n')"
      ],
      "execution_count": 74,
      "outputs": [
        {
          "output_type": "stream",
          "text": [
            "\n",
            "\tEpoch No:  0\n",
            "\tTrain Loss: 1.539 | Train Acc: 33.95%\n",
            "\t Val. Loss: 1.515 |  Val. Acc: 36.99% \n",
            "\n",
            "\n",
            "\tEpoch No:  1\n",
            "\tTrain Loss: 1.464 | Train Acc: 42.77%\n",
            "\t Val. Loss: 1.451 |  Val. Acc: 44.35% \n",
            "\n",
            "\n",
            "\tEpoch No:  2\n",
            "\tTrain Loss: 1.396 | Train Acc: 50.56%\n",
            "\t Val. Loss: 1.427 |  Val. Acc: 46.95% \n",
            "\n",
            "\n",
            "\tEpoch No:  3\n",
            "\tTrain Loss: 1.333 | Train Acc: 57.10%\n",
            "\t Val. Loss: 1.392 |  Val. Acc: 50.15% \n",
            "\n",
            "\n",
            "\tEpoch No:  4\n",
            "\tTrain Loss: 1.277 | Train Acc: 62.82%\n",
            "\t Val. Loss: 1.374 |  Val. Acc: 52.36% \n",
            "\n",
            "\n",
            "\tEpoch No:  5\n",
            "\tTrain Loss: 1.230 | Train Acc: 67.51%\n",
            "\t Val. Loss: 1.362 |  Val. Acc: 53.59% \n",
            "\n",
            "\n",
            "\tEpoch No:  6\n",
            "\tTrain Loss: 1.188 | Train Acc: 71.85%\n",
            "\t Val. Loss: 1.334 |  Val. Acc: 56.36% \n",
            "\n",
            "\n",
            "\tEpoch No:  7\n",
            "\tTrain Loss: 1.153 | Train Acc: 75.33%\n",
            "\t Val. Loss: 1.324 |  Val. Acc: 57.56% \n",
            "\n",
            "\n",
            "\tEpoch No:  8\n",
            "\tTrain Loss: 1.127 | Train Acc: 78.08%\n",
            "\t Val. Loss: 1.308 |  Val. Acc: 59.22% \n",
            "\n",
            "\n",
            "\tEpoch No:  9\n",
            "\tTrain Loss: 1.103 | Train Acc: 80.29%\n",
            "\t Val. Loss: 1.302 |  Val. Acc: 59.65% \n",
            "\n",
            "\n",
            "\tEpoch No:  10\n",
            "\tTrain Loss: 1.086 | Train Acc: 82.04%\n",
            "\t Val. Loss: 1.294 |  Val. Acc: 60.45% \n",
            "\n",
            "\n",
            "\tEpoch No:  11\n",
            "\tTrain Loss: 1.074 | Train Acc: 83.19%\n",
            "\t Val. Loss: 1.294 |  Val. Acc: 60.47% \n",
            "\n",
            "\n",
            "\tEpoch No:  12\n",
            "\tTrain Loss: 1.062 | Train Acc: 84.42%\n",
            "\t Val. Loss: 1.278 |  Val. Acc: 62.26% \n",
            "\n",
            "\n",
            "\tEpoch No:  13\n",
            "\tTrain Loss: 1.051 | Train Acc: 85.54%\n",
            "\t Val. Loss: 1.279 |  Val. Acc: 62.07% \n",
            "\n",
            "\n",
            "\tEpoch No:  14\n",
            "\tTrain Loss: 1.044 | Train Acc: 86.09%\n",
            "\t Val. Loss: 1.272 |  Val. Acc: 62.80% \n",
            "\n",
            "\n",
            "\tEpoch No:  15\n",
            "\tTrain Loss: 1.036 | Train Acc: 86.89%\n",
            "\t Val. Loss: 1.271 |  Val. Acc: 62.63% \n",
            "\n",
            "\n",
            "\tEpoch No:  16\n",
            "\tTrain Loss: 1.032 | Train Acc: 87.39%\n",
            "\t Val. Loss: 1.261 |  Val. Acc: 63.84% \n",
            "\n",
            "\n",
            "\tEpoch No:  17\n",
            "\tTrain Loss: 1.024 | Train Acc: 88.08%\n",
            "\t Val. Loss: 1.259 |  Val. Acc: 64.07% \n",
            "\n",
            "\n",
            "\tEpoch No:  18\n",
            "\tTrain Loss: 1.019 | Train Acc: 88.61%\n",
            "\t Val. Loss: 1.254 |  Val. Acc: 64.61% \n",
            "\n",
            "\n",
            "\tEpoch No:  19\n",
            "\tTrain Loss: 1.016 | Train Acc: 88.91%\n",
            "\t Val. Loss: 1.248 |  Val. Acc: 65.26% \n",
            "\n",
            "\n",
            "\tEpoch No:  20\n",
            "\tTrain Loss: 1.011 | Train Acc: 89.40%\n",
            "\t Val. Loss: 1.255 |  Val. Acc: 64.42% \n",
            "\n",
            "\n",
            "\tEpoch No:  21\n",
            "\tTrain Loss: 1.007 | Train Acc: 89.74%\n",
            "\t Val. Loss: 1.248 |  Val. Acc: 65.03% \n",
            "\n",
            "\n",
            "\tEpoch No:  22\n",
            "\tTrain Loss: 1.004 | Train Acc: 90.09%\n",
            "\t Val. Loss: 1.244 |  Val. Acc: 65.66% \n",
            "\n",
            "\n",
            "\tEpoch No:  23\n",
            "\tTrain Loss: 0.999 | Train Acc: 90.53%\n",
            "\t Val. Loss: 1.237 |  Val. Acc: 66.11% \n",
            "\n",
            "\n",
            "\tEpoch No:  24\n",
            "\tTrain Loss: 0.996 | Train Acc: 90.83%\n",
            "\t Val. Loss: 1.243 |  Val. Acc: 65.65% \n",
            "\n",
            "\n",
            "\tEpoch No:  25\n",
            "\tTrain Loss: 0.993 | Train Acc: 91.17%\n",
            "\t Val. Loss: 1.245 |  Val. Acc: 65.37% \n",
            "\n",
            "\n",
            "\tEpoch No:  26\n",
            "\tTrain Loss: 0.990 | Train Acc: 91.41%\n",
            "\t Val. Loss: 1.246 |  Val. Acc: 65.34% \n",
            "\n",
            "\n",
            "\tEpoch No:  27\n",
            "\tTrain Loss: 0.988 | Train Acc: 91.69%\n",
            "\t Val. Loss: 1.234 |  Val. Acc: 66.53% \n",
            "\n",
            "\n",
            "\tEpoch No:  28\n",
            "\tTrain Loss: 0.985 | Train Acc: 91.90%\n",
            "\t Val. Loss: 1.230 |  Val. Acc: 67.02% \n",
            "\n",
            "\n",
            "\tEpoch No:  29\n",
            "\tTrain Loss: 0.983 | Train Acc: 92.14%\n",
            "\t Val. Loss: 1.238 |  Val. Acc: 66.02% \n",
            "\n",
            "\n",
            "\tEpoch No:  30\n",
            "\tTrain Loss: 0.981 | Train Acc: 92.38%\n",
            "\t Val. Loss: 1.225 |  Val. Acc: 67.54% \n",
            "\n",
            "\n",
            "\tEpoch No:  31\n",
            "\tTrain Loss: 0.979 | Train Acc: 92.57%\n",
            "\t Val. Loss: 1.226 |  Val. Acc: 67.55% \n",
            "\n",
            "\n",
            "\tEpoch No:  32\n",
            "\tTrain Loss: 0.977 | Train Acc: 92.76%\n",
            "\t Val. Loss: 1.227 |  Val. Acc: 67.33% \n",
            "\n",
            "\n",
            "\tEpoch No:  33\n",
            "\tTrain Loss: 0.976 | Train Acc: 92.84%\n",
            "\t Val. Loss: 1.221 |  Val. Acc: 67.88% \n",
            "\n",
            "\n",
            "\tEpoch No:  34\n",
            "\tTrain Loss: 0.974 | Train Acc: 93.03%\n",
            "\t Val. Loss: 1.227 |  Val. Acc: 67.35% \n",
            "\n",
            "\n",
            "\tEpoch No:  35\n",
            "\tTrain Loss: 0.973 | Train Acc: 93.16%\n",
            "\t Val. Loss: 1.229 |  Val. Acc: 67.00% \n",
            "\n",
            "\n",
            "\tEpoch No:  36\n",
            "\tTrain Loss: 0.971 | Train Acc: 93.30%\n",
            "\t Val. Loss: 1.219 |  Val. Acc: 68.01% \n",
            "\n",
            "\n",
            "\tEpoch No:  37\n",
            "\tTrain Loss: 0.971 | Train Acc: 93.38%\n",
            "\t Val. Loss: 1.222 |  Val. Acc: 67.86% \n",
            "\n",
            "\n",
            "\tEpoch No:  38\n",
            "\tTrain Loss: 0.969 | Train Acc: 93.58%\n",
            "\t Val. Loss: 1.222 |  Val. Acc: 67.85% \n",
            "\n",
            "\n",
            "\tEpoch No:  39\n",
            "\tTrain Loss: 0.967 | Train Acc: 93.74%\n",
            "\t Val. Loss: 1.216 |  Val. Acc: 68.43% \n",
            "\n"
          ],
          "name": "stdout"
        }
      ]
    },
    {
      "cell_type": "code",
      "metadata": {
        "colab": {
          "base_uri": "https://localhost:8080/",
          "height": 281
        },
        "id": "hMOi6rIXwZ14",
        "outputId": "ca850b05-0565-4e11-b7ba-23cdd8903915"
      },
      "source": [
        "import matplotlib.pyplot as plt\n",
        "plt.plot(train_loss_trend,label='train loss',color=\"red\")\n",
        "plt.plot(valid_loss_trend,label='validation loss ',color=\"blue\")\n",
        "plt.title(\"Train and Validation Loss\")\n",
        "plt.legend()\n",
        "plt.show()"
      ],
      "execution_count": 75,
      "outputs": [
        {
          "output_type": "display_data",
          "data": {
            "image/png": "[encoded data removed]",
            "text/plain": [
              "<Figure size 432x288 with 1 Axes>"
            ]
          },
          "metadata": {
            "tags": [],
            "needs_background": "light"
          }
        }
      ]
    },
    {
      "cell_type": "code",
      "metadata": {
        "colab": {
          "base_uri": "https://localhost:8080/",
          "height": 281
        },
        "id": "68K5xugEHI5a",
        "outputId": "aceea3d6-5429-4a63-c884-4714c99e9098"
      },
      "source": [
        "plt.plot(train_acc_trend,label='train accuracy',color=\"red\")\n",
        "plt.plot(valid_acc_trend,label='validation accuracy',color=\"blue\")\n",
        "plt.title(\"Train and Validation Accuracy\")\n",
        "plt.legend()\n",
        "plt.show()"
      ],
      "execution_count": 76,
      "outputs": [
        {
          "output_type": "display_data",
          "data": {
            "image/png": "[encoded data removed]",
            "text/plain": [
              "<Figure size 432x288 with 1 Axes>"
            ]
          },
          "metadata": {
            "tags": [],
            "needs_background": "light"
          }
        }
      ]
    },
    {
      "cell_type": "markdown",
      "metadata": {
        "id": "0qMZfpFHwGnx"
      },
      "source": [
        "\n",
        "###Model Testing###\n",
        "\n",
        "**Let's Test the Model**\n",
        "\n",
        "The model will be evaluated with the test data that was not used for training.\n"
      ]
    },
    {
      "cell_type": "code",
      "metadata": {
        "id": "m2PQw6R2xgdx"
      },
      "source": [
        "example_test=[data.Example.fromlist([data_dict['test'].text[i],data_dict['test'].label[i]],fields) for i in range (data_dict['test'].shape[0])]\n",
        "test = data.Dataset(example_test, fields)\n",
        "test_iterator=data.BucketIterator(test,batch_size=32,\n",
        "                                  sort_key = lambda x: len(x.text),\n",
        "                                  sort_within_batch=True,device=device)"
      ],
      "execution_count": 77,
      "outputs": []
    },
    {
      "cell_type": "code",
      "metadata": {
        "colab": {
          "base_uri": "https://localhost:8080/"
        },
        "id": "_n3T0jMcwL5R",
        "outputId": "b76efe3c-63cb-475c-ca38-d02327dc12cf"
      },
      "source": [
        "model.load_state_dict(torch.load(model_path))\n",
        "test_loss, test_acc = evaluate(model, test_iterator, criterion)\n",
        "print(f'Test Loss: {test_loss:.3f} | Test Acc: {test_acc*100:.2f}%')"
      ],
      "execution_count": 78,
      "outputs": [
        {
          "output_type": "stream",
          "text": [
            "Test Loss: 1.223 | Test Acc: 67.61%\n"
          ],
          "name": "stdout"
        }
      ]
    },
    {
      "cell_type": "markdown",
      "metadata": {
        "id": "t3BExxED0Iww"
      },
      "source": [
        "###Predict Sentiment###\n",
        "The sentiment is predicted on unseen data, which was never part of the dev, train, test sets. Let's see how the model fares."
      ]
    },
    {
      "cell_type": "code",
      "metadata": {
        "id": "JJQhZSbFylPo"
      },
      "source": [
        "model.load_state_dict(torch.load(model_path));\n",
        "model.eval();\n",
        "tokenizer_file = open(tokenizer_path, 'rb')\n",
        "tokenizer = pickle.load(tokenizer_file)\n",
        "\n",
        "#inference \n",
        "\n",
        "import spacy\n",
        "# load trf instead of base 'en' for greater accuracy\n",
        "nlp = spacy.load('en') \n",
        "\n",
        "\n",
        "def predict_sentiment(text):\n",
        "    #very negative to very positive (- -, -, 0, +, ++)\n",
        "    #Labels :  defaultdict(None, {3: 0, 1: 1, 2: 2, 4: 3, 0: 4})\n",
        "    \n",
        "    categories = {3: \"very negative\", 1:\"negative\", 2:\"Neutral\",4:\"positive\",0:\"very positive\"}\n",
        "    \n",
        "    # tokenize the text \n",
        "    tokenized = [tok.text for tok in nlp.tokenizer(text)] \n",
        "    # convert to integer sequence using predefined tokenizer dictionary\n",
        "    indexed = [tokenizer[t] for t in tokenized]        \n",
        "    # compute no. of words        \n",
        "    length = [len(indexed)]\n",
        "    # convert to tensor                                    \n",
        "    tensor = torch.LongTensor(indexed).to(device)   \n",
        "    # reshape in form of batch, no. of words           \n",
        "    tensor = tensor.unsqueeze(1).T  \n",
        "    # convert to tensor                          \n",
        "    length_tensor = torch.LongTensor(length)\n",
        "    # Get the model prediction                  \n",
        "    prediction = model(tensor, length_tensor)\n",
        "\n",
        "    _, pred = torch.max(prediction, 1) \n",
        "    \n",
        "    return categories[pred.item()]"
      ],
      "execution_count": 79,
      "outputs": []
    },
    {
      "cell_type": "code",
      "metadata": {
        "colab": {
          "base_uri": "https://localhost:8080/",
          "height": 35
        },
        "id": "y7WvOj6uyz6_",
        "outputId": "73e7f328-c4a7-4b35-c130-07db84537de5"
      },
      "source": [
        "# review of mission impossible 5\n",
        "predict_sentiment(\"Make no mistake, this predictable movie is clearly part of the Mission: Impossible franchise -- by which we mean it checks off all the usual boxes.\")"
      ],
      "execution_count": 80,
      "outputs": [
        {
          "output_type": "execute_result",
          "data": {
            "application/vnd.google.colaboratory.intrinsic+json": {
              "type": "string"
            },
            "text/plain": [
              "'negative'"
            ]
          },
          "metadata": {
            "tags": []
          },
          "execution_count": 80
        }
      ]
    },
    {
      "cell_type": "code",
      "metadata": {
        "colab": {
          "base_uri": "https://localhost:8080/",
          "height": 35
        },
        "id": "3TDESIEuzHGn",
        "outputId": "315aa936-cf66-45ef-debd-fff938c41d77"
      },
      "source": [
        "# review of minari\n",
        "predict_sentiment(\"Minari is deeply rooted in the earth, a wellspring of both hope and pain, of boundless promise and terrifying disaster.\")"
      ],
      "execution_count": 81,
      "outputs": [
        {
          "output_type": "execute_result",
          "data": {
            "application/vnd.google.colaboratory.intrinsic+json": {
              "type": "string"
            },
            "text/plain": [
              "'very negative'"
            ]
          },
          "metadata": {
            "tags": []
          },
          "execution_count": 81
        }
      ]
    },
    {
      "cell_type": "code",
      "metadata": {
        "colab": {
          "base_uri": "https://localhost:8080/",
          "height": 35
        },
        "id": "-D_9EwqCzasf",
        "outputId": "237b900f-8f47-444c-835f-d200392dada9"
      },
      "source": [
        "# review of godzilla vs kong\n",
        "predict_sentiment(\"In a patchwork production full of bad ideas poorly executed, Jia also embodies the story’s only good idea.\")"
      ],
      "execution_count": 82,
      "outputs": [
        {
          "output_type": "execute_result",
          "data": {
            "application/vnd.google.colaboratory.intrinsic+json": {
              "type": "string"
            },
            "text/plain": [
              "'very negative'"
            ]
          },
          "metadata": {
            "tags": []
          },
          "execution_count": 82
        }
      ]
    },
    {
      "cell_type": "code",
      "metadata": {
        "colab": {
          "base_uri": "https://localhost:8080/",
          "height": 35
        },
        "id": "M26zaohKz0ko",
        "outputId": "cddd6c01-d4dd-4c32-c898-fe307937ef3a"
      },
      "source": [
        "# review of lunch box\n",
        "predict_sentiment(\"Irrfan leads the way, underplayed, yet lasting, like a cardamom between your lips.\")"
      ],
      "execution_count": 83,
      "outputs": [
        {
          "output_type": "execute_result",
          "data": {
            "application/vnd.google.colaboratory.intrinsic+json": {
              "type": "string"
            },
            "text/plain": [
              "'negative'"
            ]
          },
          "metadata": {
            "tags": []
          },
          "execution_count": 83
        }
      ]
    },
    {
      "cell_type": "code",
      "metadata": {
        "colab": {
          "base_uri": "https://localhost:8080/",
          "height": 35
        },
        "id": "HGXqOxBHz_X_",
        "outputId": "d03fc569-7adb-4f6f-90da-ca29c284cbf6"
      },
      "source": [
        "# review of avengers endgame\n",
        "predict_sentiment(\"The Russo brothers' poignant, powerful finale more than lives up to the hype: It's a thrilling conclusion and a deeply emotional exploration of loss and love, duty and honor, friendship and family.\")"
      ],
      "execution_count": 84,
      "outputs": [
        {
          "output_type": "execute_result",
          "data": {
            "application/vnd.google.colaboratory.intrinsic+json": {
              "type": "string"
            },
            "text/plain": [
              "'very negative'"
            ]
          },
          "metadata": {
            "tags": []
          },
          "execution_count": 84
        }
      ]
    },
    {
      "cell_type": "code",
      "metadata": {
        "colab": {
          "base_uri": "https://localhost:8080/",
          "height": 35
        },
        "id": "nHhYZu6B0cyw",
        "outputId": "dc6ee09d-f6b5-449d-9078-92027f2dd755"
      },
      "source": [
        "# review of godfather\n",
        "predict_sentiment(\"With performances, style and substance to savour, this shows how it is possible to smash box office records without being mindless.\")"
      ],
      "execution_count": 85,
      "outputs": [
        {
          "output_type": "execute_result",
          "data": {
            "application/vnd.google.colaboratory.intrinsic+json": {
              "type": "string"
            },
            "text/plain": [
              "'positive'"
            ]
          },
          "metadata": {
            "tags": []
          },
          "execution_count": 85
        }
      ]
    },
    {
      "cell_type": "code",
      "metadata": {
        "colab": {
          "base_uri": "https://localhost:8080/",
          "height": 35
        },
        "id": "SLqSlz7q0kwO",
        "outputId": "c2c70aa2-b95a-4e1f-c8ec-1a9886dcb258"
      },
      "source": [
        "# review of saving private ryan\n",
        "predict_sentiment(\"Uncompromising, powerful war movie that does not pull any punches. Pefectly balances the inhumanity of war and the humanity of its protagonists. Devastating and essential viewing.\")"
      ],
      "execution_count": 86,
      "outputs": [
        {
          "output_type": "execute_result",
          "data": {
            "application/vnd.google.colaboratory.intrinsic+json": {
              "type": "string"
            },
            "text/plain": [
              "'very negative'"
            ]
          },
          "metadata": {
            "tags": []
          },
          "execution_count": 86
        }
      ]
    }
  ]
}