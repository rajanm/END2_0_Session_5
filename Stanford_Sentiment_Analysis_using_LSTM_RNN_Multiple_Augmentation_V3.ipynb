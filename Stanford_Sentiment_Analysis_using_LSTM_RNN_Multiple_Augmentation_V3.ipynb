{
  "nbformat": 4,
  "nbformat_minor": 0,
  "metadata": {
    "colab": {
      "name": "Stanford Sentiment Analysis using LSTM RNN - Multiple Augmentation V3.ipynb",
      "provenance": [],
      "collapsed_sections": [
        "tp5IzBGsPGHs",
        "jkjbxE3GJ18b",
        "AKdllP3FST4N",
        "1AbsQwqkVyAy"
      ],
      "include_colab_link": true
    },
    "kernelspec": {
      "display_name": "Python 3",
      "name": "python3"
    },
    "accelerator": "GPU",
    "widgets": {
      "application/vnd.jupyter.widget-state+json": {
        "60f4b253c96c48e4b614473696d22826": {
          "model_module": "@jupyter-widgets/controls",
          "model_name": "HBoxModel",
          "state": {
            "_view_name": "HBoxView",
            "_dom_classes": [],
            "_model_name": "HBoxModel",
            "_view_module": "@jupyter-widgets/controls",
            "_model_module_version": "1.5.0",
            "_view_count": null,
            "_view_module_version": "1.5.0",
            "box_style": "",
            "layout": "IPY_MODEL_b38bc73f2ba34515abada2ec483f3c78",
            "_model_module": "@jupyter-widgets/controls",
            "children": [
              "IPY_MODEL_475741ecd79f41df87b20099a44eed0f",
              "IPY_MODEL_0f5eb1fb0d0d44dbb2f2b1c269426907"
            ]
          }
        },
        "b38bc73f2ba34515abada2ec483f3c78": {
          "model_module": "@jupyter-widgets/base",
          "model_name": "LayoutModel",
          "state": {
            "_view_name": "LayoutView",
            "grid_template_rows": null,
            "right": null,
            "justify_content": null,
            "_view_module": "@jupyter-widgets/base",
            "overflow": null,
            "_model_module_version": "1.2.0",
            "_view_count": null,
            "flex_flow": null,
            "width": null,
            "min_width": null,
            "border": null,
            "align_items": null,
            "bottom": null,
            "_model_module": "@jupyter-widgets/base",
            "top": null,
            "grid_column": null,
            "overflow_y": null,
            "overflow_x": null,
            "grid_auto_flow": null,
            "grid_area": null,
            "grid_template_columns": null,
            "flex": null,
            "_model_name": "LayoutModel",
            "justify_items": null,
            "grid_row": null,
            "max_height": null,
            "align_content": null,
            "visibility": null,
            "align_self": null,
            "height": null,
            "min_height": null,
            "padding": null,
            "grid_auto_rows": null,
            "grid_gap": null,
            "max_width": null,
            "order": null,
            "_view_module_version": "1.2.0",
            "grid_template_areas": null,
            "object_position": null,
            "object_fit": null,
            "grid_auto_columns": null,
            "margin": null,
            "display": null,
            "left": null
          }
        },
        "475741ecd79f41df87b20099a44eed0f": {
          "model_module": "@jupyter-widgets/controls",
          "model_name": "FloatProgressModel",
          "state": {
            "_view_name": "ProgressView",
            "style": "IPY_MODEL_276f0c93d92a474f9f6562b9b3ca038c",
            "_dom_classes": [],
            "description": "100%",
            "_model_name": "FloatProgressModel",
            "bar_style": "success",
            "max": 239232,
            "_view_module": "@jupyter-widgets/controls",
            "_model_module_version": "1.5.0",
            "value": 239232,
            "_view_count": null,
            "_view_module_version": "1.5.0",
            "orientation": "horizontal",
            "min": 0,
            "description_tooltip": null,
            "_model_module": "@jupyter-widgets/controls",
            "layout": "IPY_MODEL_08febd9588a448609f7998fb6a0bab92"
          }
        },
        "0f5eb1fb0d0d44dbb2f2b1c269426907": {
          "model_module": "@jupyter-widgets/controls",
          "model_name": "HTMLModel",
          "state": {
            "_view_name": "HTMLView",
            "style": "IPY_MODEL_e275b1d11cac4bcca038a09dbe61aa04",
            "_dom_classes": [],
            "description": "",
            "_model_name": "HTMLModel",
            "placeholder": "​",
            "_view_module": "@jupyter-widgets/controls",
            "_model_module_version": "1.5.0",
            "value": " 239232/239232 [03:47&lt;00:00, 1049.49it/s]",
            "_view_count": null,
            "_view_module_version": "1.5.0",
            "description_tooltip": null,
            "_model_module": "@jupyter-widgets/controls",
            "layout": "IPY_MODEL_99e5cda486604af09d73bcc05f9dccf8"
          }
        },
        "276f0c93d92a474f9f6562b9b3ca038c": {
          "model_module": "@jupyter-widgets/controls",
          "model_name": "ProgressStyleModel",
          "state": {
            "_view_name": "StyleView",
            "_model_name": "ProgressStyleModel",
            "description_width": "initial",
            "_view_module": "@jupyter-widgets/base",
            "_model_module_version": "1.5.0",
            "_view_count": null,
            "_view_module_version": "1.2.0",
            "bar_color": null,
            "_model_module": "@jupyter-widgets/controls"
          }
        },
        "08febd9588a448609f7998fb6a0bab92": {
          "model_module": "@jupyter-widgets/base",
          "model_name": "LayoutModel",
          "state": {
            "_view_name": "LayoutView",
            "grid_template_rows": null,
            "right": null,
            "justify_content": null,
            "_view_module": "@jupyter-widgets/base",
            "overflow": null,
            "_model_module_version": "1.2.0",
            "_view_count": null,
            "flex_flow": null,
            "width": null,
            "min_width": null,
            "border": null,
            "align_items": null,
            "bottom": null,
            "_model_module": "@jupyter-widgets/base",
            "top": null,
            "grid_column": null,
            "overflow_y": null,
            "overflow_x": null,
            "grid_auto_flow": null,
            "grid_area": null,
            "grid_template_columns": null,
            "flex": null,
            "_model_name": "LayoutModel",
            "justify_items": null,
            "grid_row": null,
            "max_height": null,
            "align_content": null,
            "visibility": null,
            "align_self": null,
            "height": null,
            "min_height": null,
            "padding": null,
            "grid_auto_rows": null,
            "grid_gap": null,
            "max_width": null,
            "order": null,
            "_view_module_version": "1.2.0",
            "grid_template_areas": null,
            "object_position": null,
            "object_fit": null,
            "grid_auto_columns": null,
            "margin": null,
            "display": null,
            "left": null
          }
        },
        "e275b1d11cac4bcca038a09dbe61aa04": {
          "model_module": "@jupyter-widgets/controls",
          "model_name": "DescriptionStyleModel",
          "state": {
            "_view_name": "StyleView",
            "_model_name": "DescriptionStyleModel",
            "description_width": "",
            "_view_module": "@jupyter-widgets/base",
            "_model_module_version": "1.5.0",
            "_view_count": null,
            "_view_module_version": "1.2.0",
            "_model_module": "@jupyter-widgets/controls"
          }
        },
        "99e5cda486604af09d73bcc05f9dccf8": {
          "model_module": "@jupyter-widgets/base",
          "model_name": "LayoutModel",
          "state": {
            "_view_name": "LayoutView",
            "grid_template_rows": null,
            "right": null,
            "justify_content": null,
            "_view_module": "@jupyter-widgets/base",
            "overflow": null,
            "_model_module_version": "1.2.0",
            "_view_count": null,
            "flex_flow": null,
            "width": null,
            "min_width": null,
            "border": null,
            "align_items": null,
            "bottom": null,
            "_model_module": "@jupyter-widgets/base",
            "top": null,
            "grid_column": null,
            "overflow_y": null,
            "overflow_x": null,
            "grid_auto_flow": null,
            "grid_area": null,
            "grid_template_columns": null,
            "flex": null,
            "_model_name": "LayoutModel",
            "justify_items": null,
            "grid_row": null,
            "max_height": null,
            "align_content": null,
            "visibility": null,
            "align_self": null,
            "height": null,
            "min_height": null,
            "padding": null,
            "grid_auto_rows": null,
            "grid_gap": null,
            "max_width": null,
            "order": null,
            "_view_module_version": "1.2.0",
            "grid_template_areas": null,
            "object_position": null,
            "object_fit": null,
            "grid_auto_columns": null,
            "margin": null,
            "display": null,
            "left": null
          }
        }
      }
    }
  },
  "cells": [
    {
      "cell_type": "markdown",
      "metadata": {
        "id": "view-in-github",
        "colab_type": "text"
      },
      "source": [
        "<a href=\"https://colab.research.google.com/github/rajanm/END2_0_Session_5/blob/main/Stanford_Sentiment_Analysis_using_LSTM_RNN_Multiple_Augmentation_V3.ipynb\" target=\"_parent\"><img src=\"https://colab.research.google.com/assets/colab-badge.svg\" alt=\"Open In Colab\"/></a>"
      ]
    },
    {
      "cell_type": "markdown",
      "metadata": {
        "id": "tp5IzBGsPGHs"
      },
      "source": [
        "### Setup ###\n",
        "\n",
        "Your first step to deep learning in NLP. We will be mostly using PyTorch. Just like torchvision, PyTorch provides an official library, torchtext, for handling text-processing pipelines. \n",
        "\n",
        "We will be using previous session tweet dataset. Let's just preview the dataset."
      ]
    },
    {
      "cell_type": "code",
      "metadata": {
        "colab": {
          "base_uri": "https://localhost:8080/"
        },
        "id": "r_Z2Q2rvdrKy",
        "outputId": "b269a61c-22a2-4804-cced-8445eb0cc063"
      },
      "source": [
        "!nvidia-smi"
      ],
      "execution_count": null,
      "outputs": [
        {
          "output_type": "stream",
          "text": [
            "Tue Jun  8 16:25:20 2021       \n",
            "+-----------------------------------------------------------------------------+\n",
            "| NVIDIA-SMI 465.27       Driver Version: 460.32.03    CUDA Version: 11.2     |\n",
            "|-------------------------------+----------------------+----------------------+\n",
            "| GPU  Name        Persistence-M| Bus-Id        Disp.A | Volatile Uncorr. ECC |\n",
            "| Fan  Temp  Perf  Pwr:Usage/Cap|         Memory-Usage | GPU-Util  Compute M. |\n",
            "|                               |                      |               MIG M. |\n",
            "|===============================+======================+======================|\n",
            "|   0  Tesla T4            Off  | 00000000:00:04.0 Off |                    0 |\n",
            "| N/A   49C    P8    10W /  70W |      0MiB / 15109MiB |      0%      Default |\n",
            "|                               |                      |                  N/A |\n",
            "+-------------------------------+----------------------+----------------------+\n",
            "                                                                               \n",
            "+-----------------------------------------------------------------------------+\n",
            "| Processes:                                                                  |\n",
            "|  GPU   GI   CI        PID   Type   Process name                  GPU Memory |\n",
            "|        ID   ID                                                   Usage      |\n",
            "|=============================================================================|\n",
            "|  No running processes found                                                 |\n",
            "+-----------------------------------------------------------------------------+\n"
          ],
          "name": "stdout"
        }
      ]
    },
    {
      "cell_type": "code",
      "metadata": {
        "id": "o1-Yz-5RRFYc"
      },
      "source": [
        "import pandas as pd"
      ],
      "execution_count": null,
      "outputs": []
    },
    {
      "cell_type": "code",
      "metadata": {
        "colab": {
          "base_uri": "https://localhost:8080/"
        },
        "id": "QD2pSpTbUmaF",
        "outputId": "e6d05cad-7270-449f-a14e-d452310cec40"
      },
      "source": [
        "!ls -alh"
      ],
      "execution_count": null,
      "outputs": [
        {
          "output_type": "stream",
          "text": [
            "total 16K\n",
            "drwxr-xr-x 1 root root 4.0K Jun  1 13:40 .\n",
            "drwxr-xr-x 1 root root 4.0K Jun  8 16:24 ..\n",
            "drwxr-xr-x 4 root root 4.0K Jun  1 13:40 .config\n",
            "drwxr-xr-x 1 root root 4.0K Jun  1 13:40 sample_data\n"
          ],
          "name": "stdout"
        }
      ]
    },
    {
      "cell_type": "code",
      "metadata": {
        "id": "0--BTAzKEg2T"
      },
      "source": [
        "TEXT_COL, LABEL_COL = 'text', 'label'\n",
        "DATASET_DIR = \"/content/\""
      ],
      "execution_count": null,
      "outputs": []
    },
    {
      "cell_type": "code",
      "metadata": {
        "colab": {
          "base_uri": "https://localhost:8080/"
        },
        "id": "DZ_Fl8ScAu5w",
        "outputId": "2078770c-0797-430e-fd8b-ab705cd467aa"
      },
      "source": [
        "!pip install nlpaug\n",
        "!pip install swifter\n",
        "!pip install gdown"
      ],
      "execution_count": null,
      "outputs": [
        {
          "output_type": "stream",
          "text": [
            "Collecting nlpaug\n",
            "\u001b[?25l  Downloading https://files.pythonhosted.org/packages/eb/f8/b11caecdd19aa2b1b2cb46c6cbbec692abd621aad884e653e459a8546add/nlpaug-1.1.3-py3-none-any.whl (394kB)\n",
            "\r\u001b[K     |▉                               | 10kB 9.3MB/s eta 0:00:01\r\u001b[K     |█▋                              | 20kB 13.9MB/s eta 0:00:01\r\u001b[K     |██▌                             | 30kB 17.4MB/s eta 0:00:01\r\u001b[K     |███▎                            | 40kB 19.4MB/s eta 0:00:01\r\u001b[K     |████▏                           | 51kB 9.1MB/s eta 0:00:01\r\u001b[K     |█████                           | 61kB 8.1MB/s eta 0:00:01\r\u001b[K     |█████▉                          | 71kB 8.3MB/s eta 0:00:01\r\u001b[K     |██████▋                         | 81kB 9.2MB/s eta 0:00:01\r\u001b[K     |███████▌                        | 92kB 10.1MB/s eta 0:00:01\r\u001b[K     |████████▎                       | 102kB 7.2MB/s eta 0:00:01\r\u001b[K     |█████████▏                      | 112kB 7.2MB/s eta 0:00:01\r\u001b[K     |██████████                      | 122kB 7.2MB/s eta 0:00:01\r\u001b[K     |██████████▉                     | 133kB 7.2MB/s eta 0:00:01\r\u001b[K     |███████████▋                    | 143kB 7.2MB/s eta 0:00:01\r\u001b[K     |████████████▌                   | 153kB 7.2MB/s eta 0:00:01\r\u001b[K     |█████████████▎                  | 163kB 7.2MB/s eta 0:00:01\r\u001b[K     |██████████████▏                 | 174kB 7.2MB/s eta 0:00:01\r\u001b[K     |███████████████                 | 184kB 7.2MB/s eta 0:00:01\r\u001b[K     |███████████████▉                | 194kB 7.2MB/s eta 0:00:01\r\u001b[K     |████████████████▋               | 204kB 7.2MB/s eta 0:00:01\r\u001b[K     |█████████████████▌              | 215kB 7.2MB/s eta 0:00:01\r\u001b[K     |██████████████████▎             | 225kB 7.2MB/s eta 0:00:01\r\u001b[K     |███████████████████▏            | 235kB 7.2MB/s eta 0:00:01\r\u001b[K     |████████████████████            | 245kB 7.2MB/s eta 0:00:01\r\u001b[K     |████████████████████▉           | 256kB 7.2MB/s eta 0:00:01\r\u001b[K     |█████████████████████▋          | 266kB 7.2MB/s eta 0:00:01\r\u001b[K     |██████████████████████▌         | 276kB 7.2MB/s eta 0:00:01\r\u001b[K     |███████████████████████▎        | 286kB 7.2MB/s eta 0:00:01\r\u001b[K     |████████████████████████        | 296kB 7.2MB/s eta 0:00:01\r\u001b[K     |█████████████████████████       | 307kB 7.2MB/s eta 0:00:01\r\u001b[K     |█████████████████████████▊      | 317kB 7.2MB/s eta 0:00:01\r\u001b[K     |██████████████████████████▋     | 327kB 7.2MB/s eta 0:00:01\r\u001b[K     |███████████████████████████▍    | 337kB 7.2MB/s eta 0:00:01\r\u001b[K     |████████████████████████████▎   | 348kB 7.2MB/s eta 0:00:01\r\u001b[K     |█████████████████████████████   | 358kB 7.2MB/s eta 0:00:01\r\u001b[K     |██████████████████████████████  | 368kB 7.2MB/s eta 0:00:01\r\u001b[K     |██████████████████████████████▊ | 378kB 7.2MB/s eta 0:00:01\r\u001b[K     |███████████████████████████████▋| 389kB 7.2MB/s eta 0:00:01\r\u001b[K     |████████████████████████████████| 399kB 7.2MB/s \n",
            "\u001b[?25hInstalling collected packages: nlpaug\n",
            "Successfully installed nlpaug-1.1.3\n",
            "Collecting swifter\n",
            "\u001b[?25l  Downloading https://files.pythonhosted.org/packages/f4/3b/04bf42b94a22725241b47e0256458cde11f86f97572dd824e011f1ea8b20/swifter-1.0.7.tar.gz (633kB)\n",
            "\u001b[K     |████████████████████████████████| 634kB 9.5MB/s \n",
            "\u001b[?25hRequirement already satisfied: pandas>=1.0.0 in /usr/local/lib/python3.7/dist-packages (from swifter) (1.1.5)\n",
            "Collecting psutil>=5.6.6\n",
            "\u001b[?25l  Downloading https://files.pythonhosted.org/packages/84/da/f7efdcf012b51506938553dbe302aecc22f3f43abd5cffa8320e8e0588d5/psutil-5.8.0-cp37-cp37m-manylinux2010_x86_64.whl (296kB)\n",
            "\u001b[K     |████████████████████████████████| 296kB 20.1MB/s \n",
            "\u001b[?25hRequirement already satisfied: dask[dataframe]>=2.10.0 in /usr/local/lib/python3.7/dist-packages (from swifter) (2.12.0)\n",
            "Requirement already satisfied: tqdm>=4.33.0 in /usr/local/lib/python3.7/dist-packages (from swifter) (4.41.1)\n",
            "Requirement already satisfied: ipywidgets>=7.0.0cloudpickle>=0.2.2 in /usr/local/lib/python3.7/dist-packages (from swifter) (7.6.3)\n",
            "Requirement already satisfied: parso>0.4.0 in /usr/local/lib/python3.7/dist-packages (from swifter) (0.8.2)\n",
            "Requirement already satisfied: bleach>=3.1.1 in /usr/local/lib/python3.7/dist-packages (from swifter) (3.3.0)\n",
            "Collecting modin[ray]>=0.8.1.1\n",
            "\u001b[?25l  Downloading https://files.pythonhosted.org/packages/20/87/118bc738470e51052162f744f3f7e0d9285f6e73be34b49f62c61ae1893d/modin-0.9.1-py3-none-manylinux1_x86_64.whl (579kB)\n",
            "\u001b[K     |████████████████████████████████| 583kB 33.8MB/s \n",
            "\u001b[?25hRequirement already satisfied: python-dateutil>=2.7.3 in /usr/local/lib/python3.7/dist-packages (from pandas>=1.0.0->swifter) (2.8.1)\n",
            "Requirement already satisfied: pytz>=2017.2 in /usr/local/lib/python3.7/dist-packages (from pandas>=1.0.0->swifter) (2018.9)\n",
            "Requirement already satisfied: numpy>=1.15.4 in /usr/local/lib/python3.7/dist-packages (from pandas>=1.0.0->swifter) (1.19.5)\n",
            "Requirement already satisfied: toolz>=0.7.3; extra == \"dataframe\" in /usr/local/lib/python3.7/dist-packages (from dask[dataframe]>=2.10.0->swifter) (0.11.1)\n",
            "Collecting fsspec>=0.6.0; extra == \"dataframe\"\n",
            "\u001b[?25l  Downloading https://files.pythonhosted.org/packages/8e/d2/d05466997f7751a2c06a7a416b7d1f131d765f7916698d3fdcb3a4d037e5/fsspec-2021.6.0-py3-none-any.whl (114kB)\n",
            "\u001b[K     |████████████████████████████████| 122kB 51.8MB/s \n",
            "\u001b[?25hCollecting partd>=0.3.10; extra == \"dataframe\"\n",
            "  Downloading https://files.pythonhosted.org/packages/41/94/360258a68b55f47859d72b2d0b2b3cfe0ca4fbbcb81b78812bd00ae86b7c/partd-1.2.0-py3-none-any.whl\n",
            "Requirement already satisfied: ipython>=4.0.0; python_version >= \"3.3\" in /usr/local/lib/python3.7/dist-packages (from ipywidgets>=7.0.0cloudpickle>=0.2.2->swifter) (5.5.0)\n",
            "Requirement already satisfied: traitlets>=4.3.1 in /usr/local/lib/python3.7/dist-packages (from ipywidgets>=7.0.0cloudpickle>=0.2.2->swifter) (5.0.5)\n",
            "Requirement already satisfied: jupyterlab-widgets>=1.0.0; python_version >= \"3.6\" in /usr/local/lib/python3.7/dist-packages (from ipywidgets>=7.0.0cloudpickle>=0.2.2->swifter) (1.0.0)\n",
            "Requirement already satisfied: ipykernel>=4.5.1 in /usr/local/lib/python3.7/dist-packages (from ipywidgets>=7.0.0cloudpickle>=0.2.2->swifter) (4.10.1)\n",
            "Requirement already satisfied: nbformat>=4.2.0 in /usr/local/lib/python3.7/dist-packages (from ipywidgets>=7.0.0cloudpickle>=0.2.2->swifter) (5.1.3)\n",
            "Requirement already satisfied: widgetsnbextension~=3.5.0 in /usr/local/lib/python3.7/dist-packages (from ipywidgets>=7.0.0cloudpickle>=0.2.2->swifter) (3.5.1)\n",
            "Requirement already satisfied: six>=1.9.0 in /usr/local/lib/python3.7/dist-packages (from bleach>=3.1.1->swifter) (1.15.0)\n",
            "Requirement already satisfied: packaging in /usr/local/lib/python3.7/dist-packages (from bleach>=3.1.1->swifter) (20.9)\n",
            "Requirement already satisfied: webencodings in /usr/local/lib/python3.7/dist-packages (from bleach>=3.1.1->swifter) (0.5.1)\n",
            "Collecting pyarrow==1.0; extra == \"ray\"\n",
            "\u001b[?25l  Downloading https://files.pythonhosted.org/packages/45/f4/a86a09ae9944ed3c10e2a628dee3e4c37b81f42063ab4f554d6962bc048d/pyarrow-1.0.0-cp37-cp37m-manylinux2014_x86_64.whl (17.2MB)\n",
            "\u001b[K     |████████████████████████████████| 17.2MB 180kB/s \n",
            "\u001b[?25hCollecting ray<1.2.0,>=1.0.0; extra == \"ray\"\n",
            "\u001b[?25l  Downloading https://files.pythonhosted.org/packages/dd/bc/e1ae5b67cd8e0a4ca84f9a59b65b210daf4ed1d9ad69c035f1824aa1256f/ray-1.1.0-cp37-cp37m-manylinux2014_x86_64.whl (48.5MB)\n",
            "\u001b[K     |████████████████████████████████| 48.5MB 59kB/s \n",
            "\u001b[?25hCollecting locket\n",
            "  Downloading https://files.pythonhosted.org/packages/50/b8/e789e45b9b9c2db75e9d9e6ceb022c8d1d7e49b2c085ce8c05600f90a96b/locket-0.2.1-py2.py3-none-any.whl\n",
            "Requirement already satisfied: prompt-toolkit<2.0.0,>=1.0.4 in /usr/local/lib/python3.7/dist-packages (from ipython>=4.0.0; python_version >= \"3.3\"->ipywidgets>=7.0.0cloudpickle>=0.2.2->swifter) (1.0.18)\n",
            "Requirement already satisfied: setuptools>=18.5 in /usr/local/lib/python3.7/dist-packages (from ipython>=4.0.0; python_version >= \"3.3\"->ipywidgets>=7.0.0cloudpickle>=0.2.2->swifter) (57.0.0)\n",
            "Requirement already satisfied: pickleshare in /usr/local/lib/python3.7/dist-packages (from ipython>=4.0.0; python_version >= \"3.3\"->ipywidgets>=7.0.0cloudpickle>=0.2.2->swifter) (0.7.5)\n",
            "Requirement already satisfied: pexpect; sys_platform != \"win32\" in /usr/local/lib/python3.7/dist-packages (from ipython>=4.0.0; python_version >= \"3.3\"->ipywidgets>=7.0.0cloudpickle>=0.2.2->swifter) (4.8.0)\n",
            "Requirement already satisfied: pygments in /usr/local/lib/python3.7/dist-packages (from ipython>=4.0.0; python_version >= \"3.3\"->ipywidgets>=7.0.0cloudpickle>=0.2.2->swifter) (2.6.1)\n",
            "Requirement already satisfied: decorator in /usr/local/lib/python3.7/dist-packages (from ipython>=4.0.0; python_version >= \"3.3\"->ipywidgets>=7.0.0cloudpickle>=0.2.2->swifter) (4.4.2)\n",
            "Requirement already satisfied: simplegeneric>0.8 in /usr/local/lib/python3.7/dist-packages (from ipython>=4.0.0; python_version >= \"3.3\"->ipywidgets>=7.0.0cloudpickle>=0.2.2->swifter) (0.8.1)\n",
            "Requirement already satisfied: ipython-genutils in /usr/local/lib/python3.7/dist-packages (from traitlets>=4.3.1->ipywidgets>=7.0.0cloudpickle>=0.2.2->swifter) (0.2.0)\n",
            "Requirement already satisfied: jupyter-client in /usr/local/lib/python3.7/dist-packages (from ipykernel>=4.5.1->ipywidgets>=7.0.0cloudpickle>=0.2.2->swifter) (5.3.5)\n",
            "Requirement already satisfied: tornado>=4.0 in /usr/local/lib/python3.7/dist-packages (from ipykernel>=4.5.1->ipywidgets>=7.0.0cloudpickle>=0.2.2->swifter) (5.1.1)\n",
            "Requirement already satisfied: jupyter-core in /usr/local/lib/python3.7/dist-packages (from nbformat>=4.2.0->ipywidgets>=7.0.0cloudpickle>=0.2.2->swifter) (4.7.1)\n",
            "Requirement already satisfied: jsonschema!=2.5.0,>=2.4 in /usr/local/lib/python3.7/dist-packages (from nbformat>=4.2.0->ipywidgets>=7.0.0cloudpickle>=0.2.2->swifter) (2.6.0)\n",
            "Requirement already satisfied: notebook>=4.4.1 in /usr/local/lib/python3.7/dist-packages (from widgetsnbextension~=3.5.0->ipywidgets>=7.0.0cloudpickle>=0.2.2->swifter) (5.3.1)\n",
            "Requirement already satisfied: pyparsing>=2.0.2 in /usr/local/lib/python3.7/dist-packages (from packaging->bleach>=3.1.1->swifter) (2.4.7)\n",
            "Collecting colorful\n",
            "\u001b[?25l  Downloading https://files.pythonhosted.org/packages/b0/8e/e386e248266952d24d73ed734c2f5513f34d9557032618c8910e605dfaf6/colorful-0.5.4-py2.py3-none-any.whl (201kB)\n",
            "\u001b[K     |████████████████████████████████| 204kB 44.0MB/s \n",
            "\u001b[?25hCollecting gpustat\n",
            "\u001b[?25l  Downloading https://files.pythonhosted.org/packages/b4/69/d8c849715171aeabd61af7da080fdc60948b5a396d2422f1f4672e43d008/gpustat-0.6.0.tar.gz (78kB)\n",
            "\u001b[K     |████████████████████████████████| 81kB 13.3MB/s \n",
            "\u001b[?25hRequirement already satisfied: protobuf>=3.8.0 in /usr/local/lib/python3.7/dist-packages (from ray<1.2.0,>=1.0.0; extra == \"ray\"->modin[ray]>=0.8.1.1->swifter) (3.12.4)\n",
            "Collecting aiohttp\n",
            "\u001b[?25l  Downloading https://files.pythonhosted.org/packages/88/c0/5890b4c8b04a79b7360e8fe4490feb0bb3ab179743f199f0e6220cebd568/aiohttp-3.7.4.post0-cp37-cp37m-manylinux2014_x86_64.whl (1.3MB)\n",
            "\u001b[K     |████████████████████████████████| 1.3MB 41.5MB/s \n",
            "\u001b[?25hCollecting colorama\n",
            "  Downloading https://files.pythonhosted.org/packages/44/98/5b86278fbbf250d239ae0ecb724f8572af1c91f4a11edf4d36a206189440/colorama-0.4.4-py2.py3-none-any.whl\n",
            "Requirement already satisfied: requests in /usr/local/lib/python3.7/dist-packages (from ray<1.2.0,>=1.0.0; extra == \"ray\"->modin[ray]>=0.8.1.1->swifter) (2.23.0)\n",
            "Collecting opencensus\n",
            "\u001b[?25l  Downloading https://files.pythonhosted.org/packages/18/59/12044123133d000f705383ad98579aeb0dd82d66b33a254a21b54bf0d6bb/opencensus-0.7.13-py2.py3-none-any.whl (127kB)\n",
            "\u001b[K     |████████████████████████████████| 133kB 56.9MB/s \n",
            "\u001b[?25hCollecting py-spy>=0.2.0\n",
            "\u001b[?25l  Downloading https://files.pythonhosted.org/packages/9d/4d/1a9cbe9a0b543e6733cb38afe26451522a9ef8e4897b59e74cc76838f245/py_spy-0.3.7-py2.py3-none-manylinux1_x86_64.whl (3.1MB)\n",
            "\u001b[K     |████████████████████████████████| 3.1MB 40.6MB/s \n",
            "\u001b[?25hCollecting aioredis\n",
            "\u001b[?25l  Downloading https://files.pythonhosted.org/packages/b0/64/1b1612d0a104f21f80eb4c6e1b6075f2e6aba8e228f46f229cfd3fdac859/aioredis-1.3.1-py3-none-any.whl (65kB)\n",
            "\u001b[K     |████████████████████████████████| 71kB 11.9MB/s \n",
            "\u001b[?25hCollecting aiohttp-cors\n",
            "  Downloading https://files.pythonhosted.org/packages/13/e7/e436a0c0eb5127d8b491a9b83ecd2391c6ff7dcd5548dfaec2080a2340fd/aiohttp_cors-0.7.0-py3-none-any.whl\n",
            "Requirement already satisfied: pyyaml in /usr/local/lib/python3.7/dist-packages (from ray<1.2.0,>=1.0.0; extra == \"ray\"->modin[ray]>=0.8.1.1->swifter) (3.13)\n",
            "Requirement already satisfied: prometheus-client>=0.7.1 in /usr/local/lib/python3.7/dist-packages (from ray<1.2.0,>=1.0.0; extra == \"ray\"->modin[ray]>=0.8.1.1->swifter) (0.10.1)\n",
            "Requirement already satisfied: msgpack<2.0.0,>=1.0.0 in /usr/local/lib/python3.7/dist-packages (from ray<1.2.0,>=1.0.0; extra == \"ray\"->modin[ray]>=0.8.1.1->swifter) (1.0.2)\n",
            "Collecting redis>=3.5.0\n",
            "\u001b[?25l  Downloading https://files.pythonhosted.org/packages/a7/7c/24fb0511df653cf1a5d938d8f5d19802a88cef255706fdda242ff97e91b7/redis-3.5.3-py2.py3-none-any.whl (72kB)\n",
            "\u001b[K     |████████████████████████████████| 81kB 11.7MB/s \n",
            "\u001b[?25hRequirement already satisfied: grpcio>=1.28.1 in /usr/local/lib/python3.7/dist-packages (from ray<1.2.0,>=1.0.0; extra == \"ray\"->modin[ray]>=0.8.1.1->swifter) (1.34.1)\n",
            "Requirement already satisfied: click>=7.0 in /usr/local/lib/python3.7/dist-packages (from ray<1.2.0,>=1.0.0; extra == \"ray\"->modin[ray]>=0.8.1.1->swifter) (7.1.2)\n",
            "Requirement already satisfied: filelock in /usr/local/lib/python3.7/dist-packages (from ray<1.2.0,>=1.0.0; extra == \"ray\"->modin[ray]>=0.8.1.1->swifter) (3.0.12)\n",
            "Requirement already satisfied: wcwidth in /usr/local/lib/python3.7/dist-packages (from prompt-toolkit<2.0.0,>=1.0.4->ipython>=4.0.0; python_version >= \"3.3\"->ipywidgets>=7.0.0cloudpickle>=0.2.2->swifter) (0.2.5)\n",
            "Requirement already satisfied: ptyprocess>=0.5 in /usr/local/lib/python3.7/dist-packages (from pexpect; sys_platform != \"win32\"->ipython>=4.0.0; python_version >= \"3.3\"->ipywidgets>=7.0.0cloudpickle>=0.2.2->swifter) (0.7.0)\n",
            "Requirement already satisfied: pyzmq>=13 in /usr/local/lib/python3.7/dist-packages (from jupyter-client->ipykernel>=4.5.1->ipywidgets>=7.0.0cloudpickle>=0.2.2->swifter) (22.0.3)\n",
            "Requirement already satisfied: jinja2 in /usr/local/lib/python3.7/dist-packages (from notebook>=4.4.1->widgetsnbextension~=3.5.0->ipywidgets>=7.0.0cloudpickle>=0.2.2->swifter) (2.11.3)\n",
            "Requirement already satisfied: nbconvert in /usr/local/lib/python3.7/dist-packages (from notebook>=4.4.1->widgetsnbextension~=3.5.0->ipywidgets>=7.0.0cloudpickle>=0.2.2->swifter) (5.6.1)\n",
            "Requirement already satisfied: terminado>=0.8.1 in /usr/local/lib/python3.7/dist-packages (from notebook>=4.4.1->widgetsnbextension~=3.5.0->ipywidgets>=7.0.0cloudpickle>=0.2.2->swifter) (0.10.0)\n",
            "Requirement already satisfied: Send2Trash in /usr/local/lib/python3.7/dist-packages (from notebook>=4.4.1->widgetsnbextension~=3.5.0->ipywidgets>=7.0.0cloudpickle>=0.2.2->swifter) (1.5.0)\n",
            "Requirement already satisfied: nvidia-ml-py3>=7.352.0 in /usr/local/lib/python3.7/dist-packages (from gpustat->ray<1.2.0,>=1.0.0; extra == \"ray\"->modin[ray]>=0.8.1.1->swifter) (7.352.0)\n",
            "Collecting blessings>=1.6\n",
            "  Downloading https://files.pythonhosted.org/packages/03/74/489f85a78247609c6b4f13733cbf3ba0d864b11aa565617b645d6fdf2a4a/blessings-1.7-py3-none-any.whl\n",
            "Collecting multidict<7.0,>=4.5\n",
            "\u001b[?25l  Downloading https://files.pythonhosted.org/packages/7c/a6/4123b8165acbe773d1a8dc8e3f0d1edea16d29f7de018eda769abb56bd30/multidict-5.1.0-cp37-cp37m-manylinux2014_x86_64.whl (142kB)\n",
            "\u001b[K     |████████████████████████████████| 143kB 57.3MB/s \n",
            "\u001b[?25hCollecting yarl<2.0,>=1.0\n",
            "\u001b[?25l  Downloading https://files.pythonhosted.org/packages/f1/62/046834c5fc998c88ab2ef722f5d42122230a632212c8afa76418324f53ff/yarl-1.6.3-cp37-cp37m-manylinux2014_x86_64.whl (294kB)\n",
            "\u001b[K     |████████████████████████████████| 296kB 56.6MB/s \n",
            "\u001b[?25hRequirement already satisfied: attrs>=17.3.0 in /usr/local/lib/python3.7/dist-packages (from aiohttp->ray<1.2.0,>=1.0.0; extra == \"ray\"->modin[ray]>=0.8.1.1->swifter) (21.2.0)\n",
            "Collecting async-timeout<4.0,>=3.0\n",
            "  Downloading https://files.pythonhosted.org/packages/e1/1e/5a4441be21b0726c4464f3f23c8b19628372f606755a9d2e46c187e65ec4/async_timeout-3.0.1-py3-none-any.whl\n",
            "Requirement already satisfied: chardet<5.0,>=2.0 in /usr/local/lib/python3.7/dist-packages (from aiohttp->ray<1.2.0,>=1.0.0; extra == \"ray\"->modin[ray]>=0.8.1.1->swifter) (3.0.4)\n",
            "Requirement already satisfied: typing-extensions>=3.6.5 in /usr/local/lib/python3.7/dist-packages (from aiohttp->ray<1.2.0,>=1.0.0; extra == \"ray\"->modin[ray]>=0.8.1.1->swifter) (3.7.4.3)\n",
            "Requirement already satisfied: certifi>=2017.4.17 in /usr/local/lib/python3.7/dist-packages (from requests->ray<1.2.0,>=1.0.0; extra == \"ray\"->modin[ray]>=0.8.1.1->swifter) (2020.12.5)\n",
            "Requirement already satisfied: urllib3!=1.25.0,!=1.25.1,<1.26,>=1.21.1 in /usr/local/lib/python3.7/dist-packages (from requests->ray<1.2.0,>=1.0.0; extra == \"ray\"->modin[ray]>=0.8.1.1->swifter) (1.24.3)\n",
            "Requirement already satisfied: idna<3,>=2.5 in /usr/local/lib/python3.7/dist-packages (from requests->ray<1.2.0,>=1.0.0; extra == \"ray\"->modin[ray]>=0.8.1.1->swifter) (2.10)\n",
            "Collecting opencensus-context==0.1.2\n",
            "  Downloading https://files.pythonhosted.org/packages/f1/33/990f1bd9e7ee770fc8d3c154fc24743a96f16a0e49e14e1b7540cc2fdd93/opencensus_context-0.1.2-py2.py3-none-any.whl\n",
            "Requirement already satisfied: google-api-core<2.0.0,>=1.0.0 in /usr/local/lib/python3.7/dist-packages (from opencensus->ray<1.2.0,>=1.0.0; extra == \"ray\"->modin[ray]>=0.8.1.1->swifter) (1.26.3)\n",
            "Collecting hiredis\n",
            "\u001b[?25l  Downloading https://files.pythonhosted.org/packages/ed/33/290cea35b09c80b4634773ad5572a8030a87b5d39736719f698f521d2a13/hiredis-2.0.0-cp37-cp37m-manylinux2010_x86_64.whl (85kB)\n",
            "\u001b[K     |████████████████████████████████| 92kB 13.9MB/s \n",
            "\u001b[?25hRequirement already satisfied: MarkupSafe>=0.23 in /usr/local/lib/python3.7/dist-packages (from jinja2->notebook>=4.4.1->widgetsnbextension~=3.5.0->ipywidgets>=7.0.0cloudpickle>=0.2.2->swifter) (2.0.1)\n",
            "Requirement already satisfied: defusedxml in /usr/local/lib/python3.7/dist-packages (from nbconvert->notebook>=4.4.1->widgetsnbextension~=3.5.0->ipywidgets>=7.0.0cloudpickle>=0.2.2->swifter) (0.7.1)\n",
            "Requirement already satisfied: testpath in /usr/local/lib/python3.7/dist-packages (from nbconvert->notebook>=4.4.1->widgetsnbextension~=3.5.0->ipywidgets>=7.0.0cloudpickle>=0.2.2->swifter) (0.5.0)\n",
            "Requirement already satisfied: pandocfilters>=1.4.1 in /usr/local/lib/python3.7/dist-packages (from nbconvert->notebook>=4.4.1->widgetsnbextension~=3.5.0->ipywidgets>=7.0.0cloudpickle>=0.2.2->swifter) (1.4.3)\n",
            "Requirement already satisfied: mistune<2,>=0.8.1 in /usr/local/lib/python3.7/dist-packages (from nbconvert->notebook>=4.4.1->widgetsnbextension~=3.5.0->ipywidgets>=7.0.0cloudpickle>=0.2.2->swifter) (0.8.4)\n",
            "Requirement already satisfied: entrypoints>=0.2.2 in /usr/local/lib/python3.7/dist-packages (from nbconvert->notebook>=4.4.1->widgetsnbextension~=3.5.0->ipywidgets>=7.0.0cloudpickle>=0.2.2->swifter) (0.3)\n",
            "Requirement already satisfied: google-auth<2.0dev,>=1.21.1 in /usr/local/lib/python3.7/dist-packages (from google-api-core<2.0.0,>=1.0.0->opencensus->ray<1.2.0,>=1.0.0; extra == \"ray\"->modin[ray]>=0.8.1.1->swifter) (1.30.0)\n",
            "Requirement already satisfied: googleapis-common-protos<2.0dev,>=1.6.0 in /usr/local/lib/python3.7/dist-packages (from google-api-core<2.0.0,>=1.0.0->opencensus->ray<1.2.0,>=1.0.0; extra == \"ray\"->modin[ray]>=0.8.1.1->swifter) (1.53.0)\n",
            "Requirement already satisfied: rsa<5,>=3.1.4; python_version >= \"3.6\" in /usr/local/lib/python3.7/dist-packages (from google-auth<2.0dev,>=1.21.1->google-api-core<2.0.0,>=1.0.0->opencensus->ray<1.2.0,>=1.0.0; extra == \"ray\"->modin[ray]>=0.8.1.1->swifter) (4.7.2)\n",
            "Requirement already satisfied: pyasn1-modules>=0.2.1 in /usr/local/lib/python3.7/dist-packages (from google-auth<2.0dev,>=1.21.1->google-api-core<2.0.0,>=1.0.0->opencensus->ray<1.2.0,>=1.0.0; extra == \"ray\"->modin[ray]>=0.8.1.1->swifter) (0.2.8)\n",
            "Requirement already satisfied: cachetools<5.0,>=2.0.0 in /usr/local/lib/python3.7/dist-packages (from google-auth<2.0dev,>=1.21.1->google-api-core<2.0.0,>=1.0.0->opencensus->ray<1.2.0,>=1.0.0; extra == \"ray\"->modin[ray]>=0.8.1.1->swifter) (4.2.2)\n",
            "Requirement already satisfied: pyasn1>=0.1.3 in /usr/local/lib/python3.7/dist-packages (from rsa<5,>=3.1.4; python_version >= \"3.6\"->google-auth<2.0dev,>=1.21.1->google-api-core<2.0.0,>=1.0.0->opencensus->ray<1.2.0,>=1.0.0; extra == \"ray\"->modin[ray]>=0.8.1.1->swifter) (0.4.8)\n",
            "Building wheels for collected packages: swifter, gpustat\n",
            "  Building wheel for swifter (setup.py) ... \u001b[?25l\u001b[?25hdone\n",
            "  Created wheel for swifter: filename=swifter-1.0.7-cp37-none-any.whl size=13993 sha256=d2fc51d211eb55fe13e4f1b3cd116ce3be7e659f99a79fe268bb73483291bf49\n",
            "  Stored in directory: /root/.cache/pip/wheels/99/58/39/5b59c5f4d66ce67bf55f0178e0940c964e89e9f60d70376a37\n",
            "  Building wheel for gpustat (setup.py) ... \u001b[?25l\u001b[?25hdone\n",
            "  Created wheel for gpustat: filename=gpustat-0.6.0-cp37-none-any.whl size=12621 sha256=4c4c12bd7dc4f0c4d5ec22a21b4ab5541232268375280b6cefe1839d93cb409c\n",
            "  Stored in directory: /root/.cache/pip/wheels/48/b4/d5/fb5b7f1d040f2ff20687e3bad6867d63155dbde5a7c10f4293\n",
            "Successfully built swifter gpustat\n",
            "\u001b[31mERROR: modin 0.9.1 has requirement pandas==1.2.3, but you'll have pandas 1.1.5 which is incompatible.\u001b[0m\n",
            "Installing collected packages: psutil, pyarrow, colorful, blessings, gpustat, multidict, yarl, async-timeout, aiohttp, colorama, opencensus-context, opencensus, py-spy, hiredis, aioredis, aiohttp-cors, redis, ray, modin, swifter, fsspec, locket, partd\n",
            "  Found existing installation: psutil 5.4.8\n",
            "    Uninstalling psutil-5.4.8:\n",
            "      Successfully uninstalled psutil-5.4.8\n",
            "  Found existing installation: pyarrow 3.0.0\n",
            "    Uninstalling pyarrow-3.0.0:\n",
            "      Successfully uninstalled pyarrow-3.0.0\n",
            "Successfully installed aiohttp-3.7.4.post0 aiohttp-cors-0.7.0 aioredis-1.3.1 async-timeout-3.0.1 blessings-1.7 colorama-0.4.4 colorful-0.5.4 fsspec-2021.6.0 gpustat-0.6.0 hiredis-2.0.0 locket-0.2.1 modin-0.9.1 multidict-5.1.0 opencensus-0.7.13 opencensus-context-0.1.2 partd-1.2.0 psutil-5.8.0 py-spy-0.3.7 pyarrow-1.0.0 ray-1.1.0 redis-3.5.3 swifter-1.0.7 yarl-1.6.3\n"
          ],
          "name": "stdout"
        },
        {
          "output_type": "display_data",
          "data": {
            "application/vnd.colab-display-data+json": {
              "pip_warning": {
                "packages": [
                  "psutil"
                ]
              }
            }
          },
          "metadata": {
            "tags": []
          }
        },
        {
          "output_type": "stream",
          "text": [
            "Requirement already satisfied: gdown in /usr/local/lib/python3.7/dist-packages (3.6.4)\n",
            "Requirement already satisfied: six in /usr/local/lib/python3.7/dist-packages (from gdown) (1.15.0)\n",
            "Requirement already satisfied: requests in /usr/local/lib/python3.7/dist-packages (from gdown) (2.23.0)\n",
            "Requirement already satisfied: tqdm in /usr/local/lib/python3.7/dist-packages (from gdown) (4.41.1)\n",
            "Requirement already satisfied: certifi>=2017.4.17 in /usr/local/lib/python3.7/dist-packages (from requests->gdown) (2020.12.5)\n",
            "Requirement already satisfied: chardet<4,>=3.0.2 in /usr/local/lib/python3.7/dist-packages (from requests->gdown) (3.0.4)\n",
            "Requirement already satisfied: idna<3,>=2.5 in /usr/local/lib/python3.7/dist-packages (from requests->gdown) (2.10)\n",
            "Requirement already satisfied: urllib3!=1.25.0,!=1.25.1,<1.26,>=1.21.1 in /usr/local/lib/python3.7/dist-packages (from requests->gdown) (1.24.3)\n"
          ],
          "name": "stdout"
        }
      ]
    },
    {
      "cell_type": "code",
      "metadata": {
        "colab": {
          "base_uri": "https://localhost:8080/"
        },
        "id": "A-ODS6Gq9D9Z",
        "outputId": "e37d5a08-fb9c-4d16-9fdc-92c179eb81ff"
      },
      "source": [
        "!pip install hydra-core omegaconf"
      ],
      "execution_count": null,
      "outputs": [
        {
          "output_type": "stream",
          "text": [
            "Collecting hydra-core\n",
            "\u001b[?25l  Downloading https://files.pythonhosted.org/packages/52/e3/fbd70dd0d3ce4d1d75c22d56c0c9f895cfa7ed6587a9ffb821d6812d6a60/hydra_core-1.0.6-py3-none-any.whl (123kB)\n",
            "\u001b[K     |████████████████████████████████| 133kB 8.2MB/s \n",
            "\u001b[?25hCollecting omegaconf\n",
            "\u001b[?25l  Downloading https://files.pythonhosted.org/packages/f9/96/1966b48bfe6ca64bfadfa7bcc9a8d73c5d83b4be769321fcc5d617abeb0c/omegaconf-2.1.0-py3-none-any.whl (74kB)\n",
            "\u001b[K     |████████████████████████████████| 81kB 11.3MB/s \n",
            "\u001b[?25hRequirement already satisfied: importlib-resources; python_version < \"3.9\" in /usr/local/lib/python3.7/dist-packages (from hydra-core) (5.1.3)\n",
            "Collecting antlr4-python3-runtime==4.8\n",
            "\u001b[?25l  Downloading https://files.pythonhosted.org/packages/56/02/789a0bddf9c9b31b14c3e79ec22b9656185a803dc31c15f006f9855ece0d/antlr4-python3-runtime-4.8.tar.gz (112kB)\n",
            "\u001b[K     |████████████████████████████████| 112kB 25.7MB/s \n",
            "\u001b[?25hCollecting PyYAML>=5.1.*\n",
            "\u001b[?25l  Downloading https://files.pythonhosted.org/packages/7a/a5/393c087efdc78091afa2af9f1378762f9821c9c1d7a22c5753fb5ac5f97a/PyYAML-5.4.1-cp37-cp37m-manylinux1_x86_64.whl (636kB)\n",
            "\u001b[K     |████████████████████████████████| 645kB 21.6MB/s \n",
            "\u001b[?25hRequirement already satisfied: zipp>=0.4; python_version < \"3.8\" in /usr/local/lib/python3.7/dist-packages (from importlib-resources; python_version < \"3.9\"->hydra-core) (3.4.1)\n",
            "Building wheels for collected packages: antlr4-python3-runtime\n",
            "  Building wheel for antlr4-python3-runtime (setup.py) ... \u001b[?25l\u001b[?25hdone\n",
            "  Created wheel for antlr4-python3-runtime: filename=antlr4_python3_runtime-4.8-cp37-none-any.whl size=141231 sha256=01782611119eb0202e1ec4019557db99a0bbbb0d0ae8ccc0f3bf8f6be0adf197\n",
            "  Stored in directory: /root/.cache/pip/wheels/e3/e2/fa/b78480b448b8579ddf393bebd3f47ee23aa84c89b6a78285c8\n",
            "Successfully built antlr4-python3-runtime\n",
            "\u001b[31mERROR: hydra-core 1.0.6 has requirement omegaconf<2.1,>=2.0.5, but you'll have omegaconf 2.1.0 which is incompatible.\u001b[0m\n",
            "Installing collected packages: PyYAML, antlr4-python3-runtime, omegaconf, hydra-core\n",
            "  Found existing installation: PyYAML 3.13\n",
            "    Uninstalling PyYAML-3.13:\n",
            "      Successfully uninstalled PyYAML-3.13\n",
            "Successfully installed PyYAML-5.4.1 antlr4-python3-runtime-4.8 hydra-core-1.0.6 omegaconf-2.1.0\n"
          ],
          "name": "stdout"
        },
        {
          "output_type": "display_data",
          "data": {
            "application/vnd.colab-display-data+json": {
              "pip_warning": {
                "packages": [
                  "pydevd_plugins"
                ]
              }
            }
          },
          "metadata": {
            "tags": []
          }
        }
      ]
    },
    {
      "cell_type": "markdown",
      "metadata": {
        "id": "jkjbxE3GJ18b"
      },
      "source": [
        "### Data Downloads ###\n",
        "\n",
        "Download and extract the Stanford reviews data."
      ]
    },
    {
      "cell_type": "code",
      "metadata": {
        "colab": {
          "base_uri": "https://localhost:8080/"
        },
        "id": "0AIwvweTBA9y",
        "outputId": "efe88a66-af69-424a-abac-ab19b9087520"
      },
      "source": [
        "#download the stanford dataset to local storage for processing\n",
        "!wget http://nlp.stanford.edu/~socherr/stanfordSentimentTreebank.zip"
      ],
      "execution_count": null,
      "outputs": [
        {
          "output_type": "stream",
          "text": [
            "--2021-06-08 16:25:53--  http://nlp.stanford.edu/~socherr/stanfordSentimentTreebank.zip\n",
            "Resolving nlp.stanford.edu (nlp.stanford.edu)... 171.64.67.140\n",
            "Connecting to nlp.stanford.edu (nlp.stanford.edu)|171.64.67.140|:80... connected.\n",
            "HTTP request sent, awaiting response... 302 Found\n",
            "Location: https://nlp.stanford.edu/~socherr/stanfordSentimentTreebank.zip [following]\n",
            "--2021-06-08 16:25:53--  https://nlp.stanford.edu/~socherr/stanfordSentimentTreebank.zip\n",
            "Connecting to nlp.stanford.edu (nlp.stanford.edu)|171.64.67.140|:443... connected.\n",
            "HTTP request sent, awaiting response... 200 OK\n",
            "Length: 6372817 (6.1M) [application/zip]\n",
            "Saving to: ‘stanfordSentimentTreebank.zip’\n",
            "\n",
            "stanfordSentimentTr 100%[===================>]   6.08M  26.8MB/s    in 0.2s    \n",
            "\n",
            "2021-06-08 16:25:54 (26.8 MB/s) - ‘stanfordSentimentTreebank.zip’ saved [6372817/6372817]\n",
            "\n"
          ],
          "name": "stdout"
        }
      ]
    },
    {
      "cell_type": "code",
      "metadata": {
        "colab": {
          "base_uri": "https://localhost:8080/"
        },
        "id": "TEiB25qLBZbh",
        "outputId": "c2cfd144-2079-4796-9767-dbc25901c1bf"
      },
      "source": [
        "!unzip -o stanfordSentimentTreebank.zip"
      ],
      "execution_count": null,
      "outputs": [
        {
          "output_type": "stream",
          "text": [
            "Archive:  stanfordSentimentTreebank.zip\n",
            "   creating: stanfordSentimentTreebank/\n",
            "  inflating: stanfordSentimentTreebank/datasetSentences.txt  \n",
            "   creating: __MACOSX/\n",
            "   creating: __MACOSX/stanfordSentimentTreebank/\n",
            "  inflating: __MACOSX/stanfordSentimentTreebank/._datasetSentences.txt  \n",
            "  inflating: stanfordSentimentTreebank/datasetSplit.txt  \n",
            "  inflating: __MACOSX/stanfordSentimentTreebank/._datasetSplit.txt  \n",
            "  inflating: stanfordSentimentTreebank/dictionary.txt  \n",
            "  inflating: __MACOSX/stanfordSentimentTreebank/._dictionary.txt  \n",
            "  inflating: stanfordSentimentTreebank/original_rt_snippets.txt  \n",
            "  inflating: __MACOSX/stanfordSentimentTreebank/._original_rt_snippets.txt  \n",
            "  inflating: stanfordSentimentTreebank/README.txt  \n",
            "  inflating: __MACOSX/stanfordSentimentTreebank/._README.txt  \n",
            "  inflating: stanfordSentimentTreebank/sentiment_labels.txt  \n",
            "  inflating: __MACOSX/stanfordSentimentTreebank/._sentiment_labels.txt  \n",
            "  inflating: stanfordSentimentTreebank/SOStr.txt  \n",
            "  inflating: stanfordSentimentTreebank/STree.txt  \n"
          ],
          "name": "stdout"
        }
      ]
    },
    {
      "cell_type": "code",
      "metadata": {
        "colab": {
          "base_uri": "https://localhost:8080/"
        },
        "id": "TV4f87ntBiJK",
        "outputId": "437582f2-3921-4844-c209-9c17e9009c8b"
      },
      "source": [
        "!ls -alh\n",
        "!ls -alh stanfordSentimentTreebank/"
      ],
      "execution_count": null,
      "outputs": [
        {
          "output_type": "stream",
          "text": [
            "total 6.2M\n",
            "drwxr-xr-x 1 root root 4.0K Jun  8 16:25 .\n",
            "drwxr-xr-x 1 root root 4.0K Jun  8 16:24 ..\n",
            "drwxr-xr-x 4 root root 4.0K Jun  1 13:40 .config\n",
            "drwxrwxr-x 3 root root 4.0K Oct  9  2013 __MACOSX\n",
            "drwxr-xr-x 1 root root 4.0K Jun  1 13:40 sample_data\n",
            "drwxr-xr-x 2 root root 4.0K Oct  9  2013 stanfordSentimentTreebank\n",
            "-rw-r--r-- 1 root root 6.1M Oct  9  2013 stanfordSentimentTreebank.zip\n",
            "total 20M\n",
            "drwxr-xr-x 2 root root 4.0K Oct  9  2013 .\n",
            "drwxr-xr-x 1 root root 4.0K Jun  8 16:25 ..\n",
            "-rwxr-xr-x 1 root root 1.3M Oct  9  2013 datasetSentences.txt\n",
            "-rwxr-xr-x 1 root root  82K Oct  9  2013 datasetSplit.txt\n",
            "-rwxr-xr-x 1 root root  12M Oct  9  2013 dictionary.txt\n",
            "-rwxr-xr-x 1 root root 1.2M Feb  2  2013 original_rt_snippets.txt\n",
            "-rwxr-xr-x 1 root root 2.4K Oct  9  2013 README.txt\n",
            "-rwxr-xr-x 1 root root 3.2M Oct  9  2013 sentiment_labels.txt\n",
            "-rwxr-xr-x 1 root root 1.2M Feb  2  2013 SOStr.txt\n",
            "-rwxr-xr-x 1 root root 1.3M Feb  2  2013 STree.txt\n"
          ],
          "name": "stdout"
        }
      ]
    },
    {
      "cell_type": "markdown",
      "metadata": {
        "id": "Fv3WD_nhKEIq"
      },
      "source": [
        "### Data Transformation and Augmentation ###\n",
        "\n",
        "Combine the various datasets from Stanford to merge the sentences with sentiment values. Next, augment the dataset with the following -\n",
        "\n",
        "\n",
        "* synonym\n",
        "* random word swap\n",
        "* random word delete\n",
        "* random spelling mistakes\n",
        "* back translation\n"
      ]
    },
    {
      "cell_type": "code",
      "metadata": {
        "id": "O9wwO8naBpGX",
        "colab": {
          "base_uri": "https://localhost:8080/"
        },
        "outputId": "ba4595bb-4107-4b8e-94c1-353bdcff397e"
      },
      "source": [
        "%%time\n",
        "#import all libraries required for the notebook\n",
        "import os\n",
        "import pandas as pd\n",
        "\n",
        "#import nlp augumenter library\n",
        "import nlpaug.augmenter.char as nac\n",
        "import nlpaug.augmenter.word as naw\n",
        "import nlpaug.augmenter.sentence as nas\n",
        "import nlpaug.flow as nafc\n",
        "from nlpaug.util import Action\n",
        "import swifter\n",
        "\n",
        "from tqdm.auto import tqdm\n",
        "tqdm.pandas()"
      ],
      "execution_count": null,
      "outputs": [
        {
          "output_type": "stream",
          "text": [
            "CPU times: user 1.87 s, sys: 455 ms, total: 2.32 s\n",
            "Wall time: 7.67 s\n"
          ],
          "name": "stdout"
        }
      ]
    },
    {
      "cell_type": "code",
      "metadata": {
        "id": "6HrGtHIaBxIO"
      },
      "source": [
        "#set data directory\n",
        "data_dir = 'stanfordSentimentTreebank'"
      ],
      "execution_count": null,
      "outputs": []
    },
    {
      "cell_type": "code",
      "metadata": {
        "id": "vUKTs2GWB1m5",
        "colab": {
          "base_uri": "https://localhost:8080/"
        },
        "outputId": "6ca76cee-14cb-483f-ba31-67be486ddbde"
      },
      "source": [
        "%%time\n",
        "#load sentiment labels\n",
        "sentiment_labels = pd.read_csv(os.path.join(data_dir, \"sentiment_labels.txt\"), names=['phrase_ids', 'sentiment_values'], sep=\"|\", header=0)"
      ],
      "execution_count": null,
      "outputs": [
        {
          "output_type": "stream",
          "text": [
            "CPU times: user 28.9 ms, sys: 16 ms, total: 44.9 ms\n",
            "Wall time: 48.7 ms\n"
          ],
          "name": "stdout"
        }
      ]
    },
    {
      "cell_type": "code",
      "metadata": {
        "colab": {
          "base_uri": "https://localhost:8080/",
          "height": 362
        },
        "id": "w-ueXVJNB5q9",
        "outputId": "7c39bfb4-8186-4f47-eda4-46ced13523ff"
      },
      "source": [
        "#sample the sentiment labels data - 10 rows\n",
        "sentiment_labels.head(10)"
      ],
      "execution_count": null,
      "outputs": [
        {
          "output_type": "execute_result",
          "data": {
            "text/html": [
              "<div>\n",
              "<style scoped>\n",
              "    .dataframe tbody tr th:only-of-type {\n",
              "        vertical-align: middle;\n",
              "    }\n",
              "\n",
              "    .dataframe tbody tr th {\n",
              "        vertical-align: top;\n",
              "    }\n",
              "\n",
              "    .dataframe thead th {\n",
              "        text-align: right;\n",
              "    }\n",
              "</style>\n",
              "<table border=\"1\" class=\"dataframe\">\n",
              "  <thead>\n",
              "    <tr style=\"text-align: right;\">\n",
              "      <th></th>\n",
              "      <th>phrase_ids</th>\n",
              "      <th>sentiment_values</th>\n",
              "    </tr>\n",
              "  </thead>\n",
              "  <tbody>\n",
              "    <tr>\n",
              "      <th>0</th>\n",
              "      <td>0</td>\n",
              "      <td>0.50000</td>\n",
              "    </tr>\n",
              "    <tr>\n",
              "      <th>1</th>\n",
              "      <td>1</td>\n",
              "      <td>0.50000</td>\n",
              "    </tr>\n",
              "    <tr>\n",
              "      <th>2</th>\n",
              "      <td>2</td>\n",
              "      <td>0.44444</td>\n",
              "    </tr>\n",
              "    <tr>\n",
              "      <th>3</th>\n",
              "      <td>3</td>\n",
              "      <td>0.50000</td>\n",
              "    </tr>\n",
              "    <tr>\n",
              "      <th>4</th>\n",
              "      <td>4</td>\n",
              "      <td>0.42708</td>\n",
              "    </tr>\n",
              "    <tr>\n",
              "      <th>5</th>\n",
              "      <td>5</td>\n",
              "      <td>0.37500</td>\n",
              "    </tr>\n",
              "    <tr>\n",
              "      <th>6</th>\n",
              "      <td>6</td>\n",
              "      <td>0.41667</td>\n",
              "    </tr>\n",
              "    <tr>\n",
              "      <th>7</th>\n",
              "      <td>7</td>\n",
              "      <td>0.54167</td>\n",
              "    </tr>\n",
              "    <tr>\n",
              "      <th>8</th>\n",
              "      <td>8</td>\n",
              "      <td>0.33333</td>\n",
              "    </tr>\n",
              "    <tr>\n",
              "      <th>9</th>\n",
              "      <td>9</td>\n",
              "      <td>0.45833</td>\n",
              "    </tr>\n",
              "  </tbody>\n",
              "</table>\n",
              "</div>"
            ],
            "text/plain": [
              "   phrase_ids  sentiment_values\n",
              "0           0           0.50000\n",
              "1           1           0.50000\n",
              "2           2           0.44444\n",
              "3           3           0.50000\n",
              "4           4           0.42708\n",
              "5           5           0.37500\n",
              "6           6           0.41667\n",
              "7           7           0.54167\n",
              "8           8           0.33333\n",
              "9           9           0.45833"
            ]
          },
          "metadata": {
            "tags": []
          },
          "execution_count": 15
        }
      ]
    },
    {
      "cell_type": "code",
      "metadata": {
        "id": "3jWdA2PpB_ci"
      },
      "source": [
        "# function to convert label (sentiment value) to 5 classes\n",
        "# for very negative, negative, neutral, positive, very positive\n",
        "def discretize_label(label):\n",
        "    # very negative\n",
        "    if label <= 0.2: return 0\n",
        "    # negative\n",
        "    if label <= 0.4: return 1\n",
        "    # neutral\n",
        "    if label <= 0.6: return 2\n",
        "    # positive\n",
        "    if label <= 0.8: return 3\n",
        "    # very positive\n",
        "    return 4"
      ],
      "execution_count": null,
      "outputs": []
    },
    {
      "cell_type": "code",
      "metadata": {
        "colab": {
          "base_uri": "https://localhost:8080/",
          "height": 103,
          "referenced_widgets": [
            "60f4b253c96c48e4b614473696d22826",
            "b38bc73f2ba34515abada2ec483f3c78",
            "475741ecd79f41df87b20099a44eed0f",
            "0f5eb1fb0d0d44dbb2f2b1c269426907",
            "276f0c93d92a474f9f6562b9b3ca038c",
            "08febd9588a448609f7998fb6a0bab92",
            "e275b1d11cac4bcca038a09dbe61aa04",
            "99e5cda486604af09d73bcc05f9dccf8"
          ]
        },
        "id": "1VfpWgAXCD9R",
        "outputId": "0f54eec1-d1dc-4ecb-ab14-a01e4278bedc"
      },
      "source": [
        "%%time\n",
        "sentiment_labels['sentiment_values'] = sentiment_labels['sentiment_values'].progress_apply(discretize_label)"
      ],
      "execution_count": null,
      "outputs": [
        {
          "output_type": "display_data",
          "data": {
            "application/vnd.jupyter.widget-view+json": {
              "model_id": "60f4b253c96c48e4b614473696d22826",
              "version_minor": 0,
              "version_major": 2
            },
            "text/plain": [
              "HBox(children=(FloatProgress(value=0.0, max=239232.0), HTML(value='')))"
            ]
          },
          "metadata": {
            "tags": []
          }
        },
        {
          "output_type": "stream",
          "text": [
            "\n",
            "CPU times: user 427 ms, sys: 14.6 ms, total: 441 ms\n",
            "Wall time: 456 ms\n"
          ],
          "name": "stdout"
        }
      ]
    },
    {
      "cell_type": "code",
      "metadata": {
        "colab": {
          "base_uri": "https://localhost:8080/",
          "height": 362
        },
        "id": "A47M9fhxCIsP",
        "outputId": "12c591a4-1592-4ea0-907b-035988683c41"
      },
      "source": [
        "#sample the sentiment labels data - 10 rows - after converting labels to classes\n",
        "sentiment_labels.head(10)"
      ],
      "execution_count": null,
      "outputs": [
        {
          "output_type": "execute_result",
          "data": {
            "text/html": [
              "<div>\n",
              "<style scoped>\n",
              "    .dataframe tbody tr th:only-of-type {\n",
              "        vertical-align: middle;\n",
              "    }\n",
              "\n",
              "    .dataframe tbody tr th {\n",
              "        vertical-align: top;\n",
              "    }\n",
              "\n",
              "    .dataframe thead th {\n",
              "        text-align: right;\n",
              "    }\n",
              "</style>\n",
              "<table border=\"1\" class=\"dataframe\">\n",
              "  <thead>\n",
              "    <tr style=\"text-align: right;\">\n",
              "      <th></th>\n",
              "      <th>phrase_ids</th>\n",
              "      <th>sentiment_values</th>\n",
              "    </tr>\n",
              "  </thead>\n",
              "  <tbody>\n",
              "    <tr>\n",
              "      <th>0</th>\n",
              "      <td>0</td>\n",
              "      <td>2</td>\n",
              "    </tr>\n",
              "    <tr>\n",
              "      <th>1</th>\n",
              "      <td>1</td>\n",
              "      <td>2</td>\n",
              "    </tr>\n",
              "    <tr>\n",
              "      <th>2</th>\n",
              "      <td>2</td>\n",
              "      <td>2</td>\n",
              "    </tr>\n",
              "    <tr>\n",
              "      <th>3</th>\n",
              "      <td>3</td>\n",
              "      <td>2</td>\n",
              "    </tr>\n",
              "    <tr>\n",
              "      <th>4</th>\n",
              "      <td>4</td>\n",
              "      <td>2</td>\n",
              "    </tr>\n",
              "    <tr>\n",
              "      <th>5</th>\n",
              "      <td>5</td>\n",
              "      <td>1</td>\n",
              "    </tr>\n",
              "    <tr>\n",
              "      <th>6</th>\n",
              "      <td>6</td>\n",
              "      <td>2</td>\n",
              "    </tr>\n",
              "    <tr>\n",
              "      <th>7</th>\n",
              "      <td>7</td>\n",
              "      <td>2</td>\n",
              "    </tr>\n",
              "    <tr>\n",
              "      <th>8</th>\n",
              "      <td>8</td>\n",
              "      <td>1</td>\n",
              "    </tr>\n",
              "    <tr>\n",
              "      <th>9</th>\n",
              "      <td>9</td>\n",
              "      <td>2</td>\n",
              "    </tr>\n",
              "  </tbody>\n",
              "</table>\n",
              "</div>"
            ],
            "text/plain": [
              "   phrase_ids  sentiment_values\n",
              "0           0                 2\n",
              "1           1                 2\n",
              "2           2                 2\n",
              "3           3                 2\n",
              "4           4                 2\n",
              "5           5                 1\n",
              "6           6                 2\n",
              "7           7                 2\n",
              "8           8                 1\n",
              "9           9                 2"
            ]
          },
          "metadata": {
            "tags": []
          },
          "execution_count": 18
        }
      ]
    },
    {
      "cell_type": "code",
      "metadata": {
        "colab": {
          "base_uri": "https://localhost:8080/"
        },
        "id": "mOhyBy7BCM14",
        "outputId": "a00a22ae-98c2-4928-d6b4-c619d82bc1d2"
      },
      "source": [
        "%%time\n",
        "#load the sentences\n",
        "sentence_ids = pd.read_csv(os.path.join(data_dir, \"datasetSentences.txt\"), sep=\"\\t\")\n",
        "sentence_ids.head(10)"
      ],
      "execution_count": null,
      "outputs": [
        {
          "output_type": "stream",
          "text": [
            "CPU times: user 18.2 ms, sys: 1.8 ms, total: 20 ms\n",
            "Wall time: 23.4 ms\n"
          ],
          "name": "stdout"
        }
      ]
    },
    {
      "cell_type": "code",
      "metadata": {
        "colab": {
          "base_uri": "https://localhost:8080/"
        },
        "id": "YaQC2DV_CRvi",
        "outputId": "65088383-d6e9-4bf2-a52f-aecf72a5253d"
      },
      "source": [
        "%%time\n",
        "#load the dictionary and sample 10 rows\n",
        "dictionary = pd.read_csv(os.path.join(data_dir, \"dictionary.txt\"), sep=\"|\", names=['phrase', 'phrase_ids'])\n",
        "dictionary.head(10)"
      ],
      "execution_count": null,
      "outputs": [
        {
          "output_type": "stream",
          "text": [
            "CPU times: user 170 ms, sys: 30.1 ms, total: 201 ms\n",
            "Wall time: 204 ms\n"
          ],
          "name": "stdout"
        }
      ]
    },
    {
      "cell_type": "code",
      "metadata": {
        "colab": {
          "base_uri": "https://localhost:8080/"
        },
        "id": "RJTBQUdxCa70",
        "outputId": "6641c2a2-e490-4a8a-d616-52c37f1e99a7"
      },
      "source": [
        "%%time\n",
        "#load the train/test data and sample 10 rows\n",
        "train_test_split = pd.read_csv(os.path.join(data_dir, \"datasetSplit.txt\"))\n",
        "train_test_split.head(10)"
      ],
      "execution_count": null,
      "outputs": [
        {
          "output_type": "stream",
          "text": [
            "CPU times: user 5.58 ms, sys: 301 µs, total: 5.88 ms\n",
            "Wall time: 6.52 ms\n"
          ],
          "name": "stdout"
        }
      ]
    },
    {
      "cell_type": "code",
      "metadata": {
        "id": "hs13yIFTCfJM",
        "colab": {
          "base_uri": "https://localhost:8080/"
        },
        "outputId": "dca240c1-66ba-4aa9-cece-328e59f4a348"
      },
      "source": [
        "%%time\n",
        "sentence_phrase_merge = pd.merge(sentence_ids, dictionary, left_on='sentence', right_on='phrase')\n",
        "sentence_phrase_split = pd.merge(sentence_phrase_merge, train_test_split, on='sentence_index')\n",
        "input_dataset = pd.merge(sentence_phrase_split, sentiment_labels, on='phrase_ids')\n",
        "input_dataset['phrase_cleaned'] = input_dataset['sentence'].str.replace(r\"\\s('s|'d|'re|'ll|'m|'ve|n't)\\b\", lambda m: m.group(1))"
      ],
      "execution_count": null,
      "outputs": [
        {
          "output_type": "stream",
          "text": [
            "CPU times: user 162 ms, sys: 5.64 ms, total: 168 ms\n",
            "Wall time: 176 ms\n"
          ],
          "name": "stdout"
        }
      ]
    },
    {
      "cell_type": "code",
      "metadata": {
        "colab": {
          "base_uri": "https://localhost:8080/",
          "height": 299
        },
        "id": "hYQk7iWnCkV2",
        "outputId": "10f9d6cd-ba64-49d5-dfcb-a653a0348619"
      },
      "source": [
        "input_dataset.describe()"
      ],
      "execution_count": null,
      "outputs": [
        {
          "output_type": "execute_result",
          "data": {
            "text/html": [
              "<div>\n",
              "<style scoped>\n",
              "    .dataframe tbody tr th:only-of-type {\n",
              "        vertical-align: middle;\n",
              "    }\n",
              "\n",
              "    .dataframe tbody tr th {\n",
              "        vertical-align: top;\n",
              "    }\n",
              "\n",
              "    .dataframe thead th {\n",
              "        text-align: right;\n",
              "    }\n",
              "</style>\n",
              "<table border=\"1\" class=\"dataframe\">\n",
              "  <thead>\n",
              "    <tr style=\"text-align: right;\">\n",
              "      <th></th>\n",
              "      <th>sentence_index</th>\n",
              "      <th>phrase_ids</th>\n",
              "      <th>splitset_label</th>\n",
              "      <th>sentiment_values</th>\n",
              "    </tr>\n",
              "  </thead>\n",
              "  <tbody>\n",
              "    <tr>\n",
              "      <th>count</th>\n",
              "      <td>11286.000000</td>\n",
              "      <td>11286.000000</td>\n",
              "      <td>11286.000000</td>\n",
              "      <td>11286.000000</td>\n",
              "    </tr>\n",
              "    <tr>\n",
              "      <th>mean</th>\n",
              "      <td>5910.961102</td>\n",
              "      <td>132003.589846</td>\n",
              "      <td>1.373294</td>\n",
              "      <td>2.059986</td>\n",
              "    </tr>\n",
              "    <tr>\n",
              "      <th>std</th>\n",
              "      <td>3422.455572</td>\n",
              "      <td>68214.626430</td>\n",
              "      <td>0.647295</td>\n",
              "      <td>1.287835</td>\n",
              "    </tr>\n",
              "    <tr>\n",
              "      <th>min</th>\n",
              "      <td>1.000000</td>\n",
              "      <td>3467.000000</td>\n",
              "      <td>1.000000</td>\n",
              "      <td>0.000000</td>\n",
              "    </tr>\n",
              "    <tr>\n",
              "      <th>25%</th>\n",
              "      <td>2951.250000</td>\n",
              "      <td>67402.000000</td>\n",
              "      <td>1.000000</td>\n",
              "      <td>1.000000</td>\n",
              "    </tr>\n",
              "    <tr>\n",
              "      <th>50%</th>\n",
              "      <td>5904.500000</td>\n",
              "      <td>144063.500000</td>\n",
              "      <td>1.000000</td>\n",
              "      <td>2.000000</td>\n",
              "    </tr>\n",
              "    <tr>\n",
              "      <th>75%</th>\n",
              "      <td>8865.750000</td>\n",
              "      <td>188139.750000</td>\n",
              "      <td>2.000000</td>\n",
              "      <td>3.000000</td>\n",
              "    </tr>\n",
              "    <tr>\n",
              "      <th>max</th>\n",
              "      <td>11855.000000</td>\n",
              "      <td>238977.000000</td>\n",
              "      <td>3.000000</td>\n",
              "      <td>4.000000</td>\n",
              "    </tr>\n",
              "  </tbody>\n",
              "</table>\n",
              "</div>"
            ],
            "text/plain": [
              "       sentence_index     phrase_ids  splitset_label  sentiment_values\n",
              "count    11286.000000   11286.000000    11286.000000      11286.000000\n",
              "mean      5910.961102  132003.589846        1.373294          2.059986\n",
              "std       3422.455572   68214.626430        0.647295          1.287835\n",
              "min          1.000000    3467.000000        1.000000          0.000000\n",
              "25%       2951.250000   67402.000000        1.000000          1.000000\n",
              "50%       5904.500000  144063.500000        1.000000          2.000000\n",
              "75%       8865.750000  188139.750000        2.000000          3.000000\n",
              "max      11855.000000  238977.000000        3.000000          4.000000"
            ]
          },
          "metadata": {
            "tags": []
          },
          "execution_count": 23
        }
      ]
    },
    {
      "cell_type": "code",
      "metadata": {
        "colab": {
          "base_uri": "https://localhost:8080/"
        },
        "id": "3cOoxMVvCl-w",
        "outputId": "2e314fe4-cf97-4acc-8f9a-742e73fdbc23"
      },
      "source": [
        "input_dataset.info()"
      ],
      "execution_count": null,
      "outputs": [
        {
          "output_type": "stream",
          "text": [
            "<class 'pandas.core.frame.DataFrame'>\n",
            "Int64Index: 11286 entries, 0 to 11285\n",
            "Data columns (total 7 columns):\n",
            " #   Column            Non-Null Count  Dtype \n",
            "---  ------            --------------  ----- \n",
            " 0   sentence_index    11286 non-null  int64 \n",
            " 1   sentence          11286 non-null  object\n",
            " 2   phrase            11286 non-null  object\n",
            " 3   phrase_ids        11286 non-null  int64 \n",
            " 4   splitset_label    11286 non-null  int64 \n",
            " 5   sentiment_values  11286 non-null  int64 \n",
            " 6   phrase_cleaned    11286 non-null  object\n",
            "dtypes: int64(4), object(3)\n",
            "memory usage: 705.4+ KB\n"
          ],
          "name": "stdout"
        }
      ]
    },
    {
      "cell_type": "markdown",
      "metadata": {
        "id": "sboM1ryXKwo9"
      },
      "source": [
        "**Merged Data**"
      ]
    },
    {
      "cell_type": "code",
      "metadata": {
        "colab": {
          "base_uri": "https://localhost:8080/"
        },
        "id": "Dgb8V7ioCtrA",
        "outputId": "b399bac0-06d8-4b4e-a2c8-ee80bbe37395"
      },
      "source": [
        "%%time\n",
        "input_dataset.head(10)\n",
        "# input csv created so that it can be manually translated in gsheets\n",
        "input_dataset.to_csv('input_dataset.csv')"
      ],
      "execution_count": null,
      "outputs": [
        {
          "output_type": "stream",
          "text": [
            "CPU times: user 81.2 ms, sys: 5.48 ms, total: 86.7 ms\n",
            "Wall time: 88.5 ms\n"
          ],
          "name": "stdout"
        }
      ]
    },
    {
      "cell_type": "code",
      "metadata": {
        "id": "iec8rdazLo9k",
        "colab": {
          "base_uri": "https://localhost:8080/"
        },
        "outputId": "e348faf4-6120-4b62-a72c-4c941ec7c839"
      },
      "source": [
        "%%time\n",
        "output_dataset = input_dataset.copy()\n",
        "\n",
        "# this flag is used to decide if the augmented data should be downloaded from gdrive or create.\n",
        "# each data augmentation step takes 20 mins.\n",
        "# to save time, the data is augmented once and stored in gdrive.\n",
        "augment_data_refresh = False\n",
        "import gdown"
      ],
      "execution_count": null,
      "outputs": [
        {
          "output_type": "stream",
          "text": [
            "CPU times: user 4.34 ms, sys: 0 ns, total: 4.34 ms\n",
            "Wall time: 8.31 ms\n"
          ],
          "name": "stdout"
        }
      ]
    },
    {
      "cell_type": "markdown",
      "metadata": {
        "id": "t-rAcpgHMJpk"
      },
      "source": [
        "**Augment data with random character swap**\n",
        "\n"
      ]
    },
    {
      "cell_type": "code",
      "metadata": {
        "colab": {
          "base_uri": "https://localhost:8080/"
        },
        "id": "pyBfG-xmCzS6",
        "outputId": "85f84c10-9ba8-442c-9117-055dc17e7683"
      },
      "source": [
        "%%time\n",
        "if augment_data_refresh == True:\n",
        "  input_dataset_random_word_swap = input_dataset.copy()\n",
        "  aug_swap = nac.RandomCharAug(action=\"swap\")\n",
        "  swap_sentences = input_dataset_random_word_swap['sentence'].progress_apply(aug_swap.augment)\n",
        "  input_dataset_random_word_swap['sentence'] = swap_sentences\n",
        "  input_dataset_random_word_swap.to_csv('input_dataset_random_word_swap.csv')\n",
        "  # manually upload above file to gdrive and set read permission for everyone\n",
        "else:\n",
        "  input_dataset_random_word_swap_url = 'https://drive.google.com/uc?id=1KTsTppBMCGn3-MBWHIHCYONe0CGQTuaD'\n",
        "  input_dataset_random_word_swap_file = 'input_dataset_random_word_swap.csv'\n",
        "  gdown.download(input_dataset_random_word_swap_url, input_dataset_random_word_swap_file, quiet=False)\n",
        "  input_dataset_random_word_swap = pd.read_csv(input_dataset_random_word_swap_file, sep=',', header='infer')\n",
        "input_dataset_random_word_swap.head(10)"
      ],
      "execution_count": null,
      "outputs": [
        {
          "output_type": "stream",
          "text": [
            "Downloading...\n",
            "From: https://drive.google.com/uc?id=1KTsTppBMCGn3-MBWHIHCYONe0CGQTuaD\n",
            "To: /content/input_dataset_random_word_swap.csv\n",
            "3.71MB [00:00, 18.4MB/s]"
          ],
          "name": "stderr"
        },
        {
          "output_type": "stream",
          "text": [
            "CPU times: user 82.1 ms, sys: 20.3 ms, total: 102 ms\n",
            "Wall time: 2.42 s\n"
          ],
          "name": "stdout"
        },
        {
          "output_type": "stream",
          "text": [
            "\n"
          ],
          "name": "stderr"
        }
      ]
    },
    {
      "cell_type": "markdown",
      "metadata": {
        "id": "H7RERfgVLFAF"
      },
      "source": [
        "**Augment data with synonyms**"
      ]
    },
    {
      "cell_type": "code",
      "metadata": {
        "colab": {
          "base_uri": "https://localhost:8080/"
        },
        "id": "L5-BaGQZC9z9",
        "outputId": "68797296-6fc6-4dd7-ce7f-ad994c36bd37"
      },
      "source": [
        "%%time\n",
        "if augment_data_refresh == True:\n",
        "  input_dataset_aug_synonym = input_dataset.copy()\n",
        "  aug_synonym = naw.SynonymAug(aug_src='wordnet')\n",
        "  synonym_sentences = input_dataset_aug_synonym['sentence'].progress_apply(aug_synonym.augment)\n",
        "  input_dataset_aug_synonym.to_csv('input_dataset_aug_synonym.csv')\n",
        "  # manually upload above file to gdrive and set read permission for everyone  \n",
        "else:\n",
        "  input_dataset_aug_synonym_url = 'https://drive.google.com/uc?id=18nUYjEdfcIzOwy81lbzkZU5iYN8FLCH7'\n",
        "  input_dataset_aug_synonym_file = 'input_dataset_aug_synonym.csv'\n",
        "  gdown.download(input_dataset_aug_synonym_url, input_dataset_aug_synonym_file, quiet=False)\n",
        "  input_dataset_aug_synonym = pd.read_csv(input_dataset_aug_synonym_file, sep=',', header='infer')  \n",
        "input_dataset_aug_synonym.head(10)"
      ],
      "execution_count": null,
      "outputs": [
        {
          "output_type": "stream",
          "text": [
            "Downloading...\n",
            "From: https://drive.google.com/uc?id=18nUYjEdfcIzOwy81lbzkZU5iYN8FLCH7\n",
            "To: /content/input_dataset_aug_synonym.csv\n",
            "3.83MB [00:00, 20.1MB/s]\n"
          ],
          "name": "stderr"
        },
        {
          "output_type": "stream",
          "text": [
            "CPU times: user 76.7 ms, sys: 22.4 ms, total: 99.1 ms\n",
            "Wall time: 2.02 s\n"
          ],
          "name": "stdout"
        }
      ]
    },
    {
      "cell_type": "markdown",
      "metadata": {
        "id": "LyZSdIfeXWH6"
      },
      "source": [
        "**Augment data with random word deletion**"
      ]
    },
    {
      "cell_type": "code",
      "metadata": {
        "colab": {
          "base_uri": "https://localhost:8080/"
        },
        "id": "fdRvAtfyXVlT",
        "outputId": "647c71f4-7133-4719-a2b1-cbe05e090209"
      },
      "source": [
        "%%time\n",
        "if augment_data_refresh == True:\n",
        "  input_dataset_random_word_del = input_dataset.copy()\n",
        "  aug_del = naw.RandomWordAug()\n",
        "  del_sentences = input_dataset_random_word_del['sentence'].progress_apply(aug_del.augment)\n",
        "  input_dataset_random_word_del['sentence'] = del_sentences\n",
        "  input_dataset_random_word_del.to_csv('input_dataset_random_word_del.csv')\n",
        "  # manually upload above file to gdrive and set read permission for everyone  \n",
        "else:\n",
        "  input_dataset_random_word_del_url = 'https://drive.google.com/uc?id=15DoYZH920cLsjwaMjNMZt6AqmJQ0mCzp'\n",
        "  input_dataset_random_word_del_file = 'input_dataset_random_word_del.csv'\n",
        "  gdown.download(input_dataset_random_word_del_url, input_dataset_random_word_del_file, quiet=False)\n",
        "  input_dataset_random_word_del = pd.read_csv(input_dataset_random_word_del_file, sep=',', header='infer')  \n",
        "input_dataset_random_word_del.head(10)"
      ],
      "execution_count": null,
      "outputs": [
        {
          "output_type": "stream",
          "text": [
            "Downloading...\n",
            "From: https://drive.google.com/uc?id=15DoYZH920cLsjwaMjNMZt6AqmJQ0mCzp\n",
            "To: /content/input_dataset_random_word_del.csv\n",
            "3.37MB [00:00, 13.2MB/s]"
          ],
          "name": "stderr"
        },
        {
          "output_type": "stream",
          "text": [
            "CPU times: user 74.1 ms, sys: 20.7 ms, total: 94.9 ms\n",
            "Wall time: 1.91 s\n"
          ],
          "name": "stdout"
        },
        {
          "output_type": "stream",
          "text": [
            "\n"
          ],
          "name": "stderr"
        }
      ]
    },
    {
      "cell_type": "markdown",
      "metadata": {
        "id": "NIZfXNbzvrVM"
      },
      "source": [
        "**Augment data with spelling mistakes**"
      ]
    },
    {
      "cell_type": "code",
      "metadata": {
        "colab": {
          "base_uri": "https://localhost:8080/"
        },
        "id": "4PIIkNnyvqnU",
        "outputId": "f6558300-c56b-4988-edbf-bc5ed1d9b4ac"
      },
      "source": [
        "%%time\n",
        "if augment_data_refresh == True:\n",
        "  input_dataset_random_spell = input_dataset.copy()\n",
        "  aug_spell = naw.SpellingAug()\n",
        "  spell_sentences = input_dataset_random_spell['sentence'].progress_apply(aug_spell.augment)\n",
        "  input_dataset_random_spell['sentence'] = spell_sentences\n",
        "  input_dataset_random_spell.to_csv('input_dataset_random_spell.csv')\n",
        "  # manually upload above file to gdrive and set read permission for everyone  \n",
        "else:\n",
        "  input_dataset_random_spell_url = 'https://drive.google.com/uc?id=1F55BBy4tHfKM3DoJjc4XsfX9tvaYUe8d'\n",
        "  input_dataset_random_spell_file = 'input_dataset_random_spell.csv'\n",
        "  gdown.download(input_dataset_random_spell_url, input_dataset_random_spell_file, quiet=False)\n",
        "  input_dataset_random_spell = pd.read_csv(input_dataset_random_spell_file, sep=',', header='infer')  \n",
        "input_dataset_random_spell.head(10)"
      ],
      "execution_count": null,
      "outputs": [
        {
          "output_type": "stream",
          "text": [
            "Downloading...\n",
            "From: https://drive.google.com/uc?id=1F55BBy4tHfKM3DoJjc4XsfX9tvaYUe8d\n",
            "To: /content/input_dataset_random_spell.csv\n",
            "3.73MB [00:00, 21.0MB/s]\n"
          ],
          "name": "stderr"
        },
        {
          "output_type": "stream",
          "text": [
            "CPU times: user 88 ms, sys: 17.4 ms, total: 105 ms\n",
            "Wall time: 2.68 s\n"
          ],
          "name": "stdout"
        }
      ]
    },
    {
      "cell_type": "markdown",
      "metadata": {
        "id": "TaF35GHcVt-M"
      },
      "source": [
        "**Augment data with back translation**\n",
        "\n",
        "Translate from english to german and back to english."
      ]
    },
    {
      "cell_type": "code",
      "metadata": {
        "id": "O8lt3B6p5_5N"
      },
      "source": [
        "import torch"
      ],
      "execution_count": null,
      "outputs": []
    },
    {
      "cell_type": "code",
      "metadata": {
        "colab": {
          "base_uri": "https://localhost:8080/"
        },
        "id": "7KsBNEd64Si9",
        "outputId": "ead98363-3b22-436e-bccb-713a073b38c7"
      },
      "source": [
        "%%time\n",
        "if augment_data_refresh == True:\n",
        "  en2de = torch.hub.load('pytorch/fairseq', 'transformer.wmt19.en-de')\n",
        "  de2en = torch.hub.load('pytorch/fairseq', 'transformer.wmt19.de-en')\n",
        "  input_dataset_random_back_trans = input_dataset.copy()\n",
        "  aug_back_trans = naw.BackTranslationAug(\n",
        "      from_model_name='transformer.wmt19.en-de', \n",
        "      to_model_name='transformer.wmt19.de-en')\n",
        "  #aug_back_trans = naw.BackTranslationAug()\n",
        "  back_trans_sentences = input_dataset_random_back_trans['sentence'].progress_apply(aug_back_trans.augment)\n",
        "  input_dataset_random_back_trans['sentence'] = back_trans_sentences\n",
        "  input_dataset_random_back_trans.to_csv('input_dataset_back_trans.csv')\n",
        "  # manually upload above file to gdrive and set read permission for everyone  \n",
        "else:\n",
        "  input_dataset_random_back_trans_url = 'https://drive.google.com/uc?id=12zp8N8Jig2ZIowkVCr-zjXbKFHVXf5Jn'\n",
        "  input_dataset_random_back_trans_file = 'input_dataset_back_trans.csv'\n",
        "  gdown.download(input_dataset_random_back_trans_url, input_dataset_random_back_trans_file, quiet=False)\n",
        "  input_dataset_random_back_trans = pd.read_csv(input_dataset_random_back_trans_file, sep=',', header='infer')  \n",
        "input_dataset_random_back_trans.head(10)"
      ],
      "execution_count": null,
      "outputs": [
        {
          "output_type": "stream",
          "text": [
            "Downloading...\n",
            "From: https://drive.google.com/uc?id=12zp8N8Jig2ZIowkVCr-zjXbKFHVXf5Jn\n",
            "To: /content/input_dataset_back_trans.csv\n",
            "100%|██████████| 333k/333k [00:00<00:00, 2.96MB/s]"
          ],
          "name": "stderr"
        },
        {
          "output_type": "stream",
          "text": [
            "CPU times: user 46.7 ms, sys: 4.62 ms, total: 51.3 ms\n",
            "Wall time: 1.47 s\n"
          ],
          "name": "stdout"
        },
        {
          "output_type": "stream",
          "text": [
            "\n"
          ],
          "name": "stderr"
        }
      ]
    },
    {
      "cell_type": "code",
      "metadata": {
        "colab": {
          "base_uri": "https://localhost:8080/"
        },
        "id": "NSX9hF_XDKUf",
        "outputId": "e5e2e323-2c63-439a-9880-ec7ed10e72ca"
      },
      "source": [
        "%%time\n",
        "# append all augmented datasets to the oiginal input dataset\n",
        "output_dataset = output_dataset.append(input_dataset_aug_synonym)\n",
        "output_dataset = output_dataset.append(input_dataset_random_word_swap)\n",
        "output_dataset = output_dataset.append(input_dataset_random_word_del)\n",
        "output_dataset = output_dataset.append(input_dataset_random_spell)\n",
        "output_dataset = output_dataset.append(input_dataset_random_back_trans)\n",
        "output_dataset.describe()"
      ],
      "execution_count": null,
      "outputs": [
        {
          "output_type": "stream",
          "text": [
            "CPU times: user 71.7 ms, sys: 1.9 ms, total: 73.6 ms\n",
            "Wall time: 76.6 ms\n"
          ],
          "name": "stdout"
        }
      ]
    },
    {
      "cell_type": "markdown",
      "metadata": {
        "id": "omn-xAIWLPYO"
      },
      "source": [
        "### Setup Train, Dev (Validation), Test Datasets ###"
      ]
    },
    {
      "cell_type": "code",
      "metadata": {
        "id": "VOgq-PiNDinA",
        "colab": {
          "base_uri": "https://localhost:8080/"
        },
        "outputId": "a81f5702-a514-45c4-b0b8-01abbbc4ef0b"
      },
      "source": [
        "%%time\n",
        "# create the train, dev and test datasets in a 60%, 20%, 20% split randomly\n",
        "import numpy as np\n",
        "\n",
        "output_dataset['label'] = '__label__' + output_dataset['sentiment_values'].map(str) \n",
        "#output_dataset.to_csv('sst_output_dataset1.csv')\n",
        "header = ['label', 'sentence']\n",
        "#output_dataset.to_csv('sst_output_dataset1.txt', sep ='\\t', \n",
        "#                      columns=header, index=False, header=False)\n",
        "\n",
        "train_output_dataset, dev_output_dataset, test_output_dataset = \\\n",
        "              np.split(output_dataset.sample(frac=1, random_state=42), \n",
        "                       [int(.6*len(output_dataset)), int(.8*len(output_dataset))])"
      ],
      "execution_count": null,
      "outputs": [
        {
          "output_type": "stream",
          "text": [
            "CPU times: user 44.2 ms, sys: 1.7 ms, total: 45.8 ms\n",
            "Wall time: 46.8 ms\n"
          ],
          "name": "stdout"
        }
      ]
    },
    {
      "cell_type": "code",
      "metadata": {
        "id": "Sktny-kjDsTl"
      },
      "source": [
        "train_output_dataset.to_csv('sst_train.txt', sep ='\\t', \n",
        "                      columns=header, index=False, header=False)"
      ],
      "execution_count": null,
      "outputs": []
    },
    {
      "cell_type": "code",
      "metadata": {
        "id": "XiKPXJ7FDwNU"
      },
      "source": [
        "dev_output_dataset.to_csv('sst_dev.txt', sep ='\\t', \n",
        "                      columns=header, index=False, header=False)"
      ],
      "execution_count": null,
      "outputs": []
    },
    {
      "cell_type": "code",
      "metadata": {
        "id": "F6a6HUUUDzG9"
      },
      "source": [
        "test_output_dataset.to_csv('sst_test.txt', sep ='\\t', \n",
        "                      columns=header, index=False, header=False)"
      ],
      "execution_count": null,
      "outputs": []
    },
    {
      "cell_type": "code",
      "metadata": {
        "colab": {
          "base_uri": "https://localhost:8080/"
        },
        "id": "Qf1RwYNHHuYK",
        "outputId": "dbd24f3f-6abe-4c06-a006-6a20f6bba167"
      },
      "source": [
        "!ls -alh *.txt"
      ],
      "execution_count": null,
      "outputs": [
        {
          "output_type": "stream",
          "text": [
            "-rw-r--r-- 1 root root 1.2M Jun  8 16:29 sst_dev.txt\n",
            "-rw-r--r-- 1 root root 1.2M Jun  8 16:29 sst_test.txt\n",
            "-rw-r--r-- 1 root root 3.6M Jun  8 16:29 sst_train.txt\n"
          ],
          "name": "stdout"
        }
      ]
    },
    {
      "cell_type": "code",
      "metadata": {
        "id": "VyzRffg8EaVE"
      },
      "source": [
        "def read_sst5(data_dir, colnames=[LABEL_COL, TEXT_COL]):\n",
        "    datasets = {}\n",
        "    for t in [\"train\", \"dev\", \"test\"]:\n",
        "        df = pd.read_csv(os.path.join(data_dir, f\"sst_{t}.txt\"), sep='\\t', header=None, names=colnames)\n",
        "        df[LABEL_COL] = df[LABEL_COL].str.replace('__label__', '')\n",
        "        df[LABEL_COL] = df[LABEL_COL].astype(int)   # Categorical data type for truth labels\n",
        "        df[LABEL_COL] = df[LABEL_COL] - 1  # Zero-index labels for PyTorch\n",
        "        datasets[t] = df\n",
        "    return datasets"
      ],
      "execution_count": null,
      "outputs": []
    },
    {
      "cell_type": "code",
      "metadata": {
        "colab": {
          "base_uri": "https://localhost:8080/"
        },
        "id": "0O_HDEfKEqTR",
        "outputId": "fe2c807c-d2a6-4114-a232-c2a9e95edc9b"
      },
      "source": [
        "%%time\n",
        "data_dict=read_sst5(DATASET_DIR , colnames=[LABEL_COL,TEXT_COL])\n",
        "data_dict"
      ],
      "execution_count": null,
      "outputs": [
        {
          "output_type": "stream",
          "text": [
            "CPU times: user 105 ms, sys: 16 ms, total: 121 ms\n",
            "Wall time: 122 ms\n"
          ],
          "name": "stdout"
        }
      ]
    },
    {
      "cell_type": "code",
      "metadata": {
        "colab": {
          "base_uri": "https://localhost:8080/",
          "height": 362
        },
        "id": "kqOW0TSfGHKa",
        "outputId": "0d3915a1-cd6b-4805-ee94-c4074d1637fe"
      },
      "source": [
        "data_dict['train'].head(10)"
      ],
      "execution_count": null,
      "outputs": [
        {
          "output_type": "execute_result",
          "data": {
            "text/html": [
              "<div>\n",
              "<style scoped>\n",
              "    .dataframe tbody tr th:only-of-type {\n",
              "        vertical-align: middle;\n",
              "    }\n",
              "\n",
              "    .dataframe tbody tr th {\n",
              "        vertical-align: top;\n",
              "    }\n",
              "\n",
              "    .dataframe thead th {\n",
              "        text-align: right;\n",
              "    }\n",
              "</style>\n",
              "<table border=\"1\" class=\"dataframe\">\n",
              "  <thead>\n",
              "    <tr style=\"text-align: right;\">\n",
              "      <th></th>\n",
              "      <th>label</th>\n",
              "      <th>text</th>\n",
              "    </tr>\n",
              "  </thead>\n",
              "  <tbody>\n",
              "    <tr>\n",
              "      <th>0</th>\n",
              "      <td>3</td>\n",
              "      <td>Time is a beautiful celluloid to check, an int...</td>\n",
              "    </tr>\n",
              "    <tr>\n",
              "      <th>1</th>\n",
              "      <td>-1</td>\n",
              "      <td>In other words, virtually as bad a plastic fil...</td>\n",
              "    </tr>\n",
              "    <tr>\n",
              "      <th>2</th>\n",
              "      <td>-1</td>\n",
              "      <td>A turgid little history lesson , humourless an...</td>\n",
              "    </tr>\n",
              "    <tr>\n",
              "      <th>3</th>\n",
              "      <td>2</td>\n",
              "      <td>Wise ande deadpan humorous.</td>\n",
              "    </tr>\n",
              "    <tr>\n",
              "      <th>4</th>\n",
              "      <td>0</td>\n",
              "      <td>Just when you think you constitute make signif...</td>\n",
              "    </tr>\n",
              "    <tr>\n",
              "      <th>5</th>\n",
              "      <td>0</td>\n",
              "      <td>Truth to tell, you ' more than half - - films,...</td>\n",
              "    </tr>\n",
              "    <tr>\n",
              "      <th>6</th>\n",
              "      <td>1</td>\n",
              "      <td>` Sophisticated ' viewers who refuse t0 admmit...</td>\n",
              "    </tr>\n",
              "    <tr>\n",
              "      <th>7</th>\n",
              "      <td>3</td>\n",
              "      <td>Then large - format filme is will suited ro ca...</td>\n",
              "    </tr>\n",
              "    <tr>\n",
              "      <th>8</th>\n",
              "      <td>3</td>\n",
              "      <td>Gay or stargiht, Kissing Jessica Tsein is one ...</td>\n",
              "    </tr>\n",
              "    <tr>\n",
              "      <th>9</th>\n",
              "      <td>2</td>\n",
              "      <td>, soar.</td>\n",
              "    </tr>\n",
              "  </tbody>\n",
              "</table>\n",
              "</div>"
            ],
            "text/plain": [
              "   label                                               text\n",
              "0      3  Time is a beautiful celluloid to check, an int...\n",
              "1     -1  In other words, virtually as bad a plastic fil...\n",
              "2     -1  A turgid little history lesson , humourless an...\n",
              "3      2                        Wise ande deadpan humorous.\n",
              "4      0  Just when you think you constitute make signif...\n",
              "5      0  Truth to tell, you ' more than half - - films,...\n",
              "6      1  ` Sophisticated ' viewers who refuse t0 admmit...\n",
              "7      3  Then large - format filme is will suited ro ca...\n",
              "8      3  Gay or stargiht, Kissing Jessica Tsein is one ...\n",
              "9      2                                            , soar."
            ]
          },
          "metadata": {
            "tags": []
          },
          "execution_count": 42
        }
      ]
    },
    {
      "cell_type": "code",
      "metadata": {
        "colab": {
          "base_uri": "https://localhost:8080/"
        },
        "id": "FoWXB04gGPme",
        "outputId": "f9148aad-4e4f-4267-9f92-c2e44f534e0c"
      },
      "source": [
        "data_dict['train'].shape"
      ],
      "execution_count": null,
      "outputs": [
        {
          "output_type": "execute_result",
          "data": {
            "text/plain": [
              "(34458, 2)"
            ]
          },
          "metadata": {
            "tags": []
          },
          "execution_count": 43
        }
      ]
    },
    {
      "cell_type": "code",
      "metadata": {
        "colab": {
          "base_uri": "https://localhost:8080/",
          "height": 362
        },
        "id": "qS_vrk_pFUla",
        "outputId": "ed579e52-7625-4e03-d8d3-ed640bdc1eb3"
      },
      "source": [
        "data_dict['dev'].head(10)"
      ],
      "execution_count": null,
      "outputs": [
        {
          "output_type": "execute_result",
          "data": {
            "text/html": [
              "<div>\n",
              "<style scoped>\n",
              "    .dataframe tbody tr th:only-of-type {\n",
              "        vertical-align: middle;\n",
              "    }\n",
              "\n",
              "    .dataframe tbody tr th {\n",
              "        vertical-align: top;\n",
              "    }\n",
              "\n",
              "    .dataframe thead th {\n",
              "        text-align: right;\n",
              "    }\n",
              "</style>\n",
              "<table border=\"1\" class=\"dataframe\">\n",
              "  <thead>\n",
              "    <tr style=\"text-align: right;\">\n",
              "      <th></th>\n",
              "      <th>label</th>\n",
              "      <th>text</th>\n",
              "    </tr>\n",
              "  </thead>\n",
              "  <tbody>\n",
              "    <tr>\n",
              "      <th>0</th>\n",
              "      <td>2</td>\n",
              "      <td>May be far from the best of the series, but in...</td>\n",
              "    </tr>\n",
              "    <tr>\n",
              "      <th>1</th>\n",
              "      <td>3</td>\n",
              "      <td>Bold and subversive film that cuts across the ...</td>\n",
              "    </tr>\n",
              "    <tr>\n",
              "      <th>2</th>\n",
              "      <td>3</td>\n",
              "      <td>.. . if you ' re in a judgement set for whacky...</td>\n",
              "    </tr>\n",
              "    <tr>\n",
              "      <th>3</th>\n",
              "      <td>1</td>\n",
              "      <td>Non kid, world health organization do n ' trii...</td>\n",
              "    </tr>\n",
              "    <tr>\n",
              "      <th>4</th>\n",
              "      <td>2</td>\n",
              "      <td>Like many Wsteern action films, this htrliler ...</td>\n",
              "    </tr>\n",
              "    <tr>\n",
              "      <th>5</th>\n",
              "      <td>1</td>\n",
              "      <td>Igby Down is of those movies.</td>\n",
              "    </tr>\n",
              "    <tr>\n",
              "      <th>6</th>\n",
              "      <td>1</td>\n",
              "      <td>Granddad of Le Nouvelle Vague, Jean - Luc Goda...</td>\n",
              "    </tr>\n",
              "    <tr>\n",
              "      <th>7</th>\n",
              "      <td>-1</td>\n",
              "      <td>It makes me the obvious: Abandon hope of good ...</td>\n",
              "    </tr>\n",
              "    <tr>\n",
              "      <th>8</th>\n",
              "      <td>2</td>\n",
              "      <td>.. . tthe story, like Ravel ' is Bolero, build...</td>\n",
              "    </tr>\n",
              "    <tr>\n",
              "      <th>9</th>\n",
              "      <td>3</td>\n",
              "      <td>Scott delivers a terrific performance Im thi's...</td>\n",
              "    </tr>\n",
              "  </tbody>\n",
              "</table>\n",
              "</div>"
            ],
            "text/plain": [
              "   label                                               text\n",
              "0      2  May be far from the best of the series, but in...\n",
              "1      3  Bold and subversive film that cuts across the ...\n",
              "2      3  .. . if you ' re in a judgement set for whacky...\n",
              "3      1  Non kid, world health organization do n ' trii...\n",
              "4      2  Like many Wsteern action films, this htrliler ...\n",
              "5      1                      Igby Down is of those movies.\n",
              "6      1  Granddad of Le Nouvelle Vague, Jean - Luc Goda...\n",
              "7     -1  It makes me the obvious: Abandon hope of good ...\n",
              "8      2  .. . tthe story, like Ravel ' is Bolero, build...\n",
              "9      3  Scott delivers a terrific performance Im thi's..."
            ]
          },
          "metadata": {
            "tags": []
          },
          "execution_count": 44
        }
      ]
    },
    {
      "cell_type": "code",
      "metadata": {
        "colab": {
          "base_uri": "https://localhost:8080/"
        },
        "id": "qPT65s9hGZwK",
        "outputId": "a76fd349-eb5d-4c64-b40f-86fcc9a6c6f1"
      },
      "source": [
        "data_dict['dev'].shape"
      ],
      "execution_count": null,
      "outputs": [
        {
          "output_type": "execute_result",
          "data": {
            "text/plain": [
              "(11486, 2)"
            ]
          },
          "metadata": {
            "tags": []
          },
          "execution_count": 45
        }
      ]
    },
    {
      "cell_type": "code",
      "metadata": {
        "colab": {
          "base_uri": "https://localhost:8080/"
        },
        "id": "g65vaGbp5VZs",
        "outputId": "90f5be7c-0516-4b0b-a12a-923f2e293375"
      },
      "source": [
        "data_dict['test'].shape"
      ],
      "execution_count": null,
      "outputs": [
        {
          "output_type": "execute_result",
          "data": {
            "text/plain": [
              "(11487, 2)"
            ]
          },
          "metadata": {
            "tags": []
          },
          "execution_count": 46
        }
      ]
    },
    {
      "cell_type": "code",
      "metadata": {
        "colab": {
          "base_uri": "https://localhost:8080/"
        },
        "id": "q-YLiyYk5Yc9",
        "outputId": "7c0163dd-9e32-4f40-ed7e-42f88d48e61d"
      },
      "source": [
        "data_dict['train'].label.value_counts()"
      ],
      "execution_count": null,
      "outputs": [
        {
          "output_type": "execute_result",
          "data": {
            "text/plain": [
              " 2    9174\n",
              " 0    8934\n",
              " 1    6596\n",
              " 3    5446\n",
              "-1    4308\n",
              "Name: label, dtype: int64"
            ]
          },
          "metadata": {
            "tags": []
          },
          "execution_count": 47
        }
      ]
    },
    {
      "cell_type": "markdown",
      "metadata": {
        "id": "XJ6o_79ISSVb"
      },
      "source": [
        "### Defining Fields & Create Train, Validation Data ###"
      ]
    },
    {
      "cell_type": "markdown",
      "metadata": {
        "id": "e63g08ijOrf7"
      },
      "source": [
        "Now we shall be defining LABEL as a LabelField, which is a subclass of Field that sets sequential to False (as it’s our numerical category class). Text is a standard Field object, where we have decided to use the spaCy tokenizer and convert all the text to lower‐ case."
      ]
    },
    {
      "cell_type": "code",
      "metadata": {
        "colab": {
          "base_uri": "https://localhost:8080/"
        },
        "id": "qk8IP4SK1Lrp",
        "outputId": "533ef7a1-95b3-4c35-dde5-0a810681d82e"
      },
      "source": [
        "# Import Library\n",
        "import random\n",
        "import torch, torchtext\n",
        "from torchtext import legacy\n",
        "from torchtext.legacy import data\n",
        "\n",
        "# Manual Seed\n",
        "SEED = 43\n",
        "torch.manual_seed(SEED)"
      ],
      "execution_count": null,
      "outputs": [
        {
          "output_type": "execute_result",
          "data": {
            "text/plain": [
              "<torch._C.Generator at 0x7fb31a0b03b0>"
            ]
          },
          "metadata": {
            "tags": []
          },
          "execution_count": 48
        }
      ]
    },
    {
      "cell_type": "code",
      "metadata": {
        "id": "u6bKQax2Mf_U",
        "colab": {
          "base_uri": "https://localhost:8080/"
        },
        "outputId": "3608ebf0-f7f5-44b9-d7b7-7123a8ca14af"
      },
      "source": [
        "%%time\n",
        "#Defines a datatype together with instructions for converting to Tensor.\n",
        "Text = data.Field(sequential = True, tokenize = 'spacy', batch_first =True, include_lengths=True)\n",
        "Label = data.LabelField(tokenize ='spacy', is_target=True, batch_first =True, sequential =False)"
      ],
      "execution_count": null,
      "outputs": [
        {
          "output_type": "stream",
          "text": [
            "CPU times: user 1.6 s, sys: 240 ms, total: 1.84 s\n",
            "Wall time: 4.09 s\n"
          ],
          "name": "stdout"
        }
      ]
    },
    {
      "cell_type": "markdown",
      "metadata": {
        "id": "mX-lYIe_O7Vy"
      },
      "source": [
        "Having defined those fields, we now need to produce a list that maps them onto the list of rows that are in the CSV:"
      ]
    },
    {
      "cell_type": "code",
      "metadata": {
        "id": "MMDBHQ9v6-nl"
      },
      "source": [
        "fields=[('text',Text),('label',Label)]"
      ],
      "execution_count": null,
      "outputs": []
    },
    {
      "cell_type": "markdown",
      "metadata": {
        "id": "ZbtZ-Ph2P1xL"
      },
      "source": [
        "Armed with our declared fields, lets convert from pandas to list to torchtext. We could also use TabularDataset to apply that definition to the CSV directly but showing an alternative approach too."
      ]
    },
    {
      "cell_type": "code",
      "metadata": {
        "id": "kIiHKLQU8al_",
        "colab": {
          "base_uri": "https://localhost:8080/"
        },
        "outputId": "bd05bae8-0ef0-46d4-8ae5-b86407ab745e"
      },
      "source": [
        "%%time\n",
        "example_train=[data.Example.fromlist([data_dict['train'].text[i],data_dict['train'].label[i]],fields) for i in range (data_dict['train'].shape[0])]"
      ],
      "execution_count": null,
      "outputs": [
        {
          "output_type": "stream",
          "text": [
            "CPU times: user 37min 29s, sys: 22.2 s, total: 37min 51s\n",
            "Wall time: 37min 46s\n"
          ],
          "name": "stdout"
        }
      ]
    },
    {
      "cell_type": "code",
      "metadata": {
        "id": "nT-flpH-P1cd"
      },
      "source": [
        "# Creating training dataset\n",
        "train = data.Dataset(example_train, fields)"
      ],
      "execution_count": null,
      "outputs": []
    },
    {
      "cell_type": "markdown",
      "metadata": {
        "id": "gpmKkoIO8vEO"
      },
      "source": [
        "Similarly, perform the above step for validation (dev) dataset."
      ]
    },
    {
      "cell_type": "code",
      "metadata": {
        "id": "VuQjKsfII_rL",
        "colab": {
          "base_uri": "https://localhost:8080/"
        },
        "outputId": "81927e00-da13-4079-c4a9-e0a2217c2546"
      },
      "source": [
        "%%time\n",
        "example_dev=[data.Example.fromlist([data_dict['dev'].text[i],data_dict['dev'].label[i]],fields) for i in range (data_dict['dev'].shape[0])]"
      ],
      "execution_count": null,
      "outputs": [
        {
          "output_type": "stream",
          "text": [
            "CPU times: user 12min 25s, sys: 7.07 s, total: 12min 32s\n",
            "Wall time: 12min 31s\n"
          ],
          "name": "stdout"
        }
      ]
    },
    {
      "cell_type": "code",
      "metadata": {
        "id": "DVPITjbYJq4n"
      },
      "source": [
        "# Creating dev/validation dataset\n",
        "dev = data.Dataset(example_dev, fields)"
      ],
      "execution_count": null,
      "outputs": []
    },
    {
      "cell_type": "code",
      "metadata": {
        "colab": {
          "base_uri": "https://localhost:8080/"
        },
        "id": "gLuAavz4JBO3",
        "outputId": "945ac558-da4b-4ab4-ed33-a664a5a5a53d"
      },
      "source": [
        "train, dev"
      ],
      "execution_count": null,
      "outputs": [
        {
          "output_type": "execute_result",
          "data": {
            "text/plain": [
              "(<torchtext.legacy.data.dataset.Dataset at 0x7fb31418aa10>,\n",
              " <torchtext.legacy.data.dataset.Dataset at 0x7fb2b967db50>)"
            ]
          },
          "metadata": {
            "tags": []
          },
          "execution_count": 56
        }
      ]
    },
    {
      "cell_type": "code",
      "metadata": {
        "colab": {
          "base_uri": "https://localhost:8080/"
        },
        "id": "ykvsCGQMR6UD",
        "outputId": "508f21fd-9a72-4014-a59f-23920bc0dbe2"
      },
      "source": [
        "(len(train),len(dev))"
      ],
      "execution_count": null,
      "outputs": [
        {
          "output_type": "execute_result",
          "data": {
            "text/plain": [
              "(34458, 11486)"
            ]
          },
          "metadata": {
            "tags": []
          },
          "execution_count": 57
        }
      ]
    },
    {
      "cell_type": "markdown",
      "metadata": {
        "id": "kix8P2IKSBaV"
      },
      "source": [
        "An example from the dataset:"
      ]
    },
    {
      "cell_type": "code",
      "metadata": {
        "colab": {
          "base_uri": "https://localhost:8080/"
        },
        "id": "dUpEOQruR9JL",
        "outputId": "ba117eef-d29c-42dc-f010-a562dde0eb18"
      },
      "source": [
        "vars(train.examples[10])"
      ],
      "execution_count": null,
      "outputs": [
        {
          "output_type": "execute_result",
          "data": {
            "text/plain": [
              "{'label': 3,\n",
              " 'text': ['The',\n",
              "  'Bai',\n",
              "  'chum',\n",
              "  'experience',\n",
              "  'direct',\n",
              "  'an',\n",
              "  'small',\n",
              "  'slash',\n",
              "  'of',\n",
              "  'history',\n",
              "  'and',\n",
              "  'opened',\n",
              "  'it',\n",
              "  'up',\n",
              "  'for',\n",
              "  'all',\n",
              "  'of',\n",
              "  'us',\n",
              "  'to',\n",
              "  'understand',\n",
              "  ',',\n",
              "  'and',\n",
              "  'they',\n",
              "  \"'\",\n",
              "  've',\n",
              "  'say',\n",
              "  'a',\n",
              "  'nice',\n",
              "  'little',\n",
              "  'story',\n",
              "  'in',\n",
              "  'the',\n",
              "  'outgrowth',\n",
              "  '.']}"
            ]
          },
          "metadata": {
            "tags": []
          },
          "execution_count": 58
        }
      ]
    },
    {
      "cell_type": "code",
      "metadata": {
        "colab": {
          "base_uri": "https://localhost:8080/"
        },
        "id": "rVlspHSKJ7Df",
        "outputId": "beca62fa-5617-4bff-e2ee-aa28d6ad113b"
      },
      "source": [
        "vars(dev.examples[10])"
      ],
      "execution_count": null,
      "outputs": [
        {
          "output_type": "execute_result",
          "data": {
            "text/plain": [
              "{'label': 0,\n",
              " 'text': ['Due',\n",
              "  'to',\n",
              "  'some',\n",
              "  'script',\n",
              "  'weaknesses',\n",
              "  'the',\n",
              "  'casting',\n",
              "  'of',\n",
              "  'the',\n",
              "  \"'\",\n",
              "  'brother',\n",
              "  ',',\n",
              "  'the',\n",
              "  'film',\n",
              "  'trails',\n",
              "  '.']}"
            ]
          },
          "metadata": {
            "tags": []
          },
          "execution_count": 59
        }
      ]
    },
    {
      "cell_type": "markdown",
      "metadata": {
        "id": "AKdllP3FST4N"
      },
      "source": [
        "### Building Vocabulary ###"
      ]
    },
    {
      "cell_type": "markdown",
      "metadata": {
        "id": "SuvWQ-SpSmSz"
      },
      "source": [
        "At this point we would have built a one-hot encoding of each word that is present in the dataset—a rather tedious process. Thankfully, torchtext will do this for us, and will also allow a max_size parameter to be passed in to limit the vocabulary to the most common words. This is normally done to prevent the construction of a huge, memory-hungry model. We don’t want our GPUs too overwhelmed, after all. \n"
      ]
    },
    {
      "cell_type": "code",
      "metadata": {
        "id": "ukXt8VfvKKp5",
        "colab": {
          "base_uri": "https://localhost:8080/"
        },
        "outputId": "78d11072-c889-4524-b9de-02be4ba0d18e"
      },
      "source": [
        "%%time\n",
        "Text.build_vocab(train, vectors = \"glove.6B.300d\", unk_init = torch.Tensor.normal_)\n",
        "Label.build_vocab(train)"
      ],
      "execution_count": null,
      "outputs": [
        {
          "output_type": "stream",
          "text": [
            ".vector_cache/glove.6B.zip: 862MB [02:40, 5.38MB/s]                           \n",
            "100%|█████████▉| 399732/400000 [00:34<00:00, 11843.36it/s]"
          ],
          "name": "stderr"
        },
        {
          "output_type": "stream",
          "text": [
            "CPU times: user 54.1 s, sys: 6.93 s, total: 1min 1s\n",
            "Wall time: 3min 47s\n"
          ],
          "name": "stdout"
        }
      ]
    },
    {
      "cell_type": "markdown",
      "metadata": {
        "id": "xvyEeEjXTGhX"
      },
      "source": [
        "By default, torchtext will add two more special tokens, <unk> for unknown words and <pad>, a padding token that will be used to pad all our text to roughly the same size to help with efficient batching on the GPU."
      ]
    },
    {
      "cell_type": "code",
      "metadata": {
        "colab": {
          "base_uri": "https://localhost:8080/"
        },
        "id": "HsOUfeGYM6Uv",
        "outputId": "f139bfe2-5124-40b7-d050-abb95fb5e072"
      },
      "source": [
        "print('Size of input vocab : ', len(Text.vocab))\n",
        "print('Size of label vocab : ', len(Label.vocab))\n",
        "print('Top 10 words appreared repeatedly :', list(Text.vocab.freqs.most_common(10)))\n",
        "print('Labels : ', Label.vocab.stoi)"
      ],
      "execution_count": null,
      "outputs": [
        {
          "output_type": "stream",
          "text": [
            "Size of input vocab :  50710\n",
            "Size of label vocab :  5\n",
            "Top 10 words appreared repeatedly : [('.', 34376), (',', 28624), ('the', 21155), ('and', 15484), ('a', 15374), ('of', 15233), ('-', 14700), (\"'\", 14602), ('to', 10782), ('is', 8413)]\n",
            "Labels :  defaultdict(None, {2: 0, 0: 1, 1: 2, 3: 3, -1: 4})\n"
          ],
          "name": "stdout"
        }
      ]
    },
    {
      "cell_type": "markdown",
      "metadata": {
        "id": "EQqMhMoDUDmn"
      },
      "source": [
        "But at first declare the device we are using."
      ]
    },
    {
      "cell_type": "markdown",
      "metadata": {
        "id": "sLWW221gTpNs"
      },
      "source": [
        "Now we need to create a data loader to feed into our training loop. Torchtext provides the BucketIterator method that will produce what it calls a Batch, which is almost, but not quite, like the data loader we used on images."
      ]
    },
    {
      "cell_type": "code",
      "metadata": {
        "id": "Zfo2QhGJUK4l"
      },
      "source": [
        "device = torch.device(\"cuda\" if torch.cuda.is_available() else \"cpu\")"
      ],
      "execution_count": null,
      "outputs": []
    },
    {
      "cell_type": "code",
      "metadata": {
        "id": "zK2ORoqdTNsM"
      },
      "source": [
        "train_iterator, valid_iterator = data.BucketIterator.splits((train, dev), batch_size = 32, \n",
        "                                                            sort_key = lambda x: len(x.text),\n",
        "                                                            sort_within_batch=True, device = device)"
      ],
      "execution_count": null,
      "outputs": []
    },
    {
      "cell_type": "markdown",
      "metadata": {
        "id": "Gg7gTFQO4fby"
      },
      "source": [
        "Save the vocabulary for later use"
      ]
    },
    {
      "cell_type": "code",
      "metadata": {
        "id": "niE9Cc6-2bD_"
      },
      "source": [
        "import os, pickle\n",
        "tokenizer_path = './tokenizer.pkl'\n",
        "with open(tokenizer_path, 'wb') as tokens: \n",
        "    pickle.dump(Text.vocab.stoi, tokens)"
      ],
      "execution_count": null,
      "outputs": []
    },
    {
      "cell_type": "markdown",
      "metadata": {
        "id": "1AbsQwqkVyAy"
      },
      "source": [
        "### Model Definition ###"
      ]
    },
    {
      "cell_type": "markdown",
      "metadata": {
        "id": "E4PED4HJWH4t"
      },
      "source": [
        "We use the Embedding and LSTM modules in PyTorch to build a simple model for classifying reviews.\n",
        "\n",
        "In this model we create three layers. \n",
        "1. First, the words in our reviews are pushed into an Embedding layer, which we have established as a 300-dimensional vector embedding. \n",
        "2. That’s then fed into a 1 stacked-LSTM with 100 hidden features (again, we’re compressing down from the 300-dimensional input like we did with images). We are using 2 LSTMs for using the dropout.\n",
        "3. Finally, the output of the LSTM (the final hidden state after processing the reviews) is pushed through a standard fully connected layer with five outputs to correspond to our five possible classes (very negative, negative, very positive, positive, or neutral)."
      ]
    },
    {
      "cell_type": "code",
      "metadata": {
        "id": "43pVRccMT0bT"
      },
      "source": [
        "import torch.nn as nn\n",
        "import torch.nn.functional as F\n",
        "\n",
        "class classifier(nn.Module):\n",
        "    \n",
        "    # Define all the layers used in model\n",
        "    def __init__(self, vocab_size, embedding_dim, hidden_dim, output_dim, n_layers, dropout,pad_idx):\n",
        "        \n",
        "        super().__init__()          \n",
        "        \n",
        "        # Embedding layer\n",
        "        self.embedding = nn.Embedding(vocab_size, embedding_dim,padding_idx = pad_idx)\n",
        "        \n",
        "        # LSTM layer\n",
        "        self.encoder = nn.LSTM(embedding_dim, \n",
        "                           hidden_dim, \n",
        "                           num_layers=n_layers, \n",
        "                           dropout=dropout,\n",
        "                           batch_first=True)\n",
        "        # try using nn.GRU or nn.RNN here and compare their performances\n",
        "        # try bidirectional and compare their performances\n",
        "        \n",
        "        # Dense layer\n",
        "        self.fc = nn.Linear(hidden_dim, output_dim)\n",
        "        \n",
        "    def forward(self, text, text_lengths):\n",
        "        \n",
        "        # text = [batch size, sent_length]\n",
        "        embedded = self.embedding(text)\n",
        "        # embedded = [batch size, sent_len, emb dim]\n",
        "      \n",
        "        # packed sequence\n",
        "        packed_embedded = nn.utils.rnn.pack_padded_sequence(embedded, text_lengths.cpu(), batch_first=True)\n",
        "        \n",
        "        packed_output, (hidden, cell) = self.encoder(packed_embedded)\n",
        "        #hidden = [batch size, num layers * num directions,hid dim]\n",
        "        #cell = [batch size, num layers * num directions,hid dim]\n",
        "    \n",
        "        # Hidden = [batch size, hid dim * num directions]\n",
        "        dense_outputs = self.fc(hidden)   \n",
        "        \n",
        "        # Final activation function softmax\n",
        "        output = F.softmax(dense_outputs[0], dim=1)\n",
        "            \n",
        "        return output"
      ],
      "execution_count": null,
      "outputs": []
    },
    {
      "cell_type": "code",
      "metadata": {
        "id": "rwBoGE_X_Fl8"
      },
      "source": [
        "# Define hyperparameters\n",
        "size_of_vocab = len(Text.vocab)\n",
        "embedding_dim = 300\n",
        "num_hidden_nodes = 256\n",
        "num_output_nodes = 5\n",
        "#num_layers = 2\n",
        "num_layers = 4\n",
        "dropout = 0.5\n",
        "PAD_IDX = Text.vocab.stoi[Text.pad_token]\n",
        "# Instantiate the model\n",
        "model = classifier(size_of_vocab, embedding_dim, num_hidden_nodes, num_output_nodes, num_layers, dropout, PAD_IDX)"
      ],
      "execution_count": null,
      "outputs": []
    },
    {
      "cell_type": "code",
      "metadata": {
        "colab": {
          "base_uri": "https://localhost:8080/"
        },
        "id": "O-pOMqzJ3eTv",
        "outputId": "a00d47d3-2345-48d5-e9a1-d6fc91ad4c20"
      },
      "source": [
        "print(model)\n",
        "\n",
        "#No. of trianable parameters\n",
        "def count_parameters(model):\n",
        "    return sum(p.numel() for p in model.parameters() if p.requires_grad)\n",
        "    \n",
        "print(f'The model has {count_parameters(model):,} trainable parameters')"
      ],
      "execution_count": null,
      "outputs": [
        {
          "output_type": "stream",
          "text": [
            "classifier(\n",
            "  (embedding): Embedding(50710, 300, padding_idx=1)\n",
            "  (encoder): LSTM(300, 256, num_layers=4, batch_first=True, dropout=0.5)\n",
            "  (fc): Linear(in_features=256, out_features=5, bias=True)\n",
            ")\n",
            "The model has 17,364,685 trainable parameters\n"
          ],
          "name": "stdout"
        }
      ]
    },
    {
      "cell_type": "code",
      "metadata": {
        "colab": {
          "base_uri": "https://localhost:8080/"
        },
        "id": "wfsilWoWvgmW",
        "outputId": "90697b17-3d63-4b02-884d-9c851d7f5bd5"
      },
      "source": [
        "pretrained_embeddings = Text.vocab.vectors\n",
        "\n",
        "print(pretrained_embeddings.shape)"
      ],
      "execution_count": null,
      "outputs": [
        {
          "output_type": "stream",
          "text": [
            "torch.Size([50710, 300])\n"
          ],
          "name": "stdout"
        }
      ]
    },
    {
      "cell_type": "code",
      "metadata": {
        "colab": {
          "base_uri": "https://localhost:8080/"
        },
        "id": "VLmyKqqrvkXl",
        "outputId": "7941f66e-4f54-47ed-8471-efd7933f2876"
      },
      "source": [
        "model.embedding.weight.data.copy_(pretrained_embeddings)"
      ],
      "execution_count": null,
      "outputs": [
        {
          "output_type": "execute_result",
          "data": {
            "text/plain": [
              "tensor([[-0.0166, -0.4668,  2.0909,  ...,  0.3555, -1.2744,  0.5221],\n",
              "        [-1.6279,  1.1723,  0.0272,  ..., -0.5068,  0.5402, -0.6818],\n",
              "        [-0.1256,  0.0136,  0.1031,  ..., -0.3422, -0.0224,  0.1368],\n",
              "        ...,\n",
              "        [-1.3343,  0.3264,  0.4555,  ..., -0.1328, -0.5452,  0.3333],\n",
              "        [-0.2308,  0.1045, -1.2820,  ...,  0.3164,  1.8389,  1.0549],\n",
              "        [ 0.3131,  0.0808, -0.4847,  ...,  1.0063,  0.1666,  0.4495]])"
            ]
          },
          "metadata": {
            "tags": []
          },
          "execution_count": 69
        }
      ]
    },
    {
      "cell_type": "code",
      "metadata": {
        "colab": {
          "base_uri": "https://localhost:8080/"
        },
        "id": "VVds05Wavnpp",
        "outputId": "02903042-02c3-4a7d-c0a2-36f86c50c1c3"
      },
      "source": [
        "UNK_IDX = Text.vocab.stoi[Text.unk_token]\n",
        "\n",
        "model.embedding.weight.data[UNK_IDX] = torch.zeros(embedding_dim)\n",
        "model.embedding.weight.data[PAD_IDX] = torch.zeros(embedding_dim)\n",
        "\n",
        "print(model.embedding.weight.data)"
      ],
      "execution_count": null,
      "outputs": [
        {
          "output_type": "stream",
          "text": [
            "tensor([[ 0.0000,  0.0000,  0.0000,  ...,  0.0000,  0.0000,  0.0000],\n",
            "        [ 0.0000,  0.0000,  0.0000,  ...,  0.0000,  0.0000,  0.0000],\n",
            "        [-0.1256,  0.0136,  0.1031,  ..., -0.3422, -0.0224,  0.1368],\n",
            "        ...,\n",
            "        [-1.3343,  0.3264,  0.4555,  ..., -0.1328, -0.5452,  0.3333],\n",
            "        [-0.2308,  0.1045, -1.2820,  ...,  0.3164,  1.8389,  1.0549],\n",
            "        [ 0.3131,  0.0808, -0.4847,  ...,  1.0063,  0.1666,  0.4495]])\n"
          ],
          "name": "stdout"
        }
      ]
    },
    {
      "cell_type": "markdown",
      "metadata": {
        "id": "eXajorf5Xz7t"
      },
      "source": [
        "### Model Training and Evaluation ###"
      ]
    },
    {
      "cell_type": "markdown",
      "metadata": {
        "id": "PrE9RpMtZ1Vs"
      },
      "source": [
        "First define the optimizer and loss functions"
      ]
    },
    {
      "cell_type": "code",
      "metadata": {
        "id": "-u86JWdlXvu5",
        "colab": {
          "base_uri": "https://localhost:8080/"
        },
        "outputId": "a4b6d387-34aa-49ad-af23-3a505b2084c1"
      },
      "source": [
        "%%time\n",
        "import torch.optim as optim\n",
        "\n",
        "# define optimizer and loss\n",
        "optimizer = optim.Adam(model.parameters(), lr=2e-4)\n",
        "criterion = nn.CrossEntropyLoss()\n",
        "\n",
        "# define metric\n",
        "def binary_accuracy(preds, y):\n",
        "    #round predictions to the closest integer\n",
        "    _, predictions = torch.max(preds, 1)\n",
        "    \n",
        "    correct = (predictions == y).float() \n",
        "    acc = correct.sum() / len(correct)\n",
        "    return acc\n",
        "    \n",
        "# push to cuda if available\n",
        "model = model.to(device)\n",
        "criterion = criterion.to(device)"
      ],
      "execution_count": null,
      "outputs": [
        {
          "output_type": "stream",
          "text": [
            "CPU times: user 2.33 s, sys: 1.05 s, total: 3.38 s\n",
            "Wall time: 11.1 s\n"
          ],
          "name": "stdout"
        }
      ]
    },
    {
      "cell_type": "markdown",
      "metadata": {
        "id": "3VCJtNb3Zt8w"
      },
      "source": [
        "The main thing to be aware of in this new training loop is that we have to reference `batch.texts` and `batch.labels` to get the particular fields we’re interested in; they don’t fall out quite as nicely from the enumerator as they do in torchvision."
      ]
    },
    {
      "cell_type": "markdown",
      "metadata": {
        "id": "2WjEPLKsAiS_"
      },
      "source": [
        "**Training Loop**"
      ]
    },
    {
      "cell_type": "code",
      "metadata": {
        "id": "HDWNnGK3Y5oJ"
      },
      "source": [
        "def train(model, iterator, optimizer, criterion):\n",
        "    \n",
        "    # initialize every epoch \n",
        "    epoch_loss = 0\n",
        "    epoch_acc = 0\n",
        "    \n",
        "    # set the model in training phase\n",
        "    model.train()  \n",
        "    \n",
        "    for batch in iterator:\n",
        "        \n",
        "        # resets the gradients after every batch\n",
        "        optimizer.zero_grad()   \n",
        "        \n",
        "        # retrieve text and no. of words\n",
        "        text, text_lengths = batch.text\n",
        "        \n",
        "        # convert to 1D tensor\n",
        "        predictions = model(text, text_lengths).squeeze()  \n",
        "        \n",
        "        # compute the loss\n",
        "        loss = criterion(predictions, batch.label)        \n",
        "        \n",
        "        # compute the binary accuracy\n",
        "        acc = binary_accuracy(predictions, batch.label)   \n",
        "        \n",
        "        # backpropage the loss and compute the gradients\n",
        "        loss.backward()       \n",
        "        \n",
        "        # update the weights\n",
        "        optimizer.step()      \n",
        "        \n",
        "        # loss and accuracy\n",
        "        epoch_loss += loss.item()  \n",
        "        epoch_acc += acc.item()    \n",
        "        \n",
        "    return epoch_loss / len(iterator), epoch_acc / len(iterator)"
      ],
      "execution_count": null,
      "outputs": []
    },
    {
      "cell_type": "markdown",
      "metadata": {
        "id": "CZcHhkkvAsCt"
      },
      "source": [
        "**Evaluation Loop**"
      ]
    },
    {
      "cell_type": "code",
      "metadata": {
        "id": "zHEe-zSVAriL"
      },
      "source": [
        "def evaluate(model, iterator, criterion):\n",
        "    \n",
        "    # initialize every epoch\n",
        "    epoch_loss = 0\n",
        "    epoch_acc = 0\n",
        "\n",
        "    # deactivating dropout layers\n",
        "    model.eval()\n",
        "    \n",
        "    # deactivates autograd\n",
        "    with torch.no_grad():\n",
        "    \n",
        "        for batch in iterator:\n",
        "        \n",
        "            # retrieve text and no. of words\n",
        "            text, text_lengths = batch.text\n",
        "            \n",
        "            # convert to 1d tensor\n",
        "            predictions = model(text, text_lengths).squeeze()\n",
        "            \n",
        "            # compute loss and accuracy\n",
        "            loss = criterion(predictions, batch.label)\n",
        "            acc = binary_accuracy(predictions, batch.label)\n",
        "            \n",
        "            # keep track of loss and accuracy\n",
        "            epoch_loss += loss.item()\n",
        "            epoch_acc += acc.item()\n",
        "        \n",
        "    return epoch_loss / len(iterator), epoch_acc / len(iterator)"
      ],
      "execution_count": null,
      "outputs": []
    },
    {
      "cell_type": "markdown",
      "metadata": {
        "id": "L6LJFW7HaJoV"
      },
      "source": [
        "**Let's Train and Evaluate the Model**"
      ]
    },
    {
      "cell_type": "code",
      "metadata": {
        "colab": {
          "base_uri": "https://localhost:8080/"
        },
        "id": "tq330XlnaEU9",
        "outputId": "f5824d2b-823b-4763-8c39-7246823b4b87"
      },
      "source": [
        "%%time\n",
        "N_EPOCHS = 40\n",
        "best_valid_loss = float('inf')\n",
        "train_loss_trend=[]\n",
        "valid_loss_trend=[]\n",
        "train_acc_trend=[]\n",
        "valid_acc_trend=[]\n",
        "model_path='./saved_weights.pt'\n",
        "\n",
        "for epoch in range(N_EPOCHS):\n",
        "     \n",
        "    # train the model\n",
        "    train_loss, train_acc = train(model, train_iterator, optimizer, criterion)\n",
        "    train_loss_trend.append(train_loss)\n",
        "    train_acc_trend.append(train_acc)\n",
        "    \n",
        "    # evaluate the model\n",
        "    valid_loss, valid_acc = evaluate(model, valid_iterator, criterion)\n",
        "    valid_loss_trend.append(valid_loss)\n",
        "    valid_acc_trend.append(valid_acc)\n",
        "\n",
        "    # save the best model\n",
        "    if valid_loss < best_valid_loss:\n",
        "        best_valid_loss = valid_loss\n",
        "        torch.save(model.state_dict(), model_path)\n",
        "    \n",
        "\n",
        "    print('\\n\\tEpoch No: ', epoch)\n",
        "    print(f'\\tTrain Loss: {train_loss:.3f} | Train Acc: {train_acc*100:.2f}%')\n",
        "    print(f'\\t Val. Loss: {valid_loss:.3f} |  Val. Acc: {valid_acc*100:.2f}% \\n')"
      ],
      "execution_count": null,
      "outputs": [
        {
          "output_type": "stream",
          "text": [
            "\r100%|█████████▉| 399732/400000 [00:50<00:00, 11843.36it/s]"
          ],
          "name": "stderr"
        },
        {
          "output_type": "stream",
          "text": [
            "\n",
            "\tEpoch No:  0\n",
            "\tTrain Loss: 1.534 | Train Acc: 34.82%\n",
            "\t Val. Loss: 1.493 |  Val. Acc: 39.83% \n",
            "\n",
            "\n",
            "\tEpoch No:  1\n",
            "\tTrain Loss: 1.457 | Train Acc: 43.57%\n",
            "\t Val. Loss: 1.446 |  Val. Acc: 44.92% \n",
            "\n",
            "\n",
            "\tEpoch No:  2\n",
            "\tTrain Loss: 1.385 | Train Acc: 51.51%\n",
            "\t Val. Loss: 1.414 |  Val. Acc: 48.13% \n",
            "\n",
            "\n",
            "\tEpoch No:  3\n",
            "\tTrain Loss: 1.326 | Train Acc: 57.89%\n",
            "\t Val. Loss: 1.402 |  Val. Acc: 49.28% \n",
            "\n",
            "\n",
            "\tEpoch No:  4\n",
            "\tTrain Loss: 1.278 | Train Acc: 62.66%\n",
            "\t Val. Loss: 1.382 |  Val. Acc: 51.41% \n",
            "\n",
            "\n",
            "\tEpoch No:  5\n",
            "\tTrain Loss: 1.234 | Train Acc: 67.13%\n",
            "\t Val. Loss: 1.363 |  Val. Acc: 53.38% \n",
            "\n",
            "\n",
            "\tEpoch No:  6\n",
            "\tTrain Loss: 1.197 | Train Acc: 70.98%\n",
            "\t Val. Loss: 1.353 |  Val. Acc: 54.33% \n",
            "\n",
            "\n",
            "\tEpoch No:  7\n",
            "\tTrain Loss: 1.163 | Train Acc: 74.45%\n",
            "\t Val. Loss: 1.330 |  Val. Acc: 56.73% \n",
            "\n",
            "\n",
            "\tEpoch No:  8\n",
            "\tTrain Loss: 1.133 | Train Acc: 77.42%\n",
            "\t Val. Loss: 1.314 |  Val. Acc: 58.37% \n",
            "\n",
            "\n",
            "\tEpoch No:  9\n",
            "\tTrain Loss: 1.112 | Train Acc: 79.50%\n",
            "\t Val. Loss: 1.313 |  Val. Acc: 58.44% \n",
            "\n",
            "\n",
            "\tEpoch No:  10\n",
            "\tTrain Loss: 1.092 | Train Acc: 81.46%\n",
            "\t Val. Loss: 1.308 |  Val. Acc: 58.90% \n",
            "\n",
            "\n",
            "\tEpoch No:  11\n",
            "\tTrain Loss: 1.078 | Train Acc: 82.91%\n",
            "\t Val. Loss: 1.301 |  Val. Acc: 59.71% \n",
            "\n",
            "\n",
            "\tEpoch No:  12\n",
            "\tTrain Loss: 1.066 | Train Acc: 83.93%\n",
            "\t Val. Loss: 1.293 |  Val. Acc: 60.73% \n",
            "\n",
            "\n",
            "\tEpoch No:  13\n",
            "\tTrain Loss: 1.056 | Train Acc: 84.93%\n",
            "\t Val. Loss: 1.290 |  Val. Acc: 60.93% \n",
            "\n",
            "\n",
            "\tEpoch No:  14\n",
            "\tTrain Loss: 1.048 | Train Acc: 85.67%\n",
            "\t Val. Loss: 1.278 |  Val. Acc: 62.27% \n",
            "\n",
            "\n",
            "\tEpoch No:  15\n",
            "\tTrain Loss: 1.043 | Train Acc: 86.19%\n",
            "\t Val. Loss: 1.282 |  Val. Acc: 61.57% \n",
            "\n",
            "\n",
            "\tEpoch No:  16\n",
            "\tTrain Loss: 1.035 | Train Acc: 86.94%\n",
            "\t Val. Loss: 1.271 |  Val. Acc: 62.75% \n",
            "\n",
            "\n",
            "\tEpoch No:  17\n",
            "\tTrain Loss: 1.030 | Train Acc: 87.43%\n",
            "\t Val. Loss: 1.267 |  Val. Acc: 63.11% \n",
            "\n",
            "\n",
            "\tEpoch No:  18\n",
            "\tTrain Loss: 1.024 | Train Acc: 88.10%\n",
            "\t Val. Loss: 1.260 |  Val. Acc: 64.00% \n",
            "\n",
            "\n",
            "\tEpoch No:  19\n",
            "\tTrain Loss: 1.018 | Train Acc: 88.62%\n",
            "\t Val. Loss: 1.254 |  Val. Acc: 64.59% \n",
            "\n",
            "\n",
            "\tEpoch No:  20\n",
            "\tTrain Loss: 1.014 | Train Acc: 89.05%\n",
            "\t Val. Loss: 1.261 |  Val. Acc: 63.88% \n",
            "\n",
            "\n",
            "\tEpoch No:  21\n",
            "\tTrain Loss: 1.012 | Train Acc: 89.35%\n",
            "\t Val. Loss: 1.256 |  Val. Acc: 64.35% \n",
            "\n",
            "\n",
            "\tEpoch No:  22\n",
            "\tTrain Loss: 1.007 | Train Acc: 89.71%\n",
            "\t Val. Loss: 1.242 |  Val. Acc: 65.77% \n",
            "\n",
            "\n",
            "\tEpoch No:  23\n",
            "\tTrain Loss: 1.003 | Train Acc: 90.11%\n",
            "\t Val. Loss: 1.242 |  Val. Acc: 65.86% \n",
            "\n",
            "\n",
            "\tEpoch No:  24\n",
            "\tTrain Loss: 1.001 | Train Acc: 90.33%\n",
            "\t Val. Loss: 1.243 |  Val. Acc: 65.63% \n",
            "\n",
            "\n",
            "\tEpoch No:  25\n",
            "\tTrain Loss: 0.998 | Train Acc: 90.65%\n",
            "\t Val. Loss: 1.245 |  Val. Acc: 65.41% \n",
            "\n",
            "\n",
            "\tEpoch No:  26\n",
            "\tTrain Loss: 0.995 | Train Acc: 90.91%\n",
            "\t Val. Loss: 1.238 |  Val. Acc: 66.21% \n",
            "\n",
            "\n",
            "\tEpoch No:  27\n",
            "\tTrain Loss: 0.993 | Train Acc: 91.17%\n",
            "\t Val. Loss: 1.236 |  Val. Acc: 66.39% \n",
            "\n",
            "\n",
            "\tEpoch No:  28\n",
            "\tTrain Loss: 0.990 | Train Acc: 91.43%\n",
            "\t Val. Loss: 1.228 |  Val. Acc: 67.02% \n",
            "\n",
            "\n",
            "\tEpoch No:  29\n",
            "\tTrain Loss: 0.989 | Train Acc: 91.56%\n",
            "\t Val. Loss: 1.232 |  Val. Acc: 66.73% \n",
            "\n",
            "\n",
            "\tEpoch No:  30\n",
            "\tTrain Loss: 0.986 | Train Acc: 91.82%\n",
            "\t Val. Loss: 1.226 |  Val. Acc: 67.47% \n",
            "\n",
            "\n",
            "\tEpoch No:  31\n",
            "\tTrain Loss: 0.984 | Train Acc: 92.02%\n",
            "\t Val. Loss: 1.224 |  Val. Acc: 67.69% \n",
            "\n",
            "\n",
            "\tEpoch No:  32\n",
            "\tTrain Loss: 0.983 | Train Acc: 92.15%\n",
            "\t Val. Loss: 1.219 |  Val. Acc: 68.08% \n",
            "\n",
            "\n",
            "\tEpoch No:  33\n",
            "\tTrain Loss: 0.981 | Train Acc: 92.32%\n",
            "\t Val. Loss: 1.226 |  Val. Acc: 67.39% \n",
            "\n",
            "\n",
            "\tEpoch No:  34\n",
            "\tTrain Loss: 0.980 | Train Acc: 92.40%\n",
            "\t Val. Loss: 1.225 |  Val. Acc: 67.61% \n",
            "\n",
            "\n",
            "\tEpoch No:  35\n",
            "\tTrain Loss: 0.978 | Train Acc: 92.64%\n",
            "\t Val. Loss: 1.220 |  Val. Acc: 68.12% \n",
            "\n",
            "\n",
            "\tEpoch No:  36\n",
            "\tTrain Loss: 0.977 | Train Acc: 92.76%\n",
            "\t Val. Loss: 1.215 |  Val. Acc: 68.73% \n",
            "\n",
            "\n",
            "\tEpoch No:  37\n",
            "\tTrain Loss: 0.976 | Train Acc: 92.82%\n",
            "\t Val. Loss: 1.222 |  Val. Acc: 67.87% \n",
            "\n",
            "\n",
            "\tEpoch No:  38\n",
            "\tTrain Loss: 0.974 | Train Acc: 93.10%\n",
            "\t Val. Loss: 1.216 |  Val. Acc: 68.43% \n",
            "\n",
            "\n",
            "\tEpoch No:  39\n",
            "\tTrain Loss: 0.973 | Train Acc: 93.17%\n",
            "\t Val. Loss: 1.216 |  Val. Acc: 68.43% \n",
            "\n",
            "CPU times: user 11min 19s, sys: 7.66 s, total: 11min 26s\n",
            "Wall time: 11min 29s\n"
          ],
          "name": "stdout"
        }
      ]
    },
    {
      "cell_type": "code",
      "metadata": {
        "colab": {
          "base_uri": "https://localhost:8080/",
          "height": 281
        },
        "id": "hMOi6rIXwZ14",
        "outputId": "a62e88e6-102d-45a2-fef6-8ece054992f3"
      },
      "source": [
        "import matplotlib.pyplot as plt\n",
        "plt.plot(train_loss_trend,label='train loss',color=\"red\")\n",
        "plt.plot(valid_loss_trend,label='validation loss ',color=\"blue\")\n",
        "plt.title(\"Train and Validation Loss\")\n",
        "plt.legend()\n",
        "plt.show()"
      ],
      "execution_count": null,
      "outputs": [
        {
          "output_type": "display_data",
          "data": {
            "image/png": "[encoded data removed]",
            "text/plain": [
              "<Figure size 432x288 with 1 Axes>"
            ]
          },
          "metadata": {
            "tags": [],
            "needs_background": "light"
          }
        }
      ]
    },
    {
      "cell_type": "code",
      "metadata": {
        "colab": {
          "base_uri": "https://localhost:8080/",
          "height": 281
        },
        "id": "68K5xugEHI5a",
        "outputId": "343ca7c6-9dca-456a-b052-2bc62521a327"
      },
      "source": [
        "plt.plot(train_acc_trend,label='train accuracy',color=\"red\")\n",
        "plt.plot(valid_acc_trend,label='validation accuracy',color=\"blue\")\n",
        "plt.title(\"Train and Validation Accuracy\")\n",
        "plt.legend()\n",
        "plt.show()"
      ],
      "execution_count": null,
      "outputs": [
        {
          "output_type": "display_data",
          "data": {
            "image/png": "[encoded data removed]",
            "text/plain": [
              "<Figure size 432x288 with 1 Axes>"
            ]
          },
          "metadata": {
            "tags": [],
            "needs_background": "light"
          }
        }
      ]
    },
    {
      "cell_type": "markdown",
      "metadata": {
        "id": "0qMZfpFHwGnx"
      },
      "source": [
        "\n",
        "###Model Testing###\n",
        "\n",
        "**Let's Test the Model**\n",
        "\n",
        "The model will be evaluated with the test data that was not used for training.\n"
      ]
    },
    {
      "cell_type": "code",
      "metadata": {
        "id": "m2PQw6R2xgdx",
        "colab": {
          "base_uri": "https://localhost:8080/"
        },
        "outputId": "848fe992-b27f-4519-9ac4-b7fb4d05e327"
      },
      "source": [
        "%%time\n",
        "example_test=[data.Example.fromlist([data_dict['test'].text[i],data_dict['test'].label[i]],fields) for i in range (data_dict['test'].shape[0])]\n",
        "test = data.Dataset(example_test, fields)\n",
        "test_iterator=data.BucketIterator(test,batch_size=32,\n",
        "                                  sort_key = lambda x: len(x.text),\n",
        "                                  sort_within_batch=True,device=device)"
      ],
      "execution_count": null,
      "outputs": [
        {
          "output_type": "stream",
          "text": [
            "CPU times: user 12min 22s, sys: 7.36 s, total: 12min 30s\n",
            "Wall time: 12min 28s\n"
          ],
          "name": "stdout"
        }
      ]
    },
    {
      "cell_type": "code",
      "metadata": {
        "colab": {
          "base_uri": "https://localhost:8080/"
        },
        "id": "_n3T0jMcwL5R",
        "outputId": "edbd4f5b-8d1b-479c-e6d8-cd817d1c9f8b"
      },
      "source": [
        "model.load_state_dict(torch.load(model_path))\n",
        "test_loss, test_acc = evaluate(model, test_iterator, criterion)\n",
        "print(f'Test Loss: {test_loss:.3f} | Test Acc: {test_acc*100:.2f}%')"
      ],
      "execution_count": null,
      "outputs": [
        {
          "output_type": "stream",
          "text": [
            "Test Loss: 1.222 | Test Acc: 67.97%\n"
          ],
          "name": "stdout"
        }
      ]
    },
    {
      "cell_type": "markdown",
      "metadata": {
        "id": "t3BExxED0Iww"
      },
      "source": [
        "###Predict Sentiment###\n",
        "The sentiment is predicted on unseen data, which was never part of the dev, train, test sets. Let's see how the model fares."
      ]
    },
    {
      "cell_type": "code",
      "metadata": {
        "id": "JJQhZSbFylPo"
      },
      "source": [
        "model.load_state_dict(torch.load(model_path))\n",
        "model.eval()\n",
        "tokenizer_file = open(tokenizer_path, 'rb')\n",
        "tokenizer = pickle.load(tokenizer_file)\n",
        "\n",
        "#inference \n",
        "\n",
        "import spacy\n",
        "# load trf instead of base 'en' for greater accuracy\n",
        "nlp = spacy.load('en') \n",
        "\n",
        "\n",
        "def predict_sentiment(text):\n",
        "    #very negative to very positive (- -, -, 0, +, ++)\n",
        "    #Labels :  defaultdict(None, {3: 0, 1: 1, 2: 2, 4: 3, 0: 4})\n",
        "    \n",
        "    categories = {3: \"very negative\", 1:\"negative\", 2:\"Neutral\",4:\"positive\",0:\"very positive\"}\n",
        "    \n",
        "    # tokenize the text \n",
        "    tokenized = [tok.text for tok in nlp.tokenizer(text)] \n",
        "    # convert to integer sequence using predefined tokenizer dictionary\n",
        "    indexed = [tokenizer[t] for t in tokenized]        \n",
        "    # compute no. of words        \n",
        "    length = [len(indexed)]\n",
        "    # convert to tensor                                    \n",
        "    tensor = torch.LongTensor(indexed).to(device)   \n",
        "    # reshape in form of batch, no. of words           \n",
        "    tensor = tensor.unsqueeze(1).T  \n",
        "    # convert to tensor                          \n",
        "    length_tensor = torch.LongTensor(length)\n",
        "    # Get the model prediction                  \n",
        "    prediction = model(tensor, length_tensor)\n",
        "\n",
        "    _, pred = torch.max(prediction, 1) \n",
        "    \n",
        "    return categories[pred.item()]"
      ],
      "execution_count": null,
      "outputs": []
    },
    {
      "cell_type": "code",
      "metadata": {
        "colab": {
          "base_uri": "https://localhost:8080/",
          "height": 35
        },
        "id": "y7WvOj6uyz6_",
        "outputId": "a4ef1a63-811a-4c3f-d92a-5024c778a251"
      },
      "source": [
        "# review of mission impossible 5\n",
        "predict_sentiment(\"Make no mistake, this predictable movie is clearly part of the Mission: Impossible franchise -- by which we mean it checks off all the usual boxes.\")"
      ],
      "execution_count": null,
      "outputs": [
        {
          "output_type": "execute_result",
          "data": {
            "application/vnd.google.colaboratory.intrinsic+json": {
              "type": "string"
            },
            "text/plain": [
              "'negative'"
            ]
          },
          "metadata": {
            "tags": []
          },
          "execution_count": 80
        }
      ]
    },
    {
      "cell_type": "code",
      "metadata": {
        "colab": {
          "base_uri": "https://localhost:8080/",
          "height": 35
        },
        "id": "3TDESIEuzHGn",
        "outputId": "4c7270c8-ffde-4a21-9642-31a0d8b2e08d"
      },
      "source": [
        "# review of minari\n",
        "predict_sentiment(\"Minari is deeply rooted in the earth, a wellspring of both hope and pain, of boundless promise and terrifying disaster.\")"
      ],
      "execution_count": null,
      "outputs": [
        {
          "output_type": "execute_result",
          "data": {
            "application/vnd.google.colaboratory.intrinsic+json": {
              "type": "string"
            },
            "text/plain": [
              "'very negative'"
            ]
          },
          "metadata": {
            "tags": []
          },
          "execution_count": 81
        }
      ]
    },
    {
      "cell_type": "code",
      "metadata": {
        "colab": {
          "base_uri": "https://localhost:8080/",
          "height": 35
        },
        "id": "-D_9EwqCzasf",
        "outputId": "007981fc-a3e5-4b20-e985-795b881760f8"
      },
      "source": [
        "# review of godzilla vs kong\n",
        "predict_sentiment(\"In a patchwork production full of bad ideas poorly executed, Jia also embodies the story’s only good idea.\")"
      ],
      "execution_count": null,
      "outputs": [
        {
          "output_type": "execute_result",
          "data": {
            "application/vnd.google.colaboratory.intrinsic+json": {
              "type": "string"
            },
            "text/plain": [
              "'very negative'"
            ]
          },
          "metadata": {
            "tags": []
          },
          "execution_count": 82
        }
      ]
    },
    {
      "cell_type": "code",
      "metadata": {
        "colab": {
          "base_uri": "https://localhost:8080/",
          "height": 35
        },
        "id": "M26zaohKz0ko",
        "outputId": "1c9a9aac-4d81-469f-f39c-76195c1c4fb3"
      },
      "source": [
        "# review of lunch box\n",
        "predict_sentiment(\"Irrfan leads the way, underplayed, yet lasting, like a cardamom between your lips.\")"
      ],
      "execution_count": null,
      "outputs": [
        {
          "output_type": "execute_result",
          "data": {
            "application/vnd.google.colaboratory.intrinsic+json": {
              "type": "string"
            },
            "text/plain": [
              "'negative'"
            ]
          },
          "metadata": {
            "tags": []
          },
          "execution_count": 83
        }
      ]
    },
    {
      "cell_type": "code",
      "metadata": {
        "colab": {
          "base_uri": "https://localhost:8080/",
          "height": 35
        },
        "id": "HGXqOxBHz_X_",
        "outputId": "a31f116b-4179-4b15-b36a-c5f34252cd04"
      },
      "source": [
        "# review of avengers endgame\n",
        "predict_sentiment(\"The Russo brothers' poignant, powerful finale more than lives up to the hype: It's a thrilling conclusion and a deeply emotional exploration of loss and love, duty and honor, friendship and family.\")"
      ],
      "execution_count": null,
      "outputs": [
        {
          "output_type": "execute_result",
          "data": {
            "application/vnd.google.colaboratory.intrinsic+json": {
              "type": "string"
            },
            "text/plain": [
              "'very negative'"
            ]
          },
          "metadata": {
            "tags": []
          },
          "execution_count": 84
        }
      ]
    },
    {
      "cell_type": "code",
      "metadata": {
        "colab": {
          "base_uri": "https://localhost:8080/",
          "height": 35
        },
        "id": "nHhYZu6B0cyw",
        "outputId": "cd44ddf3-d15d-45a9-d760-6fed4aef6803"
      },
      "source": [
        "# review of godfather\n",
        "predict_sentiment(\"With performances, style and substance to savour, this shows how it is possible to smash box office records without being mindless.\")"
      ],
      "execution_count": null,
      "outputs": [
        {
          "output_type": "execute_result",
          "data": {
            "application/vnd.google.colaboratory.intrinsic+json": {
              "type": "string"
            },
            "text/plain": [
              "'very positive'"
            ]
          },
          "metadata": {
            "tags": []
          },
          "execution_count": 85
        }
      ]
    },
    {
      "cell_type": "code",
      "metadata": {
        "colab": {
          "base_uri": "https://localhost:8080/",
          "height": 35
        },
        "id": "SLqSlz7q0kwO",
        "outputId": "a7dc94a4-662a-468d-fe1f-a5caa655426d"
      },
      "source": [
        "# review of saving private ryan\n",
        "predict_sentiment(\"Uncompromising, powerful war movie that does not pull any punches. Pefectly balances the inhumanity of war and the humanity of its protagonists. Devastating and essential viewing.\")"
      ],
      "execution_count": null,
      "outputs": [
        {
          "output_type": "execute_result",
          "data": {
            "application/vnd.google.colaboratory.intrinsic+json": {
              "type": "string"
            },
            "text/plain": [
              "'very negative'"
            ]
          },
          "metadata": {
            "tags": []
          },
          "execution_count": 86
        }
      ]
    }
  ]
}